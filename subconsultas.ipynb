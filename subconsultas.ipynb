{
    "metadata": {
        "kernelspec": {
            "name": "SQL",
            "display_name": "SQL",
            "language": "sql"
        },
        "language_info": {
            "name": "sql",
            "version": ""
        }
    },
    "nbformat_minor": 2,
    "nbformat": 4,
    "cells": [
        {
            "cell_type": "markdown",
            "source": [
                "### Lunes 23 de Septiembre de 2025\n",
                "\n",
                "Gomez Trejo Ezequiel   421003866"
            ],
            "metadata": {
                "azdata_cell_guid": "e3524efa-7ba8-446d-acf1-51f5980c88c7"
            },
            "attachments": {}
        },
        {
            "cell_type": "markdown",
            "source": [
                "# **Ejemplos de Subconsultas SQL en BD BikeStores**"
            ],
            "metadata": {
                "azdata_cell_guid": "d2a114e9-b229-4bd6-ad86-c1a7266e93eb"
            },
            "attachments": {}
        },
        {
            "cell_type": "markdown",
            "source": [
                "### **1\\. Encontrar los pedidos de venta de los clientes que se ubican en New York.**"
            ],
            "metadata": {
                "azdata_cell_guid": "6ac2c0ea-7767-4a6f-bd9b-54c33816b13a"
            },
            "attachments": {}
        },
        {
            "cell_type": "code",
            "source": [
                "SELECT order_id, order_date, customer_id\r\n",
                "FROM sales.orders\r\n",
                "WHERE customer_id IN (\r\n",
                "    SELECT customer_id\r\n",
                "    FROM sales.customers\r\n",
                "    WHERE city = 'New York')\r\n",
                "ORDER BY order_date DESC; "
            ],
            "metadata": {
                "azdata_cell_guid": "154e4662-33a5-464f-aa99-b40115fe25ea",
                "language": "sql"
            },
            "outputs": [
                {
                    "output_type": "display_data",
                    "data": {
                        "text/html": "(9 filas afectadas)"
                    },
                    "metadata": {}
                },
                {
                    "output_type": "display_data",
                    "data": {
                        "text/html": "Tiempo total de ejecución: 00:00:00.112"
                    },
                    "metadata": {}
                },
                {
                    "output_type": "execute_result",
                    "execution_count": 1,
                    "data": {
                        "application/vnd.dataresource+json": {
                            "schema": {
                                "fields": [
                                    {
                                        "name": "order_id"
                                    },
                                    {
                                        "name": "order_date"
                                    },
                                    {
                                        "name": "customer_id"
                                    }
                                ]
                            },
                            "data": [
                                {
                                    "order_id": "1510",
                                    "order_date": "2018-04-09",
                                    "customer_id": "16"
                                },
                                {
                                    "order_id": "1351",
                                    "order_date": "2018-01-16",
                                    "customer_id": "1016"
                                },
                                {
                                    "order_id": "1020",
                                    "order_date": "2017-07-23",
                                    "customer_id": "16"
                                },
                                {
                                    "order_id": "572",
                                    "order_date": "2016-11-24",
                                    "customer_id": "178"
                                },
                                {
                                    "order_id": "514",
                                    "order_date": "2016-10-19",
                                    "customer_id": "927"
                                },
                                {
                                    "order_id": "352",
                                    "order_date": "2016-08-03",
                                    "customer_id": "16"
                                },
                                {
                                    "order_id": "274",
                                    "order_date": "2016-06-17",
                                    "customer_id": "411"
                                },
                                {
                                    "order_id": "182",
                                    "order_date": "2016-04-18",
                                    "customer_id": "854"
                                },
                                {
                                    "order_id": "120",
                                    "order_date": "2016-03-14",
                                    "customer_id": "327"
                                }
                            ]
                        },
                        "text/html": "<table><tr><th>order_id</th><th>order_date</th><th>customer_id</th></tr><tr><td>1510</td><td>2018-04-09</td><td>16</td></tr><tr><td>1351</td><td>2018-01-16</td><td>1016</td></tr><tr><td>1020</td><td>2017-07-23</td><td>16</td></tr><tr><td>572</td><td>2016-11-24</td><td>178</td></tr><tr><td>514</td><td>2016-10-19</td><td>927</td></tr><tr><td>352</td><td>2016-08-03</td><td>16</td></tr><tr><td>274</td><td>2016-06-17</td><td>411</td></tr><tr><td>182</td><td>2016-04-18</td><td>854</td></tr><tr><td>120</td><td>2016-03-14</td><td>327</td></tr></table>"
                    },
                    "metadata": {}
                }
            ],
            "execution_count": 1
        },
        {
            "cell_type": "markdown",
            "source": [
                "### **2. Una subconsulta se puede anidar dentro de otra subconsulta. SQL Server admite hasta 32.**"
            ],
            "metadata": {
                "azdata_cell_guid": "b6fc6519-3479-49fc-a680-2375ab5d1329"
            },
            "attachments": {}
        },
        {
            "cell_type": "code",
            "source": [
                "SELECT product_name, list_price\r\n",
                "FROM production.products\r\n",
                "WHERE list_price > (\r\n",
                "    SELECT AVG (list_price)\r\n",
                "\tFROM production.products\r\n",
                "    WHERE brand_id IN (\r\n",
                "        SELECT brand_id\r\n",
                "\t    FROM production.brands\r\n",
                "\t\tWHERE brand_name = 'Strider' OR brand_name = 'Trek'\r\n",
                "\t)\r\n",
                ")\r\n",
                "ORDER BY list_price; "
            ],
            "metadata": {
                "azdata_cell_guid": "f2826454-8bfb-4c44-897d-9a91b3628b71",
                "language": "sql"
            },
            "outputs": [
                {
                    "output_type": "display_data",
                    "data": {
                        "text/html": "(80 filas afectadas)"
                    },
                    "metadata": {}
                },
                {
                    "output_type": "display_data",
                    "data": {
                        "text/html": "Tiempo total de ejecución: 00:00:00.028"
                    },
                    "metadata": {}
                },
                {
                    "output_type": "execute_result",
                    "execution_count": 2,
                    "data": {
                        "application/vnd.dataresource+json": {
                            "schema": {
                                "fields": [
                                    {
                                        "name": "product_name"
                                    },
                                    {
                                        "name": "list_price"
                                    }
                                ]
                            },
                            "data": [
                                {
                                    "product_name": "Surly Karate Monkey 27.5+ Frameset - 2017",
                                    "list_price": "2499.99"
                                },
                                {
                                    "product_name": "Trek Fuel EX 7 29 - 2018",
                                    "list_price": "2499.99"
                                },
                                {
                                    "product_name": "Surly Krampus Frameset - 2018",
                                    "list_price": "2499.99"
                                },
                                {
                                    "product_name": "Surly Troll Frameset - 2018",
                                    "list_price": "2499.99"
                                },
                                {
                                    "product_name": "Trek Domane SL 5 Disc Women's - 2018",
                                    "list_price": "2499.99"
                                },
                                {
                                    "product_name": "Trek 1120 - 2018",
                                    "list_price": "2499.99"
                                },
                                {
                                    "product_name": "Trek Domane SL 5 Disc - 2018",
                                    "list_price": "2499.99"
                                },
                                {
                                    "product_name": "Heller Bloodhound Trail - 2018",
                                    "list_price": "2599.00"
                                },
                                {
                                    "product_name": "Heller Shagamaw GX1 - 2018",
                                    "list_price": "2599.00"
                                },
                                {
                                    "product_name": "Trek Domane S 5 Disc - 2017",
                                    "list_price": "2599.99"
                                },
                                {
                                    "product_name": "Electra Townie Go! 8i Ladies' - 2018",
                                    "list_price": "2599.99"
                                },
                                {
                                    "product_name": "Electra Townie Go! 8i - 2017/2018",
                                    "list_price": "2599.99"
                                },
                                {
                                    "product_name": "Electra Townie Go! 8i - 2017/2018",
                                    "list_price": "2599.99"
                                },
                                {
                                    "product_name": "Electra Townie Go! 8i Ladies' - 2018",
                                    "list_price": "2599.99"
                                },
                                {
                                    "product_name": "Electra Townie Go! 8i - 2017/2018",
                                    "list_price": "2599.99"
                                },
                                {
                                    "product_name": "Trek Domane S 6 - 2017",
                                    "list_price": "2699.99"
                                },
                                {
                                    "product_name": "Trek Lift+ - 2018",
                                    "list_price": "2799.99"
                                },
                                {
                                    "product_name": "Trek Conduit+ - 2018",
                                    "list_price": "2799.99"
                                },
                                {
                                    "product_name": "Trek Neko+ - 2018",
                                    "list_price": "2799.99"
                                },
                                {
                                    "product_name": "Trek Lift+ Lowstep - 2018",
                                    "list_price": "2799.99"
                                },
                                {
                                    "product_name": "Trek Dual Sport+ - 2018",
                                    "list_price": "2799.99"
                                },
                                {
                                    "product_name": "Electra Loft Go! 8i - 2018",
                                    "list_price": "2799.99"
                                },
                                {
                                    "product_name": "Trek Checkpoint SL 5 Women's - 2019",
                                    "list_price": "2799.99"
                                },
                                {
                                    "product_name": "Trek Fuel EX 8 29 - 2016",
                                    "list_price": "2899.99"
                                },
                                {
                                    "product_name": "Trek Conduit+ - 2016",
                                    "list_price": "2999.99"
                                },
                                {
                                    "product_name": "Trek Remedy 7 27.5 - 2018",
                                    "list_price": "2999.99"
                                },
                                {
                                    "product_name": "Electra Townie Commute Go! - 2018",
                                    "list_price": "2999.99"
                                },
                                {
                                    "product_name": "Electra Townie Commute Go! Ladies' - 2018",
                                    "list_price": "2999.99"
                                },
                                {
                                    "product_name": "Electra Townie Commute Go! - 2018",
                                    "list_price": "2999.99"
                                },
                                {
                                    "product_name": "Electra Townie Commute Go! Ladies' - 2018",
                                    "list_price": "2999.99"
                                },
                                {
                                    "product_name": "Trek Emonda SL 6 Disc - 2018",
                                    "list_price": "2999.99"
                                },
                                {
                                    "product_name": "Trek Crockett 7 Disc - 2018",
                                    "list_price": "2999.99"
                                },
                                {
                                    "product_name": "Trek Domane SL 6 - 2018",
                                    "list_price": "3199.99"
                                },
                                {
                                    "product_name": "Trek Domane ALR Disc Frameset - 2018",
                                    "list_price": "3199.99"
                                },
                                {
                                    "product_name": "Trek Domane ALR Frameset - 2018",
                                    "list_price": "3199.99"
                                },
                                {
                                    "product_name": "Trek Domane SLR Disc Frameset - 2018",
                                    "list_price": "3199.99"
                                },
                                {
                                    "product_name": "Trek Domane SLR Frameset - 2018",
                                    "list_price": "3199.99"
                                },
                                {
                                    "product_name": "Trek Madone 9 Frameset - 2018",
                                    "list_price": "3199.99"
                                },
                                {
                                    "product_name": "Trek Fuel EX 8 29 XT - 2018",
                                    "list_price": "3199.99"
                                },
                                {
                                    "product_name": "Trek Fuel EX 8 29 - 2018",
                                    "list_price": "3199.99"
                                },
                                {
                                    "product_name": "Trek Domane SL Disc Frameset - 2017",
                                    "list_price": "3199.99"
                                },
                                {
                                    "product_name": "Trek Checkpoint ALR Frameset - 2019",
                                    "list_price": "3199.99"
                                },
                                {
                                    "product_name": "Trek Boone 5 Disc - 2018",
                                    "list_price": "3299.99"
                                },
                                {
                                    "product_name": "Trek Powerfly 5 - 2018",
                                    "list_price": "3499.99"
                                },
                                {
                                    "product_name": "Trek XM700+ - 2018",
                                    "list_price": "3499.99"
                                },
                                {
                                    "product_name": "Trek Powerfly 5 Women's - 2018",
                                    "list_price": "3499.99"
                                },
                                {
                                    "product_name": "Trek XM700+ Lowstep - 2018",
                                    "list_price": "3499.99"
                                },
                                {
                                    "product_name": "Trek Domane SL 6 Disc - 2018",
                                    "list_price": "3499.99"
                                },
                                {
                                    "product_name": "Trek Boone 7 - 2017",
                                    "list_price": "3499.99"
                                },
                                {
                                    "product_name": "Trek Boone Race Shop Limited - 2017",
                                    "list_price": "3499.99"
                                },
                                {
                                    "product_name": "Trek Domane SL 6 - 2017",
                                    "list_price": "3499.99"
                                },
                                {
                                    "product_name": "Trek Super Commuter+ 7 - 2018",
                                    "list_price": "3599.99"
                                },
                                {
                                    "product_name": "Trek Checkpoint SL 6 - 2019",
                                    "list_price": "3799.99"
                                },
                                {
                                    "product_name": "Trek Boone 7 Disc - 2018",
                                    "list_price": "3999.99"
                                },
                                {
                                    "product_name": "Trek Slash 8 27.5 - 2016",
                                    "list_price": "3999.99"
                                },
                                {
                                    "product_name": "Trek Powerfly 5 FS - 2018",
                                    "list_price": "4499.99"
                                },
                                {
                                    "product_name": "Trek CrossRip+ - 2018",
                                    "list_price": "4499.99"
                                },
                                {
                                    "product_name": "Trek Emonda SL 7 - 2018",
                                    "list_price": "4499.99"
                                },
                                {
                                    "product_name": "Trek Emonda SLR 6 - 2018",
                                    "list_price": "4499.99"
                                },
                                {
                                    "product_name": "Trek Powerfly 7 FS - 2018",
                                    "list_price": "4999.99"
                                },
                                {
                                    "product_name": "Trek Super Commuter+ 8S - 2018",
                                    "list_price": "4999.99"
                                },
                                {
                                    "product_name": "Trek Fuel EX 9.8 29 - 2017",
                                    "list_price": "4999.99"
                                },
                                {
                                    "product_name": "Trek Powerfly 8 FS Plus - 2017",
                                    "list_price": "4999.99"
                                },
                                {
                                    "product_name": "Trek Madone 9.2 - 2017",
                                    "list_price": "4999.99"
                                },
                                {
                                    "product_name": "Trek Domane SL 7 Women's - 2018",
                                    "list_price": "4999.99"
                                },
                                {
                                    "product_name": "Trek Domane SLR 6 - 2018",
                                    "list_price": "4999.99"
                                },
                                {
                                    "product_name": "Trek Remedy 9.8 27.5 - 2018",
                                    "list_price": "4999.99"
                                },
                                {
                                    "product_name": "Trek Fuel EX 9.8 27.5 Plus - 2017",
                                    "list_price": "5299.99"
                                },
                                {
                                    "product_name": "Trek Remedy 9.8 - 2017",
                                    "list_price": "5299.99"
                                },
                                {
                                    "product_name": "Trek Domane SLR 6 Disc - 2017",
                                    "list_price": "5499.99"
                                },
                                {
                                    "product_name": "Trek Domane SL 8 Disc - 2018",
                                    "list_price": "5499.99"
                                },
                                {
                                    "product_name": "Trek Domane SLR 6 Disc Women's - 2018",
                                    "list_price": "5499.99"
                                },
                                {
                                    "product_name": "Trek Domane SLR 6 Disc - 2018",
                                    "list_price": "5499.99"
                                },
                                {
                                    "product_name": "Trek Silque SLR 7 Women's - 2017",
                                    "list_price": "5999.99"
                                },
                                {
                                    "product_name": "Trek Silque SLR 8 Women's - 2017",
                                    "list_price": "6499.99"
                                },
                                {
                                    "product_name": "Trek Domane SL Frameset - 2018",
                                    "list_price": "6499.99"
                                },
                                {
                                    "product_name": "Trek Domane SL Frameset Women's - 2018",
                                    "list_price": "6499.99"
                                },
                                {
                                    "product_name": "Trek Emonda SLR 8 - 2018",
                                    "list_price": "6499.99"
                                },
                                {
                                    "product_name": "Trek Domane SLR 8 Disc - 2018",
                                    "list_price": "7499.99"
                                },
                                {
                                    "product_name": "Trek Domane SLR 9 Disc - 2018",
                                    "list_price": "11999.99"
                                }
                            ]
                        },
                        "text/html": "<table><tr><th>product_name</th><th>list_price</th></tr><tr><td>Surly Karate Monkey 27.5+ Frameset - 2017</td><td>2499.99</td></tr><tr><td>Trek Fuel EX 7 29 - 2018</td><td>2499.99</td></tr><tr><td>Surly Krampus Frameset - 2018</td><td>2499.99</td></tr><tr><td>Surly Troll Frameset - 2018</td><td>2499.99</td></tr><tr><td>Trek Domane SL 5 Disc Women&#39;s - 2018</td><td>2499.99</td></tr><tr><td>Trek 1120 - 2018</td><td>2499.99</td></tr><tr><td>Trek Domane SL 5 Disc - 2018</td><td>2499.99</td></tr><tr><td>Heller Bloodhound Trail - 2018</td><td>2599.00</td></tr><tr><td>Heller Shagamaw GX1 - 2018</td><td>2599.00</td></tr><tr><td>Trek Domane S 5 Disc - 2017</td><td>2599.99</td></tr><tr><td>Electra Townie Go! 8i Ladies&#39; - 2018</td><td>2599.99</td></tr><tr><td>Electra Townie Go! 8i - 2017/2018</td><td>2599.99</td></tr><tr><td>Electra Townie Go! 8i - 2017/2018</td><td>2599.99</td></tr><tr><td>Electra Townie Go! 8i Ladies&#39; - 2018</td><td>2599.99</td></tr><tr><td>Electra Townie Go! 8i - 2017/2018</td><td>2599.99</td></tr><tr><td>Trek Domane S 6 - 2017</td><td>2699.99</td></tr><tr><td>Trek Lift+ - 2018</td><td>2799.99</td></tr><tr><td>Trek Conduit+ - 2018</td><td>2799.99</td></tr><tr><td>Trek Neko+ - 2018</td><td>2799.99</td></tr><tr><td>Trek Lift+ Lowstep - 2018</td><td>2799.99</td></tr><tr><td>Trek Dual Sport+ - 2018</td><td>2799.99</td></tr><tr><td>Electra Loft Go! 8i - 2018</td><td>2799.99</td></tr><tr><td>Trek Checkpoint SL 5 Women&#39;s - 2019</td><td>2799.99</td></tr><tr><td>Trek Fuel EX 8 29 - 2016</td><td>2899.99</td></tr><tr><td>Trek Conduit+ - 2016</td><td>2999.99</td></tr><tr><td>Trek Remedy 7 27.5 - 2018</td><td>2999.99</td></tr><tr><td>Electra Townie Commute Go! - 2018</td><td>2999.99</td></tr><tr><td>Electra Townie Commute Go! Ladies&#39; - 2018</td><td>2999.99</td></tr><tr><td>Electra Townie Commute Go! - 2018</td><td>2999.99</td></tr><tr><td>Electra Townie Commute Go! Ladies&#39; - 2018</td><td>2999.99</td></tr><tr><td>Trek Emonda SL 6 Disc - 2018</td><td>2999.99</td></tr><tr><td>Trek Crockett 7 Disc - 2018</td><td>2999.99</td></tr><tr><td>Trek Domane SL 6 - 2018</td><td>3199.99</td></tr><tr><td>Trek Domane ALR Disc Frameset - 2018</td><td>3199.99</td></tr><tr><td>Trek Domane ALR Frameset - 2018</td><td>3199.99</td></tr><tr><td>Trek Domane SLR Disc Frameset - 2018</td><td>3199.99</td></tr><tr><td>Trek Domane SLR Frameset - 2018</td><td>3199.99</td></tr><tr><td>Trek Madone 9 Frameset - 2018</td><td>3199.99</td></tr><tr><td>Trek Fuel EX 8 29 XT - 2018</td><td>3199.99</td></tr><tr><td>Trek Fuel EX 8 29 - 2018</td><td>3199.99</td></tr><tr><td>Trek Domane SL Disc Frameset - 2017</td><td>3199.99</td></tr><tr><td>Trek Checkpoint ALR Frameset - 2019</td><td>3199.99</td></tr><tr><td>Trek Boone 5 Disc - 2018</td><td>3299.99</td></tr><tr><td>Trek Powerfly 5 - 2018</td><td>3499.99</td></tr><tr><td>Trek XM700+ - 2018</td><td>3499.99</td></tr><tr><td>Trek Powerfly 5 Women&#39;s - 2018</td><td>3499.99</td></tr><tr><td>Trek XM700+ Lowstep - 2018</td><td>3499.99</td></tr><tr><td>Trek Domane SL 6 Disc - 2018</td><td>3499.99</td></tr><tr><td>Trek Boone 7 - 2017</td><td>3499.99</td></tr><tr><td>Trek Boone Race Shop Limited - 2017</td><td>3499.99</td></tr><tr><td>Trek Domane SL 6 - 2017</td><td>3499.99</td></tr><tr><td>Trek Super Commuter+ 7 - 2018</td><td>3599.99</td></tr><tr><td>Trek Checkpoint SL 6 - 2019</td><td>3799.99</td></tr><tr><td>Trek Boone 7 Disc - 2018</td><td>3999.99</td></tr><tr><td>Trek Slash 8 27.5 - 2016</td><td>3999.99</td></tr><tr><td>Trek Powerfly 5 FS - 2018</td><td>4499.99</td></tr><tr><td>Trek CrossRip+ - 2018</td><td>4499.99</td></tr><tr><td>Trek Emonda SL 7 - 2018</td><td>4499.99</td></tr><tr><td>Trek Emonda SLR 6 - 2018</td><td>4499.99</td></tr><tr><td>Trek Powerfly 7 FS - 2018</td><td>4999.99</td></tr><tr><td>Trek Super Commuter+ 8S - 2018</td><td>4999.99</td></tr><tr><td>Trek Fuel EX 9.8 29 - 2017</td><td>4999.99</td></tr><tr><td>Trek Powerfly 8 FS Plus - 2017</td><td>4999.99</td></tr><tr><td>Trek Madone 9.2 - 2017</td><td>4999.99</td></tr><tr><td>Trek Domane SL 7 Women&#39;s - 2018</td><td>4999.99</td></tr><tr><td>Trek Domane SLR 6 - 2018</td><td>4999.99</td></tr><tr><td>Trek Remedy 9.8 27.5 - 2018</td><td>4999.99</td></tr><tr><td>Trek Fuel EX 9.8 27.5 Plus - 2017</td><td>5299.99</td></tr><tr><td>Trek Remedy 9.8 - 2017</td><td>5299.99</td></tr><tr><td>Trek Domane SLR 6 Disc - 2017</td><td>5499.99</td></tr><tr><td>Trek Domane SL 8 Disc - 2018</td><td>5499.99</td></tr><tr><td>Trek Domane SLR 6 Disc Women&#39;s - 2018</td><td>5499.99</td></tr><tr><td>Trek Domane SLR 6 Disc - 2018</td><td>5499.99</td></tr><tr><td>Trek Silque SLR 7 Women&#39;s - 2017</td><td>5999.99</td></tr><tr><td>Trek Silque SLR 8 Women&#39;s - 2017</td><td>6499.99</td></tr><tr><td>Trek Domane SL Frameset - 2018</td><td>6499.99</td></tr><tr><td>Trek Domane SL Frameset Women&#39;s - 2018</td><td>6499.99</td></tr><tr><td>Trek Emonda SLR 8 - 2018</td><td>6499.99</td></tr><tr><td>Trek Domane SLR 8 Disc - 2018</td><td>7499.99</td></tr><tr><td>Trek Domane SLR 9 Disc - 2018</td><td>11999.99</td></tr></table>"
                    },
                    "metadata": {}
                }
            ],
            "execution_count": 2
        },
        {
            "cell_type": "code",
            "source": [
                "SELECT order_id, order_date, \r\n",
                "    (SELECT MAX(list_price) \r\n",
                "    FROM sales.order_items i\r\n",
                "    WHERE i.order_id = o.order_id) AS max_list_price\r\n",
                "FROM sales.orders o\r\n",
                "ORDER BY order_date DESC; "
            ],
            "metadata": {
                "azdata_cell_guid": "e9eb52c8-5701-4212-ac5c-5ab5af4a65b6",
                "language": "sql"
            },
            "outputs": [
                {
                    "output_type": "display_data",
                    "data": {
                        "text/html": "(1615 filas afectadas)"
                    },
                    "metadata": {}
                },
                {
                    "output_type": "display_data",
                    "data": {
                        "text/html": "Tiempo total de ejecución: 00:00:00.036"
                    },
                    "metadata": {}
                },
                {
                    "output_type": "execute_result",
                    "execution_count": 3,
                    "data": {
                        "application/vnd.dataresource+json": {
                            "schema": {
                                "fields": [
                                    {
                                        "name": "order_id"
                                    },
                                    {
                                        "name": "order_date"
                                    },
                                    {
                                        "name": "max_list_price"
                                    }
                                ]
                            },
                            "data": [
                                {
                                    "order_id": "1615",
                                    "order_date": "2018-12-28",
                                    "max_list_price": "2499.99"
                                },
                                {
                                    "order_id": "1614",
                                    "order_date": "2018-11-28",
                                    "max_list_price": "2299.99"
                                },
                                {
                                    "order_id": "1613",
                                    "order_date": "2018-11-18",
                                    "max_list_price": "4999.99"
                                },
                                {
                                    "order_id": "1612",
                                    "order_date": "2018-10-21",
                                    "max_list_price": "1559.99"
                                },
                                {
                                    "order_id": "1611",
                                    "order_date": "2018-09-06",
                                    "max_list_price": "3199.99"
                                },
                                {
                                    "order_id": "1610",
                                    "order_date": "2018-08-25",
                                    "max_list_price": "3199.99"
                                },
                                {
                                    "order_id": "1609",
                                    "order_date": "2018-08-23",
                                    "max_list_price": "749.99"
                                },
                                {
                                    "order_id": "1608",
                                    "order_date": "2018-07-12",
                                    "max_list_price": "529.99"
                                },
                                {
                                    "order_id": "1607",
                                    "order_date": "2018-07-11",
                                    "max_list_price": "999.99"
                                },
                                {
                                    "order_id": "1606",
                                    "order_date": "2018-07-10",
                                    "max_list_price": "659.99"
                                },
                                {
                                    "order_id": "1605",
                                    "order_date": "2018-07-01",
                                    "max_list_price": "4499.99"
                                },
                                {
                                    "order_id": "1604",
                                    "order_date": "2018-06-17",
                                    "max_list_price": "209.99"
                                },
                                {
                                    "order_id": "1602",
                                    "order_date": "2018-04-30",
                                    "max_list_price": "899.99"
                                },
                                {
                                    "order_id": "1603",
                                    "order_date": "2018-04-30",
                                    "max_list_price": "229.99"
                                },
                                {
                                    "order_id": "1598",
                                    "order_date": "2018-04-29",
                                    "max_list_price": "3499.99"
                                },
                                {
                                    "order_id": "1599",
                                    "order_date": "2018-04-29",
                                    "max_list_price": "481.99"
                                },
                                {
                                    "order_id": "1600",
                                    "order_date": "2018-04-29",
                                    "max_list_price": "4999.99"
                                },
                                {
                                    "order_id": "1601",
                                    "order_date": "2018-04-29",
                                    "max_list_price": "3999.99"
                                },
                                {
                                    "order_id": "1594",
                                    "order_date": "2018-04-28",
                                    "max_list_price": "533.99"
                                },
                                {
                                    "order_id": "1595",
                                    "order_date": "2018-04-28",
                                    "max_list_price": "379.99"
                                },
                                {
                                    "order_id": "1596",
                                    "order_date": "2018-04-28",
                                    "max_list_price": "449.00"
                                },
                                {
                                    "order_id": "1597",
                                    "order_date": "2018-04-28",
                                    "max_list_price": "3199.99"
                                },
                                {
                                    "order_id": "1589",
                                    "order_date": "2018-04-27",
                                    "max_list_price": "2499.99"
                                },
                                {
                                    "order_id": "1590",
                                    "order_date": "2018-04-27",
                                    "max_list_price": "3199.99"
                                },
                                {
                                    "order_id": "1591",
                                    "order_date": "2018-04-27",
                                    "max_list_price": "2249.99"
                                },
                                {
                                    "order_id": "1592",
                                    "order_date": "2018-04-27",
                                    "max_list_price": "4999.99"
                                },
                                {
                                    "order_id": "1593",
                                    "order_date": "2018-04-27",
                                    "max_list_price": "6499.99"
                                },
                                {
                                    "order_id": "1584",
                                    "order_date": "2018-04-26",
                                    "max_list_price": "5299.99"
                                },
                                {
                                    "order_id": "1585",
                                    "order_date": "2018-04-26",
                                    "max_list_price": "3999.99"
                                },
                                {
                                    "order_id": "1586",
                                    "order_date": "2018-04-26",
                                    "max_list_price": "3199.99"
                                },
                                {
                                    "order_id": "1587",
                                    "order_date": "2018-04-26",
                                    "max_list_price": "3499.99"
                                },
                                {
                                    "order_id": "1588",
                                    "order_date": "2018-04-26",
                                    "max_list_price": "209.99"
                                },
                                {
                                    "order_id": "1581",
                                    "order_date": "2018-04-25",
                                    "max_list_price": "489.99"
                                },
                                {
                                    "order_id": "1582",
                                    "order_date": "2018-04-25",
                                    "max_list_price": "1499.99"
                                },
                                {
                                    "order_id": "1583",
                                    "order_date": "2018-04-25",
                                    "max_list_price": "529.99"
                                },
                                {
                                    "order_id": "1579",
                                    "order_date": "2018-04-24",
                                    "max_list_price": "3499.99"
                                },
                                {
                                    "order_id": "1580",
                                    "order_date": "2018-04-24",
                                    "max_list_price": "469.99"
                                },
                                {
                                    "order_id": "1573",
                                    "order_date": "2018-04-23",
                                    "max_list_price": "2999.99"
                                },
                                {
                                    "order_id": "1574",
                                    "order_date": "2018-04-23",
                                    "max_list_price": "469.99"
                                },
                                {
                                    "order_id": "1575",
                                    "order_date": "2018-04-23",
                                    "max_list_price": "3999.99"
                                },
                                {
                                    "order_id": "1576",
                                    "order_date": "2018-04-23",
                                    "max_list_price": "3499.99"
                                },
                                {
                                    "order_id": "1577",
                                    "order_date": "2018-04-23",
                                    "max_list_price": "2599.00"
                                },
                                {
                                    "order_id": "1578",
                                    "order_date": "2018-04-23",
                                    "max_list_price": "3599.99"
                                },
                                {
                                    "order_id": "1569",
                                    "order_date": "2018-04-22",
                                    "max_list_price": "2999.99"
                                },
                                {
                                    "order_id": "1570",
                                    "order_date": "2018-04-22",
                                    "max_list_price": "11999.99"
                                },
                                {
                                    "order_id": "1571",
                                    "order_date": "2018-04-22",
                                    "max_list_price": "699.99"
                                },
                                {
                                    "order_id": "1572",
                                    "order_date": "2018-04-22",
                                    "max_list_price": "3199.99"
                                },
                                {
                                    "order_id": "1564",
                                    "order_date": "2018-04-21",
                                    "max_list_price": "899.99"
                                },
                                {
                                    "order_id": "1565",
                                    "order_date": "2018-04-21",
                                    "max_list_price": "899.99"
                                },
                                {
                                    "order_id": "1566",
                                    "order_date": "2018-04-21",
                                    "max_list_price": "4999.99"
                                },
                                {
                                    "order_id": "1567",
                                    "order_date": "2018-04-21",
                                    "max_list_price": "319.99"
                                },
                                {
                                    "order_id": "1568",
                                    "order_date": "2018-04-21",
                                    "max_list_price": "4999.99"
                                },
                                {
                                    "order_id": "1559",
                                    "order_date": "2018-04-20",
                                    "max_list_price": "3199.99"
                                },
                                {
                                    "order_id": "1560",
                                    "order_date": "2018-04-20",
                                    "max_list_price": "1469.99"
                                },
                                {
                                    "order_id": "1561",
                                    "order_date": "2018-04-20",
                                    "max_list_price": "2199.99"
                                },
                                {
                                    "order_id": "1562",
                                    "order_date": "2018-04-20",
                                    "max_list_price": "3199.99"
                                },
                                {
                                    "order_id": "1563",
                                    "order_date": "2018-04-20",
                                    "max_list_price": "3499.99"
                                },
                                {
                                    "order_id": "1557",
                                    "order_date": "2018-04-19",
                                    "max_list_price": "1349.00"
                                },
                                {
                                    "order_id": "1558",
                                    "order_date": "2018-04-19",
                                    "max_list_price": "2899.99"
                                },
                                {
                                    "order_id": "1553",
                                    "order_date": "2018-04-18",
                                    "max_list_price": "2999.99"
                                },
                                {
                                    "order_id": "1554",
                                    "order_date": "2018-04-18",
                                    "max_list_price": "749.99"
                                },
                                {
                                    "order_id": "1555",
                                    "order_date": "2018-04-18",
                                    "max_list_price": "6499.99"
                                },
                                {
                                    "order_id": "1556",
                                    "order_date": "2018-04-18",
                                    "max_list_price": "3499.99"
                                },
                                {
                                    "order_id": "1544",
                                    "order_date": "2018-04-17",
                                    "max_list_price": "3499.99"
                                },
                                {
                                    "order_id": "1545",
                                    "order_date": "2018-04-17",
                                    "max_list_price": "869.99"
                                },
                                {
                                    "order_id": "1546",
                                    "order_date": "2018-04-17",
                                    "max_list_price": "6499.99"
                                },
                                {
                                    "order_id": "1547",
                                    "order_date": "2018-04-17",
                                    "max_list_price": "3599.99"
                                },
                                {
                                    "order_id": "1548",
                                    "order_date": "2018-04-17",
                                    "max_list_price": "3499.99"
                                },
                                {
                                    "order_id": "1549",
                                    "order_date": "2018-04-17",
                                    "max_list_price": "959.99"
                                },
                                {
                                    "order_id": "1550",
                                    "order_date": "2018-04-17",
                                    "max_list_price": "5499.99"
                                },
                                {
                                    "order_id": "1551",
                                    "order_date": "2018-04-17",
                                    "max_list_price": "3999.99"
                                },
                                {
                                    "order_id": "1552",
                                    "order_date": "2018-04-17",
                                    "max_list_price": "2299.99"
                                },
                                {
                                    "order_id": "1540",
                                    "order_date": "2018-04-16",
                                    "max_list_price": "5499.99"
                                },
                                {
                                    "order_id": "1541",
                                    "order_date": "2018-04-16",
                                    "max_list_price": "11999.99"
                                },
                                {
                                    "order_id": "1542",
                                    "order_date": "2018-04-16",
                                    "max_list_price": "3499.99"
                                },
                                {
                                    "order_id": "1543",
                                    "order_date": "2018-04-16",
                                    "max_list_price": "1799.99"
                                },
                                {
                                    "order_id": "1537",
                                    "order_date": "2018-04-15",
                                    "max_list_price": "849.99"
                                },
                                {
                                    "order_id": "1538",
                                    "order_date": "2018-04-15",
                                    "max_list_price": "3299.99"
                                },
                                {
                                    "order_id": "1539",
                                    "order_date": "2018-04-15",
                                    "max_list_price": "549.99"
                                },
                                {
                                    "order_id": "1534",
                                    "order_date": "2018-04-14",
                                    "max_list_price": "3499.99"
                                },
                                {
                                    "order_id": "1535",
                                    "order_date": "2018-04-14",
                                    "max_list_price": "599.99"
                                },
                                {
                                    "order_id": "1536",
                                    "order_date": "2018-04-14",
                                    "max_list_price": "2799.99"
                                },
                                {
                                    "order_id": "1530",
                                    "order_date": "2018-04-13",
                                    "max_list_price": "749.99"
                                },
                                {
                                    "order_id": "1531",
                                    "order_date": "2018-04-13",
                                    "max_list_price": "1899.00"
                                },
                                {
                                    "order_id": "1532",
                                    "order_date": "2018-04-13",
                                    "max_list_price": "2999.99"
                                },
                                {
                                    "order_id": "1533",
                                    "order_date": "2018-04-13",
                                    "max_list_price": "6499.99"
                                },
                                {
                                    "order_id": "1521",
                                    "order_date": "2018-04-12",
                                    "max_list_price": "1499.99"
                                },
                                {
                                    "order_id": "1522",
                                    "order_date": "2018-04-12",
                                    "max_list_price": "1599.99"
                                },
                                {
                                    "order_id": "1523",
                                    "order_date": "2018-04-12",
                                    "max_list_price": "749.99"
                                },
                                {
                                    "order_id": "1524",
                                    "order_date": "2018-04-12",
                                    "max_list_price": "2999.99"
                                },
                                {
                                    "order_id": "1525",
                                    "order_date": "2018-04-12",
                                    "max_list_price": "6499.99"
                                },
                                {
                                    "order_id": "1526",
                                    "order_date": "2018-04-12",
                                    "max_list_price": "5499.99"
                                },
                                {
                                    "order_id": "1527",
                                    "order_date": "2018-04-12",
                                    "max_list_price": "1999.99"
                                },
                                {
                                    "order_id": "1528",
                                    "order_date": "2018-04-12",
                                    "max_list_price": "429.99"
                                },
                                {
                                    "order_id": "1529",
                                    "order_date": "2018-04-12",
                                    "max_list_price": "5999.99"
                                },
                                {
                                    "order_id": "1516",
                                    "order_date": "2018-04-11",
                                    "max_list_price": "3199.99"
                                },
                                {
                                    "order_id": "1517",
                                    "order_date": "2018-04-11",
                                    "max_list_price": "2599.99"
                                },
                                {
                                    "order_id": "1518",
                                    "order_date": "2018-04-11",
                                    "max_list_price": "2999.99"
                                },
                                {
                                    "order_id": "1519",
                                    "order_date": "2018-04-11",
                                    "max_list_price": "4499.99"
                                },
                                {
                                    "order_id": "1520",
                                    "order_date": "2018-04-11",
                                    "max_list_price": "4499.99"
                                },
                                {
                                    "order_id": "1513",
                                    "order_date": "2018-04-10",
                                    "max_list_price": "4999.99"
                                },
                                {
                                    "order_id": "1514",
                                    "order_date": "2018-04-10",
                                    "max_list_price": "4999.99"
                                },
                                {
                                    "order_id": "1515",
                                    "order_date": "2018-04-10",
                                    "max_list_price": "4999.99"
                                },
                                {
                                    "order_id": "1509",
                                    "order_date": "2018-04-09",
                                    "max_list_price": "749.99"
                                },
                                {
                                    "order_id": "1510",
                                    "order_date": "2018-04-09",
                                    "max_list_price": "3199.99"
                                },
                                {
                                    "order_id": "1511",
                                    "order_date": "2018-04-09",
                                    "max_list_price": "1549.99"
                                },
                                {
                                    "order_id": "1512",
                                    "order_date": "2018-04-09",
                                    "max_list_price": "909.99"
                                },
                                {
                                    "order_id": "1504",
                                    "order_date": "2018-04-08",
                                    "max_list_price": "319.99"
                                },
                                {
                                    "order_id": "1505",
                                    "order_date": "2018-04-08",
                                    "max_list_price": "5299.99"
                                },
                                {
                                    "order_id": "1506",
                                    "order_date": "2018-04-08",
                                    "max_list_price": "7499.99"
                                },
                                {
                                    "order_id": "1507",
                                    "order_date": "2018-04-08",
                                    "max_list_price": "1680.99"
                                },
                                {
                                    "order_id": "1508",
                                    "order_date": "2018-04-08",
                                    "max_list_price": "875.99"
                                },
                                {
                                    "order_id": "1503",
                                    "order_date": "2018-04-07",
                                    "max_list_price": "909.99"
                                },
                                {
                                    "order_id": "1496",
                                    "order_date": "2018-04-06",
                                    "max_list_price": "959.99"
                                },
                                {
                                    "order_id": "1497",
                                    "order_date": "2018-04-06",
                                    "max_list_price": "3599.99"
                                },
                                {
                                    "order_id": "1498",
                                    "order_date": "2018-04-06",
                                    "max_list_price": "3199.99"
                                },
                                {
                                    "order_id": "1499",
                                    "order_date": "2018-04-06",
                                    "max_list_price": "3199.99"
                                },
                                {
                                    "order_id": "1500",
                                    "order_date": "2018-04-06",
                                    "max_list_price": "1469.99"
                                },
                                {
                                    "order_id": "1501",
                                    "order_date": "2018-04-06",
                                    "max_list_price": "1549.00"
                                },
                                {
                                    "order_id": "1502",
                                    "order_date": "2018-04-06",
                                    "max_list_price": "899.99"
                                },
                                {
                                    "order_id": "1494",
                                    "order_date": "2018-04-05",
                                    "max_list_price": "749.99"
                                },
                                {
                                    "order_id": "1495",
                                    "order_date": "2018-04-05",
                                    "max_list_price": "2599.00"
                                },
                                {
                                    "order_id": "1491",
                                    "order_date": "2018-04-04",
                                    "max_list_price": "2999.99"
                                },
                                {
                                    "order_id": "1492",
                                    "order_date": "2018-04-04",
                                    "max_list_price": "379.99"
                                },
                                {
                                    "order_id": "1493",
                                    "order_date": "2018-04-04",
                                    "max_list_price": "429.99"
                                },
                                {
                                    "order_id": "1487",
                                    "order_date": "2018-04-03",
                                    "max_list_price": "4499.99"
                                },
                                {
                                    "order_id": "1488",
                                    "order_date": "2018-04-03",
                                    "max_list_price": "2499.99"
                                },
                                {
                                    "order_id": "1489",
                                    "order_date": "2018-04-03",
                                    "max_list_price": "2999.99"
                                },
                                {
                                    "order_id": "1490",
                                    "order_date": "2018-04-03",
                                    "max_list_price": "749.99"
                                },
                                {
                                    "order_id": "1483",
                                    "order_date": "2018-04-02",
                                    "max_list_price": "679.99"
                                },
                                {
                                    "order_id": "1484",
                                    "order_date": "2018-04-02",
                                    "max_list_price": "3499.99"
                                },
                                {
                                    "order_id": "1485",
                                    "order_date": "2018-04-02",
                                    "max_list_price": "2499.99"
                                },
                                {
                                    "order_id": "1486",
                                    "order_date": "2018-04-02",
                                    "max_list_price": "1559.99"
                                },
                                {
                                    "order_id": "1479",
                                    "order_date": "2018-04-01",
                                    "max_list_price": "2999.99"
                                },
                                {
                                    "order_id": "1480",
                                    "order_date": "2018-04-01",
                                    "max_list_price": "959.99"
                                },
                                {
                                    "order_id": "1481",
                                    "order_date": "2018-04-01",
                                    "max_list_price": "919.99"
                                },
                                {
                                    "order_id": "1482",
                                    "order_date": "2018-04-01",
                                    "max_list_price": "4999.99"
                                },
                                {
                                    "order_id": "1476",
                                    "order_date": "2018-03-31",
                                    "max_list_price": "5299.99"
                                },
                                {
                                    "order_id": "1477",
                                    "order_date": "2018-03-31",
                                    "max_list_price": "1549.00"
                                },
                                {
                                    "order_id": "1478",
                                    "order_date": "2018-03-31",
                                    "max_list_price": "999.99"
                                },
                                {
                                    "order_id": "1473",
                                    "order_date": "2018-03-30",
                                    "max_list_price": "489.99"
                                },
                                {
                                    "order_id": "1474",
                                    "order_date": "2018-03-30",
                                    "max_list_price": "999.99"
                                },
                                {
                                    "order_id": "1475",
                                    "order_date": "2018-03-30",
                                    "max_list_price": "1899.00"
                                },
                                {
                                    "order_id": "1472",
                                    "order_date": "2018-03-29",
                                    "max_list_price": "799.99"
                                },
                                {
                                    "order_id": "1470",
                                    "order_date": "2018-03-28",
                                    "max_list_price": "2999.99"
                                },
                                {
                                    "order_id": "1471",
                                    "order_date": "2018-03-28",
                                    "max_list_price": "2599.99"
                                },
                                {
                                    "order_id": "1468",
                                    "order_date": "2018-03-27",
                                    "max_list_price": "5999.99"
                                },
                                {
                                    "order_id": "1469",
                                    "order_date": "2018-03-27",
                                    "max_list_price": "2499.99"
                                },
                                {
                                    "order_id": "1466",
                                    "order_date": "2018-03-26",
                                    "max_list_price": "2999.99"
                                },
                                {
                                    "order_id": "1467",
                                    "order_date": "2018-03-26",
                                    "max_list_price": "3199.99"
                                },
                                {
                                    "order_id": "1465",
                                    "order_date": "2018-03-25",
                                    "max_list_price": "659.99"
                                },
                                {
                                    "order_id": "1464",
                                    "order_date": "2018-03-24",
                                    "max_list_price": "2499.99"
                                },
                                {
                                    "order_id": "1463",
                                    "order_date": "2018-03-23",
                                    "max_list_price": "6499.99"
                                },
                                {
                                    "order_id": "1461",
                                    "order_date": "2018-03-22",
                                    "max_list_price": "1499.99"
                                },
                                {
                                    "order_id": "1462",
                                    "order_date": "2018-03-22",
                                    "max_list_price": "2999.99"
                                },
                                {
                                    "order_id": "1459",
                                    "order_date": "2018-03-21",
                                    "max_list_price": "1259.90"
                                },
                                {
                                    "order_id": "1460",
                                    "order_date": "2018-03-21",
                                    "max_list_price": "4499.99"
                                },
                                {
                                    "order_id": "1452",
                                    "order_date": "2018-03-20",
                                    "max_list_price": "899.99"
                                },
                                {
                                    "order_id": "1453",
                                    "order_date": "2018-03-20",
                                    "max_list_price": "209.99"
                                },
                                {
                                    "order_id": "1454",
                                    "order_date": "2018-03-20",
                                    "max_list_price": "1499.00"
                                },
                                {
                                    "order_id": "1455",
                                    "order_date": "2018-03-20",
                                    "max_list_price": "749.99"
                                },
                                {
                                    "order_id": "1456",
                                    "order_date": "2018-03-20",
                                    "max_list_price": "2799.99"
                                },
                                {
                                    "order_id": "1457",
                                    "order_date": "2018-03-20",
                                    "max_list_price": "2499.99"
                                },
                                {
                                    "order_id": "1458",
                                    "order_date": "2018-03-20",
                                    "max_list_price": "647.99"
                                },
                                {
                                    "order_id": "1450",
                                    "order_date": "2018-03-19",
                                    "max_list_price": "3199.99"
                                },
                                {
                                    "order_id": "1451",
                                    "order_date": "2018-03-19",
                                    "max_list_price": "1469.99"
                                },
                                {
                                    "order_id": "1447",
                                    "order_date": "2018-03-18",
                                    "max_list_price": "5499.99"
                                },
                                {
                                    "order_id": "1448",
                                    "order_date": "2018-03-18",
                                    "max_list_price": "749.99"
                                },
                                {
                                    "order_id": "1449",
                                    "order_date": "2018-03-18",
                                    "max_list_price": "2999.99"
                                },
                                {
                                    "order_id": "1445",
                                    "order_date": "2018-03-17",
                                    "max_list_price": "999.99"
                                },
                                {
                                    "order_id": "1446",
                                    "order_date": "2018-03-17",
                                    "max_list_price": "899.99"
                                },
                                {
                                    "order_id": "1442",
                                    "order_date": "2018-03-16",
                                    "max_list_price": "4499.99"
                                },
                                {
                                    "order_id": "1443",
                                    "order_date": "2018-03-16",
                                    "max_list_price": "4499.99"
                                },
                                {
                                    "order_id": "1444",
                                    "order_date": "2018-03-16",
                                    "max_list_price": "1899.00"
                                },
                                {
                                    "order_id": "1437",
                                    "order_date": "2018-03-15",
                                    "max_list_price": "1599.99"
                                },
                                {
                                    "order_id": "1438",
                                    "order_date": "2018-03-15",
                                    "max_list_price": "4999.99"
                                },
                                {
                                    "order_id": "1439",
                                    "order_date": "2018-03-15",
                                    "max_list_price": "7499.99"
                                },
                                {
                                    "order_id": "1440",
                                    "order_date": "2018-03-15",
                                    "max_list_price": "4499.99"
                                },
                                {
                                    "order_id": "1441",
                                    "order_date": "2018-03-15",
                                    "max_list_price": "1409.99"
                                },
                                {
                                    "order_id": "1434",
                                    "order_date": "2018-03-14",
                                    "max_list_price": "4999.99"
                                },
                                {
                                    "order_id": "1435",
                                    "order_date": "2018-03-14",
                                    "max_list_price": "1599.99"
                                },
                                {
                                    "order_id": "1436",
                                    "order_date": "2018-03-14",
                                    "max_list_price": "559.99"
                                },
                                {
                                    "order_id": "1431",
                                    "order_date": "2018-03-11",
                                    "max_list_price": "3999.99"
                                },
                                {
                                    "order_id": "1432",
                                    "order_date": "2018-03-11",
                                    "max_list_price": "1899.00"
                                },
                                {
                                    "order_id": "1433",
                                    "order_date": "2018-03-11",
                                    "max_list_price": "249.99"
                                },
                                {
                                    "order_id": "1430",
                                    "order_date": "2018-03-10",
                                    "max_list_price": "319.99"
                                },
                                {
                                    "order_id": "1428",
                                    "order_date": "2018-03-08",
                                    "max_list_price": "3499.99"
                                },
                                {
                                    "order_id": "1429",
                                    "order_date": "2018-03-08",
                                    "max_list_price": "659.99"
                                },
                                {
                                    "order_id": "1424",
                                    "order_date": "2018-03-07",
                                    "max_list_price": "4999.99"
                                },
                                {
                                    "order_id": "1425",
                                    "order_date": "2018-03-07",
                                    "max_list_price": "3199.99"
                                },
                                {
                                    "order_id": "1426",
                                    "order_date": "2018-03-07",
                                    "max_list_price": "749.99"
                                },
                                {
                                    "order_id": "1427",
                                    "order_date": "2018-03-07",
                                    "max_list_price": "2999.99"
                                },
                                {
                                    "order_id": "1423",
                                    "order_date": "2018-03-06",
                                    "max_list_price": "749.99"
                                },
                                {
                                    "order_id": "1421",
                                    "order_date": "2018-03-05",
                                    "max_list_price": "279.99"
                                },
                                {
                                    "order_id": "1422",
                                    "order_date": "2018-03-05",
                                    "max_list_price": "919.99"
                                },
                                {
                                    "order_id": "1417",
                                    "order_date": "2018-03-04",
                                    "max_list_price": "639.99"
                                },
                                {
                                    "order_id": "1418",
                                    "order_date": "2018-03-04",
                                    "max_list_price": "2499.99"
                                },
                                {
                                    "order_id": "1419",
                                    "order_date": "2018-03-04",
                                    "max_list_price": "1499.00"
                                },
                                {
                                    "order_id": "1420",
                                    "order_date": "2018-03-04",
                                    "max_list_price": "3499.99"
                                },
                                {
                                    "order_id": "1414",
                                    "order_date": "2018-03-03",
                                    "max_list_price": "2999.99"
                                },
                                {
                                    "order_id": "1415",
                                    "order_date": "2018-03-03",
                                    "max_list_price": "1632.99"
                                },
                                {
                                    "order_id": "1416",
                                    "order_date": "2018-03-03",
                                    "max_list_price": "3499.99"
                                },
                                {
                                    "order_id": "1411",
                                    "order_date": "2018-03-01",
                                    "max_list_price": "2999.99"
                                },
                                {
                                    "order_id": "1412",
                                    "order_date": "2018-03-01",
                                    "max_list_price": "5299.99"
                                },
                                {
                                    "order_id": "1413",
                                    "order_date": "2018-03-01",
                                    "max_list_price": "279.99"
                                },
                                {
                                    "order_id": "1410",
                                    "order_date": "2018-02-27",
                                    "max_list_price": "4999.99"
                                },
                                {
                                    "order_id": "1407",
                                    "order_date": "2018-02-26",
                                    "max_list_price": "832.99"
                                },
                                {
                                    "order_id": "1408",
                                    "order_date": "2018-02-26",
                                    "max_list_price": "2599.00"
                                },
                                {
                                    "order_id": "1409",
                                    "order_date": "2018-02-26",
                                    "max_list_price": "3199.99"
                                },
                                {
                                    "order_id": "1405",
                                    "order_date": "2018-02-25",
                                    "max_list_price": "2999.99"
                                },
                                {
                                    "order_id": "1406",
                                    "order_date": "2018-02-25",
                                    "max_list_price": "489.99"
                                },
                                {
                                    "order_id": "1404",
                                    "order_date": "2018-02-23",
                                    "max_list_price": "2799.99"
                                },
                                {
                                    "order_id": "1403",
                                    "order_date": "2018-02-21",
                                    "max_list_price": "209.99"
                                },
                                {
                                    "order_id": "1402",
                                    "order_date": "2018-02-19",
                                    "max_list_price": "4999.99"
                                },
                                {
                                    "order_id": "1401",
                                    "order_date": "2018-02-18",
                                    "max_list_price": "749.99"
                                },
                                {
                                    "order_id": "1400",
                                    "order_date": "2018-02-17",
                                    "max_list_price": "909.99"
                                },
                                {
                                    "order_id": "1398",
                                    "order_date": "2018-02-16",
                                    "max_list_price": "749.99"
                                },
                                {
                                    "order_id": "1399",
                                    "order_date": "2018-02-16",
                                    "max_list_price": "2499.99"
                                },
                                {
                                    "order_id": "1395",
                                    "order_date": "2018-02-15",
                                    "max_list_price": "3599.99"
                                },
                                {
                                    "order_id": "1396",
                                    "order_date": "2018-02-15",
                                    "max_list_price": "2199.99"
                                },
                                {
                                    "order_id": "1397",
                                    "order_date": "2018-02-15",
                                    "max_list_price": "3999.99"
                                },
                                {
                                    "order_id": "1393",
                                    "order_date": "2018-02-14",
                                    "max_list_price": "5299.99"
                                },
                                {
                                    "order_id": "1394",
                                    "order_date": "2018-02-14",
                                    "max_list_price": "2499.99"
                                },
                                {
                                    "order_id": "1391",
                                    "order_date": "2018-02-13",
                                    "max_list_price": "529.99"
                                },
                                {
                                    "order_id": "1392",
                                    "order_date": "2018-02-13",
                                    "max_list_price": "899.99"
                                },
                                {
                                    "order_id": "1390",
                                    "order_date": "2018-02-12",
                                    "max_list_price": "1799.99"
                                },
                                {
                                    "order_id": "1389",
                                    "order_date": "2018-02-11",
                                    "max_list_price": "3199.99"
                                },
                                {
                                    "order_id": "1386",
                                    "order_date": "2018-02-09",
                                    "max_list_price": "4499.99"
                                },
                                {
                                    "order_id": "1387",
                                    "order_date": "2018-02-09",
                                    "max_list_price": "449.99"
                                },
                                {
                                    "order_id": "1388",
                                    "order_date": "2018-02-09",
                                    "max_list_price": "2999.99"
                                },
                                {
                                    "order_id": "1384",
                                    "order_date": "2018-02-08",
                                    "max_list_price": "3199.99"
                                },
                                {
                                    "order_id": "1385",
                                    "order_date": "2018-02-08",
                                    "max_list_price": "1799.99"
                                },
                                {
                                    "order_id": "1383",
                                    "order_date": "2018-02-07",
                                    "max_list_price": "3499.99"
                                },
                                {
                                    "order_id": "1382",
                                    "order_date": "2018-02-06",
                                    "max_list_price": "1499.99"
                                },
                                {
                                    "order_id": "1380",
                                    "order_date": "2018-02-05",
                                    "max_list_price": "899.99"
                                },
                                {
                                    "order_id": "1381",
                                    "order_date": "2018-02-05",
                                    "max_list_price": "899.99"
                                },
                                {
                                    "order_id": "1378",
                                    "order_date": "2018-02-02",
                                    "max_list_price": "3199.99"
                                },
                                {
                                    "order_id": "1379",
                                    "order_date": "2018-02-02",
                                    "max_list_price": "999.99"
                                },
                                {
                                    "order_id": "1376",
                                    "order_date": "2018-02-01",
                                    "max_list_price": "1320.99"
                                },
                                {
                                    "order_id": "1377",
                                    "order_date": "2018-02-01",
                                    "max_list_price": "4999.99"
                                },
                                {
                                    "order_id": "1374",
                                    "order_date": "2018-01-30",
                                    "max_list_price": "2199.99"
                                },
                                {
                                    "order_id": "1375",
                                    "order_date": "2018-01-30",
                                    "max_list_price": "2499.99"
                                },
                                {
                                    "order_id": "1371",
                                    "order_date": "2018-01-29",
                                    "max_list_price": "1799.99"
                                },
                                {
                                    "order_id": "1372",
                                    "order_date": "2018-01-29",
                                    "max_list_price": "749.99"
                                },
                                {
                                    "order_id": "1373",
                                    "order_date": "2018-01-29",
                                    "max_list_price": "3499.99"
                                },
                                {
                                    "order_id": "1369",
                                    "order_date": "2018-01-28",
                                    "max_list_price": "269.99"
                                },
                                {
                                    "order_id": "1370",
                                    "order_date": "2018-01-28",
                                    "max_list_price": "3999.99"
                                },
                                {
                                    "order_id": "1367",
                                    "order_date": "2018-01-27",
                                    "max_list_price": "2599.00"
                                },
                                {
                                    "order_id": "1368",
                                    "order_date": "2018-01-27",
                                    "max_list_price": "4499.99"
                                },
                                {
                                    "order_id": "1366",
                                    "order_date": "2018-01-26",
                                    "max_list_price": "3499.99"
                                },
                                {
                                    "order_id": "1364",
                                    "order_date": "2018-01-25",
                                    "max_list_price": "11999.99"
                                },
                                {
                                    "order_id": "1365",
                                    "order_date": "2018-01-25",
                                    "max_list_price": "4999.99"
                                },
                                {
                                    "order_id": "1363",
                                    "order_date": "2018-01-24",
                                    "max_list_price": "250.99"
                                },
                                {
                                    "order_id": "1362",
                                    "order_date": "2018-01-23",
                                    "max_list_price": "3599.99"
                                },
                                {
                                    "order_id": "1360",
                                    "order_date": "2018-01-22",
                                    "max_list_price": "1632.99"
                                },
                                {
                                    "order_id": "1361",
                                    "order_date": "2018-01-22",
                                    "max_list_price": "4999.99"
                                },
                                {
                                    "order_id": "1358",
                                    "order_date": "2018-01-21",
                                    "max_list_price": "899.99"
                                },
                                {
                                    "order_id": "1359",
                                    "order_date": "2018-01-21",
                                    "max_list_price": "659.99"
                                },
                                {
                                    "order_id": "1357",
                                    "order_date": "2018-01-20",
                                    "max_list_price": "1799.99"
                                },
                                {
                                    "order_id": "1354",
                                    "order_date": "2018-01-19",
                                    "max_list_price": "749.99"
                                },
                                {
                                    "order_id": "1355",
                                    "order_date": "2018-01-19",
                                    "max_list_price": "7499.99"
                                },
                                {
                                    "order_id": "1356",
                                    "order_date": "2018-01-19",
                                    "max_list_price": "2999.99"
                                },
                                {
                                    "order_id": "1353",
                                    "order_date": "2018-01-17",
                                    "max_list_price": "799.99"
                                },
                                {
                                    "order_id": "1351",
                                    "order_date": "2018-01-16",
                                    "max_list_price": "1499.99"
                                },
                                {
                                    "order_id": "1352",
                                    "order_date": "2018-01-16",
                                    "max_list_price": "1799.99"
                                },
                                {
                                    "order_id": "1347",
                                    "order_date": "2018-01-15",
                                    "max_list_price": "5299.99"
                                },
                                {
                                    "order_id": "1348",
                                    "order_date": "2018-01-15",
                                    "max_list_price": "5499.99"
                                },
                                {
                                    "order_id": "1349",
                                    "order_date": "2018-01-15",
                                    "max_list_price": "4999.99"
                                },
                                {
                                    "order_id": "1350",
                                    "order_date": "2018-01-15",
                                    "max_list_price": "2599.99"
                                },
                                {
                                    "order_id": "1345",
                                    "order_date": "2018-01-14",
                                    "max_list_price": "4999.99"
                                },
                                {
                                    "order_id": "1346",
                                    "order_date": "2018-01-14",
                                    "max_list_price": "4499.99"
                                },
                                {
                                    "order_id": "1343",
                                    "order_date": "2018-01-13",
                                    "max_list_price": "3499.99"
                                },
                                {
                                    "order_id": "1344",
                                    "order_date": "2018-01-13",
                                    "max_list_price": "4999.99"
                                },
                                {
                                    "order_id": "1340",
                                    "order_date": "2018-01-12",
                                    "max_list_price": "2599.99"
                                },
                                {
                                    "order_id": "1341",
                                    "order_date": "2018-01-12",
                                    "max_list_price": "5499.99"
                                },
                                {
                                    "order_id": "1342",
                                    "order_date": "2018-01-12",
                                    "max_list_price": "1559.99"
                                },
                                {
                                    "order_id": "1339",
                                    "order_date": "2018-01-11",
                                    "max_list_price": "3199.99"
                                },
                                {
                                    "order_id": "1338",
                                    "order_date": "2018-01-10",
                                    "max_list_price": "6499.99"
                                },
                                {
                                    "order_id": "1336",
                                    "order_date": "2018-01-09",
                                    "max_list_price": "6499.99"
                                },
                                {
                                    "order_id": "1337",
                                    "order_date": "2018-01-09",
                                    "max_list_price": "4999.99"
                                },
                                {
                                    "order_id": "1334",
                                    "order_date": "2018-01-07",
                                    "max_list_price": "4999.99"
                                },
                                {
                                    "order_id": "1335",
                                    "order_date": "2018-01-07",
                                    "max_list_price": "2249.99"
                                },
                                {
                                    "order_id": "1332",
                                    "order_date": "2018-01-06",
                                    "max_list_price": "919.99"
                                },
                                {
                                    "order_id": "1333",
                                    "order_date": "2018-01-06",
                                    "max_list_price": "4999.99"
                                },
                                {
                                    "order_id": "1331",
                                    "order_date": "2018-01-05",
                                    "max_list_price": "2599.99"
                                },
                                {
                                    "order_id": "1329",
                                    "order_date": "2018-01-04",
                                    "max_list_price": "2699.99"
                                },
                                {
                                    "order_id": "1330",
                                    "order_date": "2018-01-04",
                                    "max_list_price": "679.99"
                                },
                                {
                                    "order_id": "1327",
                                    "order_date": "2018-01-02",
                                    "max_list_price": "1549.99"
                                },
                                {
                                    "order_id": "1328",
                                    "order_date": "2018-01-02",
                                    "max_list_price": "919.99"
                                },
                                {
                                    "order_id": "1324",
                                    "order_date": "2018-01-01",
                                    "max_list_price": "2499.99"
                                },
                                {
                                    "order_id": "1325",
                                    "order_date": "2018-01-01",
                                    "max_list_price": "2999.99"
                                },
                                {
                                    "order_id": "1326",
                                    "order_date": "2018-01-01",
                                    "max_list_price": "2799.99"
                                },
                                {
                                    "order_id": "1322",
                                    "order_date": "2017-12-31",
                                    "max_list_price": "2499.99"
                                },
                                {
                                    "order_id": "1323",
                                    "order_date": "2017-12-31",
                                    "max_list_price": "999.99"
                                },
                                {
                                    "order_id": "1321",
                                    "order_date": "2017-12-30",
                                    "max_list_price": "1680.99"
                                },
                                {
                                    "order_id": "1320",
                                    "order_date": "2017-12-28",
                                    "max_list_price": "481.99"
                                },
                                {
                                    "order_id": "1317",
                                    "order_date": "2017-12-27",
                                    "max_list_price": "659.99"
                                },
                                {
                                    "order_id": "1318",
                                    "order_date": "2017-12-27",
                                    "max_list_price": "3499.99"
                                },
                                {
                                    "order_id": "1319",
                                    "order_date": "2017-12-27",
                                    "max_list_price": "599.99"
                                },
                                {
                                    "order_id": "1316",
                                    "order_date": "2017-12-26",
                                    "max_list_price": "299.99"
                                },
                                {
                                    "order_id": "1312",
                                    "order_date": "2017-12-25",
                                    "max_list_price": "599.99"
                                },
                                {
                                    "order_id": "1313",
                                    "order_date": "2017-12-25",
                                    "max_list_price": "599.99"
                                },
                                {
                                    "order_id": "1314",
                                    "order_date": "2017-12-25",
                                    "max_list_price": "875.99"
                                },
                                {
                                    "order_id": "1315",
                                    "order_date": "2017-12-25",
                                    "max_list_price": "1469.99"
                                },
                                {
                                    "order_id": "1310",
                                    "order_date": "2017-12-24",
                                    "max_list_price": "3199.99"
                                },
                                {
                                    "order_id": "1311",
                                    "order_date": "2017-12-24",
                                    "max_list_price": "2299.99"
                                },
                                {
                                    "order_id": "1307",
                                    "order_date": "2017-12-22",
                                    "max_list_price": "749.99"
                                },
                                {
                                    "order_id": "1308",
                                    "order_date": "2017-12-22",
                                    "max_list_price": "5499.99"
                                },
                                {
                                    "order_id": "1309",
                                    "order_date": "2017-12-22",
                                    "max_list_price": "346.99"
                                },
                                {
                                    "order_id": "1306",
                                    "order_date": "2017-12-20",
                                    "max_list_price": "2999.99"
                                },
                                {
                                    "order_id": "1305",
                                    "order_date": "2017-12-17",
                                    "max_list_price": "2999.99"
                                },
                                {
                                    "order_id": "1301",
                                    "order_date": "2017-12-16",
                                    "max_list_price": "1799.99"
                                },
                                {
                                    "order_id": "1302",
                                    "order_date": "2017-12-16",
                                    "max_list_price": "5499.99"
                                },
                                {
                                    "order_id": "1303",
                                    "order_date": "2017-12-16",
                                    "max_list_price": "3499.99"
                                },
                                {
                                    "order_id": "1304",
                                    "order_date": "2017-12-16",
                                    "max_list_price": "761.99"
                                },
                                {
                                    "order_id": "1299",
                                    "order_date": "2017-12-15",
                                    "max_list_price": "875.99"
                                },
                                {
                                    "order_id": "1300",
                                    "order_date": "2017-12-15",
                                    "max_list_price": "4999.99"
                                },
                                {
                                    "order_id": "1296",
                                    "order_date": "2017-12-14",
                                    "max_list_price": "749.99"
                                },
                                {
                                    "order_id": "1297",
                                    "order_date": "2017-12-14",
                                    "max_list_price": "6499.99"
                                },
                                {
                                    "order_id": "1298",
                                    "order_date": "2017-12-14",
                                    "max_list_price": "2599.99"
                                },
                                {
                                    "order_id": "1294",
                                    "order_date": "2017-12-11",
                                    "max_list_price": "539.99"
                                },
                                {
                                    "order_id": "1295",
                                    "order_date": "2017-12-11",
                                    "max_list_price": "4999.99"
                                },
                                {
                                    "order_id": "1292",
                                    "order_date": "2017-12-10",
                                    "max_list_price": "659.99"
                                },
                                {
                                    "order_id": "1293",
                                    "order_date": "2017-12-10",
                                    "max_list_price": "549.99"
                                },
                                {
                                    "order_id": "1291",
                                    "order_date": "2017-12-09",
                                    "max_list_price": "4999.99"
                                },
                                {
                                    "order_id": "1289",
                                    "order_date": "2017-12-08",
                                    "max_list_price": "999.99"
                                },
                                {
                                    "order_id": "1290",
                                    "order_date": "2017-12-08",
                                    "max_list_price": "832.99"
                                },
                                {
                                    "order_id": "1287",
                                    "order_date": "2017-12-07",
                                    "max_list_price": "3499.99"
                                },
                                {
                                    "order_id": "1288",
                                    "order_date": "2017-12-07",
                                    "max_list_price": "3499.99"
                                },
                                {
                                    "order_id": "1283",
                                    "order_date": "2017-12-04",
                                    "max_list_price": "4999.99"
                                },
                                {
                                    "order_id": "1284",
                                    "order_date": "2017-12-04",
                                    "max_list_price": "2899.99"
                                },
                                {
                                    "order_id": "1285",
                                    "order_date": "2017-12-04",
                                    "max_list_price": "647.99"
                                },
                                {
                                    "order_id": "1286",
                                    "order_date": "2017-12-04",
                                    "max_list_price": "1099.99"
                                },
                                {
                                    "order_id": "1282",
                                    "order_date": "2017-12-03",
                                    "max_list_price": "5999.99"
                                },
                                {
                                    "order_id": "1281",
                                    "order_date": "2017-12-02",
                                    "max_list_price": "3499.99"
                                },
                                {
                                    "order_id": "1277",
                                    "order_date": "2017-12-01",
                                    "max_list_price": "5499.99"
                                },
                                {
                                    "order_id": "1278",
                                    "order_date": "2017-12-01",
                                    "max_list_price": "551.99"
                                },
                                {
                                    "order_id": "1279",
                                    "order_date": "2017-12-01",
                                    "max_list_price": "2999.99"
                                },
                                {
                                    "order_id": "1280",
                                    "order_date": "2017-12-01",
                                    "max_list_price": "3499.99"
                                },
                                {
                                    "order_id": "1276",
                                    "order_date": "2017-11-30",
                                    "max_list_price": "4999.99"
                                },
                                {
                                    "order_id": "1275",
                                    "order_date": "2017-11-29",
                                    "max_list_price": "4999.99"
                                },
                                {
                                    "order_id": "1274",
                                    "order_date": "2017-11-28",
                                    "max_list_price": "1099.99"
                                },
                                {
                                    "order_id": "1271",
                                    "order_date": "2017-11-27",
                                    "max_list_price": "5999.99"
                                },
                                {
                                    "order_id": "1272",
                                    "order_date": "2017-11-27",
                                    "max_list_price": "599.99"
                                },
                                {
                                    "order_id": "1273",
                                    "order_date": "2017-11-27",
                                    "max_list_price": "4999.99"
                                },
                                {
                                    "order_id": "1268",
                                    "order_date": "2017-11-26",
                                    "max_list_price": "2599.99"
                                },
                                {
                                    "order_id": "1269",
                                    "order_date": "2017-11-26",
                                    "max_list_price": "3999.99"
                                },
                                {
                                    "order_id": "1270",
                                    "order_date": "2017-11-26",
                                    "max_list_price": "3199.99"
                                },
                                {
                                    "order_id": "1266",
                                    "order_date": "2017-11-25",
                                    "max_list_price": "1499.99"
                                },
                                {
                                    "order_id": "1267",
                                    "order_date": "2017-11-25",
                                    "max_list_price": "999.99"
                                },
                                {
                                    "order_id": "1264",
                                    "order_date": "2017-11-24",
                                    "max_list_price": "999.99"
                                },
                                {
                                    "order_id": "1265",
                                    "order_date": "2017-11-24",
                                    "max_list_price": "1469.99"
                                },
                                {
                                    "order_id": "1261",
                                    "order_date": "2017-11-23",
                                    "max_list_price": "2299.99"
                                },
                                {
                                    "order_id": "1262",
                                    "order_date": "2017-11-23",
                                    "max_list_price": "5299.99"
                                },
                                {
                                    "order_id": "1263",
                                    "order_date": "2017-11-23",
                                    "max_list_price": "3499.99"
                                },
                                {
                                    "order_id": "1260",
                                    "order_date": "2017-11-22",
                                    "max_list_price": "1799.99"
                                },
                                {
                                    "order_id": "1259",
                                    "order_date": "2017-11-21",
                                    "max_list_price": "1559.99"
                                },
                                {
                                    "order_id": "1258",
                                    "order_date": "2017-11-20",
                                    "max_list_price": "299.99"
                                },
                                {
                                    "order_id": "1255",
                                    "order_date": "2017-11-19",
                                    "max_list_price": "5299.99"
                                },
                                {
                                    "order_id": "1256",
                                    "order_date": "2017-11-19",
                                    "max_list_price": "539.99"
                                },
                                {
                                    "order_id": "1257",
                                    "order_date": "2017-11-19",
                                    "max_list_price": "4999.99"
                                },
                                {
                                    "order_id": "1252",
                                    "order_date": "2017-11-18",
                                    "max_list_price": "1999.99"
                                },
                                {
                                    "order_id": "1253",
                                    "order_date": "2017-11-18",
                                    "max_list_price": "499.99"
                                },
                                {
                                    "order_id": "1254",
                                    "order_date": "2017-11-18",
                                    "max_list_price": "761.99"
                                },
                                {
                                    "order_id": "1249",
                                    "order_date": "2017-11-17",
                                    "max_list_price": "4999.99"
                                },
                                {
                                    "order_id": "1250",
                                    "order_date": "2017-11-17",
                                    "max_list_price": "647.99"
                                },
                                {
                                    "order_id": "1251",
                                    "order_date": "2017-11-17",
                                    "max_list_price": "5499.99"
                                },
                                {
                                    "order_id": "1247",
                                    "order_date": "2017-11-16",
                                    "max_list_price": "2499.99"
                                },
                                {
                                    "order_id": "1248",
                                    "order_date": "2017-11-16",
                                    "max_list_price": "549.99"
                                },
                                {
                                    "order_id": "1245",
                                    "order_date": "2017-11-13",
                                    "max_list_price": "269.99"
                                },
                                {
                                    "order_id": "1246",
                                    "order_date": "2017-11-13",
                                    "max_list_price": "1409.99"
                                },
                                {
                                    "order_id": "1244",
                                    "order_date": "2017-11-12",
                                    "max_list_price": "869.99"
                                },
                                {
                                    "order_id": "1242",
                                    "order_date": "2017-11-11",
                                    "max_list_price": "1549.00"
                                },
                                {
                                    "order_id": "1243",
                                    "order_date": "2017-11-11",
                                    "max_list_price": "539.99"
                                },
                                {
                                    "order_id": "1240",
                                    "order_date": "2017-11-10",
                                    "max_list_price": "1999.99"
                                },
                                {
                                    "order_id": "1241",
                                    "order_date": "2017-11-10",
                                    "max_list_price": "439.99"
                                },
                                {
                                    "order_id": "1237",
                                    "order_date": "2017-11-09",
                                    "max_list_price": "2699.99"
                                },
                                {
                                    "order_id": "1238",
                                    "order_date": "2017-11-09",
                                    "max_list_price": "4999.99"
                                },
                                {
                                    "order_id": "1239",
                                    "order_date": "2017-11-09",
                                    "max_list_price": "832.99"
                                },
                                {
                                    "order_id": "1236",
                                    "order_date": "2017-11-08",
                                    "max_list_price": "1559.99"
                                },
                                {
                                    "order_id": "1234",
                                    "order_date": "2017-11-07",
                                    "max_list_price": "5499.99"
                                },
                                {
                                    "order_id": "1235",
                                    "order_date": "2017-11-07",
                                    "max_list_price": "3999.99"
                                },
                                {
                                    "order_id": "1232",
                                    "order_date": "2017-11-06",
                                    "max_list_price": "2899.99"
                                },
                                {
                                    "order_id": "1233",
                                    "order_date": "2017-11-06",
                                    "max_list_price": "4999.99"
                                },
                                {
                                    "order_id": "1229",
                                    "order_date": "2017-11-05",
                                    "max_list_price": "4999.99"
                                },
                                {
                                    "order_id": "1230",
                                    "order_date": "2017-11-05",
                                    "max_list_price": "549.99"
                                },
                                {
                                    "order_id": "1231",
                                    "order_date": "2017-11-05",
                                    "max_list_price": "659.99"
                                },
                                {
                                    "order_id": "1225",
                                    "order_date": "2017-11-04",
                                    "max_list_price": "2599.99"
                                },
                                {
                                    "order_id": "1226",
                                    "order_date": "2017-11-04",
                                    "max_list_price": "6499.99"
                                },
                                {
                                    "order_id": "1227",
                                    "order_date": "2017-11-04",
                                    "max_list_price": "2299.99"
                                },
                                {
                                    "order_id": "1228",
                                    "order_date": "2017-11-04",
                                    "max_list_price": "2699.99"
                                },
                                {
                                    "order_id": "1224",
                                    "order_date": "2017-11-03",
                                    "max_list_price": "6499.99"
                                },
                                {
                                    "order_id": "1223",
                                    "order_date": "2017-11-02",
                                    "max_list_price": "551.99"
                                },
                                {
                                    "order_id": "1222",
                                    "order_date": "2017-11-01",
                                    "max_list_price": "349.99"
                                },
                                {
                                    "order_id": "1220",
                                    "order_date": "2017-10-31",
                                    "max_list_price": "5299.99"
                                },
                                {
                                    "order_id": "1221",
                                    "order_date": "2017-10-31",
                                    "max_list_price": "2299.99"
                                },
                                {
                                    "order_id": "1218",
                                    "order_date": "2017-10-30",
                                    "max_list_price": "489.99"
                                },
                                {
                                    "order_id": "1219",
                                    "order_date": "2017-10-30",
                                    "max_list_price": "4999.99"
                                },
                                {
                                    "order_id": "1214",
                                    "order_date": "2017-10-28",
                                    "max_list_price": "3999.99"
                                },
                                {
                                    "order_id": "1215",
                                    "order_date": "2017-10-28",
                                    "max_list_price": "1549.00"
                                },
                                {
                                    "order_id": "1216",
                                    "order_date": "2017-10-28",
                                    "max_list_price": "5299.99"
                                },
                                {
                                    "order_id": "1217",
                                    "order_date": "2017-10-28",
                                    "max_list_price": "749.99"
                                },
                                {
                                    "order_id": "1211",
                                    "order_date": "2017-10-27",
                                    "max_list_price": "2599.99"
                                },
                                {
                                    "order_id": "1212",
                                    "order_date": "2017-10-27",
                                    "max_list_price": "1499.99"
                                },
                                {
                                    "order_id": "1213",
                                    "order_date": "2017-10-27",
                                    "max_list_price": "647.99"
                                },
                                {
                                    "order_id": "1205",
                                    "order_date": "2017-10-26",
                                    "max_list_price": "1409.99"
                                },
                                {
                                    "order_id": "1206",
                                    "order_date": "2017-10-26",
                                    "max_list_price": "999.99"
                                },
                                {
                                    "order_id": "1207",
                                    "order_date": "2017-10-26",
                                    "max_list_price": "551.99"
                                },
                                {
                                    "order_id": "1208",
                                    "order_date": "2017-10-26",
                                    "max_list_price": "549.99"
                                },
                                {
                                    "order_id": "1209",
                                    "order_date": "2017-10-26",
                                    "max_list_price": "349.99"
                                },
                                {
                                    "order_id": "1210",
                                    "order_date": "2017-10-26",
                                    "max_list_price": "832.99"
                                },
                                {
                                    "order_id": "1203",
                                    "order_date": "2017-10-25",
                                    "max_list_price": "2699.99"
                                },
                                {
                                    "order_id": "1204",
                                    "order_date": "2017-10-25",
                                    "max_list_price": "379.99"
                                },
                                {
                                    "order_id": "1202",
                                    "order_date": "2017-10-24",
                                    "max_list_price": "109.99"
                                },
                                {
                                    "order_id": "1199",
                                    "order_date": "2017-10-23",
                                    "max_list_price": "469.99"
                                },
                                {
                                    "order_id": "1200",
                                    "order_date": "2017-10-23",
                                    "max_list_price": "2299.99"
                                },
                                {
                                    "order_id": "1201",
                                    "order_date": "2017-10-23",
                                    "max_list_price": "599.99"
                                },
                                {
                                    "order_id": "1198",
                                    "order_date": "2017-10-22",
                                    "max_list_price": "533.99"
                                },
                                {
                                    "order_id": "1197",
                                    "order_date": "2017-10-21",
                                    "max_list_price": "2999.99"
                                },
                                {
                                    "order_id": "1194",
                                    "order_date": "2017-10-19",
                                    "max_list_price": "3999.99"
                                },
                                {
                                    "order_id": "1195",
                                    "order_date": "2017-10-19",
                                    "max_list_price": "875.99"
                                },
                                {
                                    "order_id": "1196",
                                    "order_date": "2017-10-19",
                                    "max_list_price": "749.99"
                                },
                                {
                                    "order_id": "1191",
                                    "order_date": "2017-10-17",
                                    "max_list_price": "4999.99"
                                },
                                {
                                    "order_id": "1192",
                                    "order_date": "2017-10-17",
                                    "max_list_price": "549.99"
                                },
                                {
                                    "order_id": "1193",
                                    "order_date": "2017-10-17",
                                    "max_list_price": "999.99"
                                },
                                {
                                    "order_id": "1190",
                                    "order_date": "2017-10-16",
                                    "max_list_price": "416.99"
                                },
                                {
                                    "order_id": "1187",
                                    "order_date": "2017-10-15",
                                    "max_list_price": "2899.99"
                                },
                                {
                                    "order_id": "1188",
                                    "order_date": "2017-10-15",
                                    "max_list_price": "349.99"
                                },
                                {
                                    "order_id": "1189",
                                    "order_date": "2017-10-15",
                                    "max_list_price": "4999.99"
                                },
                                {
                                    "order_id": "1183",
                                    "order_date": "2017-10-14",
                                    "max_list_price": "3499.99"
                                },
                                {
                                    "order_id": "1184",
                                    "order_date": "2017-10-14",
                                    "max_list_price": "599.99"
                                },
                                {
                                    "order_id": "1185",
                                    "order_date": "2017-10-14",
                                    "max_list_price": "3499.99"
                                },
                                {
                                    "order_id": "1186",
                                    "order_date": "2017-10-14",
                                    "max_list_price": "3499.99"
                                },
                                {
                                    "order_id": "1180",
                                    "order_date": "2017-10-13",
                                    "max_list_price": "250.99"
                                },
                                {
                                    "order_id": "1181",
                                    "order_date": "2017-10-13",
                                    "max_list_price": "489.99"
                                },
                                {
                                    "order_id": "1182",
                                    "order_date": "2017-10-13",
                                    "max_list_price": "3499.99"
                                },
                                {
                                    "order_id": "1177",
                                    "order_date": "2017-10-12",
                                    "max_list_price": "3499.99"
                                },
                                {
                                    "order_id": "1178",
                                    "order_date": "2017-10-12",
                                    "max_list_price": "1409.99"
                                },
                                {
                                    "order_id": "1179",
                                    "order_date": "2017-10-12",
                                    "max_list_price": "5999.99"
                                },
                                {
                                    "order_id": "1176",
                                    "order_date": "2017-10-10",
                                    "max_list_price": "189.99"
                                },
                                {
                                    "order_id": "1175",
                                    "order_date": "2017-10-09",
                                    "max_list_price": "4999.99"
                                },
                                {
                                    "order_id": "1173",
                                    "order_date": "2017-10-08",
                                    "max_list_price": "551.99"
                                },
                                {
                                    "order_id": "1174",
                                    "order_date": "2017-10-08",
                                    "max_list_price": "470.99"
                                },
                                {
                                    "order_id": "1172",
                                    "order_date": "2017-10-07",
                                    "max_list_price": "647.99"
                                },
                                {
                                    "order_id": "1170",
                                    "order_date": "2017-10-05",
                                    "max_list_price": "5299.99"
                                },
                                {
                                    "order_id": "1171",
                                    "order_date": "2017-10-05",
                                    "max_list_price": "1549.00"
                                },
                                {
                                    "order_id": "1167",
                                    "order_date": "2017-10-04",
                                    "max_list_price": "1099.99"
                                },
                                {
                                    "order_id": "1168",
                                    "order_date": "2017-10-04",
                                    "max_list_price": "6499.99"
                                },
                                {
                                    "order_id": "1169",
                                    "order_date": "2017-10-04",
                                    "max_list_price": "6499.99"
                                },
                                {
                                    "order_id": "1166",
                                    "order_date": "2017-10-03",
                                    "max_list_price": "551.99"
                                },
                                {
                                    "order_id": "1165",
                                    "order_date": "2017-10-02",
                                    "max_list_price": "449.99"
                                },
                                {
                                    "order_id": "1157",
                                    "order_date": "2017-10-01",
                                    "max_list_price": "1632.99"
                                },
                                {
                                    "order_id": "1158",
                                    "order_date": "2017-10-01",
                                    "max_list_price": "439.99"
                                },
                                {
                                    "order_id": "1159",
                                    "order_date": "2017-10-01",
                                    "max_list_price": "549.99"
                                },
                                {
                                    "order_id": "1160",
                                    "order_date": "2017-10-01",
                                    "max_list_price": "2999.99"
                                },
                                {
                                    "order_id": "1161",
                                    "order_date": "2017-10-01",
                                    "max_list_price": "999.99"
                                },
                                {
                                    "order_id": "1162",
                                    "order_date": "2017-10-01",
                                    "max_list_price": "4999.99"
                                },
                                {
                                    "order_id": "1163",
                                    "order_date": "2017-10-01",
                                    "max_list_price": "3499.99"
                                },
                                {
                                    "order_id": "1164",
                                    "order_date": "2017-10-01",
                                    "max_list_price": "1799.99"
                                },
                                {
                                    "order_id": "1153",
                                    "order_date": "2017-09-30",
                                    "max_list_price": "551.99"
                                },
                                {
                                    "order_id": "1154",
                                    "order_date": "2017-09-30",
                                    "max_list_price": "1559.99"
                                },
                                {
                                    "order_id": "1155",
                                    "order_date": "2017-09-30",
                                    "max_list_price": "832.99"
                                },
                                {
                                    "order_id": "1156",
                                    "order_date": "2017-09-30",
                                    "max_list_price": "470.99"
                                },
                                {
                                    "order_id": "1151",
                                    "order_date": "2017-09-29",
                                    "max_list_price": "999.99"
                                },
                                {
                                    "order_id": "1152",
                                    "order_date": "2017-09-29",
                                    "max_list_price": "4999.99"
                                },
                                {
                                    "order_id": "1150",
                                    "order_date": "2017-09-28",
                                    "max_list_price": "999.99"
                                },
                                {
                                    "order_id": "1149",
                                    "order_date": "2017-09-27",
                                    "max_list_price": "4999.99"
                                },
                                {
                                    "order_id": "1145",
                                    "order_date": "2017-09-25",
                                    "max_list_price": "533.99"
                                },
                                {
                                    "order_id": "1146",
                                    "order_date": "2017-09-25",
                                    "max_list_price": "1680.99"
                                },
                                {
                                    "order_id": "1147",
                                    "order_date": "2017-09-25",
                                    "max_list_price": "1499.99"
                                },
                                {
                                    "order_id": "1148",
                                    "order_date": "2017-09-25",
                                    "max_list_price": "799.99"
                                },
                                {
                                    "order_id": "1143",
                                    "order_date": "2017-09-24",
                                    "max_list_price": "1499.99"
                                },
                                {
                                    "order_id": "1144",
                                    "order_date": "2017-09-24",
                                    "max_list_price": "189.99"
                                },
                                {
                                    "order_id": "1142",
                                    "order_date": "2017-09-23",
                                    "max_list_price": "999.99"
                                },
                                {
                                    "order_id": "1141",
                                    "order_date": "2017-09-22",
                                    "max_list_price": "1799.99"
                                },
                                {
                                    "order_id": "1138",
                                    "order_date": "2017-09-21",
                                    "max_list_price": "533.99"
                                },
                                {
                                    "order_id": "1139",
                                    "order_date": "2017-09-21",
                                    "max_list_price": "3999.99"
                                },
                                {
                                    "order_id": "1140",
                                    "order_date": "2017-09-21",
                                    "max_list_price": "4999.99"
                                },
                                {
                                    "order_id": "1136",
                                    "order_date": "2017-09-20",
                                    "max_list_price": "533.99"
                                },
                                {
                                    "order_id": "1137",
                                    "order_date": "2017-09-20",
                                    "max_list_price": "4999.99"
                                },
                                {
                                    "order_id": "1132",
                                    "order_date": "2017-09-19",
                                    "max_list_price": "5299.99"
                                },
                                {
                                    "order_id": "1133",
                                    "order_date": "2017-09-19",
                                    "max_list_price": "3499.99"
                                },
                                {
                                    "order_id": "1134",
                                    "order_date": "2017-09-19",
                                    "max_list_price": "832.99"
                                },
                                {
                                    "order_id": "1135",
                                    "order_date": "2017-09-19",
                                    "max_list_price": "6499.99"
                                },
                                {
                                    "order_id": "1130",
                                    "order_date": "2017-09-18",
                                    "max_list_price": "3199.99"
                                },
                                {
                                    "order_id": "1131",
                                    "order_date": "2017-09-18",
                                    "max_list_price": "1559.99"
                                },
                                {
                                    "order_id": "1129",
                                    "order_date": "2017-09-17",
                                    "max_list_price": "5499.99"
                                },
                                {
                                    "order_id": "1127",
                                    "order_date": "2017-09-15",
                                    "max_list_price": "379.99"
                                },
                                {
                                    "order_id": "1128",
                                    "order_date": "2017-09-15",
                                    "max_list_price": "1549.00"
                                },
                                {
                                    "order_id": "1125",
                                    "order_date": "2017-09-14",
                                    "max_list_price": "1099.99"
                                },
                                {
                                    "order_id": "1126",
                                    "order_date": "2017-09-14",
                                    "max_list_price": "4999.99"
                                },
                                {
                                    "order_id": "1123",
                                    "order_date": "2017-09-13",
                                    "max_list_price": "4999.99"
                                },
                                {
                                    "order_id": "1124",
                                    "order_date": "2017-09-13",
                                    "max_list_price": "3999.99"
                                },
                                {
                                    "order_id": "1122",
                                    "order_date": "2017-09-12",
                                    "max_list_price": "3499.99"
                                },
                                {
                                    "order_id": "1121",
                                    "order_date": "2017-09-11",
                                    "max_list_price": "1680.99"
                                },
                                {
                                    "order_id": "1119",
                                    "order_date": "2017-09-10",
                                    "max_list_price": "2699.99"
                                },
                                {
                                    "order_id": "1120",
                                    "order_date": "2017-09-10",
                                    "max_list_price": "1632.99"
                                },
                                {
                                    "order_id": "1116",
                                    "order_date": "2017-09-08",
                                    "max_list_price": "1680.99"
                                },
                                {
                                    "order_id": "1117",
                                    "order_date": "2017-09-08",
                                    "max_list_price": "6499.99"
                                },
                                {
                                    "order_id": "1118",
                                    "order_date": "2017-09-08",
                                    "max_list_price": "5999.99"
                                },
                                {
                                    "order_id": "1115",
                                    "order_date": "2017-09-07",
                                    "max_list_price": "5999.99"
                                },
                                {
                                    "order_id": "1113",
                                    "order_date": "2017-09-06",
                                    "max_list_price": "449.99"
                                },
                                {
                                    "order_id": "1114",
                                    "order_date": "2017-09-06",
                                    "max_list_price": "875.99"
                                },
                                {
                                    "order_id": "1112",
                                    "order_date": "2017-09-05",
                                    "max_list_price": "2999.99"
                                },
                                {
                                    "order_id": "1110",
                                    "order_date": "2017-09-04",
                                    "max_list_price": "5499.99"
                                },
                                {
                                    "order_id": "1111",
                                    "order_date": "2017-09-04",
                                    "max_list_price": "549.99"
                                },
                                {
                                    "order_id": "1108",
                                    "order_date": "2017-09-03",
                                    "max_list_price": "869.99"
                                },
                                {
                                    "order_id": "1109",
                                    "order_date": "2017-09-03",
                                    "max_list_price": "619.99"
                                },
                                {
                                    "order_id": "1106",
                                    "order_date": "2017-09-02",
                                    "max_list_price": "349.99"
                                },
                                {
                                    "order_id": "1107",
                                    "order_date": "2017-09-02",
                                    "max_list_price": "5299.99"
                                },
                                {
                                    "order_id": "1104",
                                    "order_date": "2017-09-01",
                                    "max_list_price": "5299.99"
                                },
                                {
                                    "order_id": "1105",
                                    "order_date": "2017-09-01",
                                    "max_list_price": "5499.99"
                                },
                                {
                                    "order_id": "1103",
                                    "order_date": "2017-08-31",
                                    "max_list_price": "1409.99"
                                },
                                {
                                    "order_id": "1101",
                                    "order_date": "2017-08-29",
                                    "max_list_price": "6499.99"
                                },
                                {
                                    "order_id": "1102",
                                    "order_date": "2017-08-29",
                                    "max_list_price": "349.99"
                                },
                                {
                                    "order_id": "1098",
                                    "order_date": "2017-08-28",
                                    "max_list_price": "189.99"
                                },
                                {
                                    "order_id": "1099",
                                    "order_date": "2017-08-28",
                                    "max_list_price": "1409.99"
                                },
                                {
                                    "order_id": "1100",
                                    "order_date": "2017-08-28",
                                    "max_list_price": "2999.99"
                                },
                                {
                                    "order_id": "1096",
                                    "order_date": "2017-08-27",
                                    "max_list_price": "1680.99"
                                },
                                {
                                    "order_id": "1097",
                                    "order_date": "2017-08-27",
                                    "max_list_price": "832.99"
                                },
                                {
                                    "order_id": "1095",
                                    "order_date": "2017-08-26",
                                    "max_list_price": "5999.99"
                                },
                                {
                                    "order_id": "1092",
                                    "order_date": "2017-08-25",
                                    "max_list_price": "999.99"
                                },
                                {
                                    "order_id": "1093",
                                    "order_date": "2017-08-25",
                                    "max_list_price": "869.99"
                                },
                                {
                                    "order_id": "1094",
                                    "order_date": "2017-08-25",
                                    "max_list_price": "1680.99"
                                },
                                {
                                    "order_id": "1090",
                                    "order_date": "2017-08-24",
                                    "max_list_price": "439.99"
                                },
                                {
                                    "order_id": "1091",
                                    "order_date": "2017-08-24",
                                    "max_list_price": "5499.99"
                                },
                                {
                                    "order_id": "1089",
                                    "order_date": "2017-08-23",
                                    "max_list_price": "999.99"
                                },
                                {
                                    "order_id": "1087",
                                    "order_date": "2017-08-22",
                                    "max_list_price": "2599.99"
                                },
                                {
                                    "order_id": "1088",
                                    "order_date": "2017-08-22",
                                    "max_list_price": "999.99"
                                },
                                {
                                    "order_id": "1084",
                                    "order_date": "2017-08-21",
                                    "max_list_price": "1559.99"
                                },
                                {
                                    "order_id": "1085",
                                    "order_date": "2017-08-21",
                                    "max_list_price": "489.99"
                                },
                                {
                                    "order_id": "1086",
                                    "order_date": "2017-08-21",
                                    "max_list_price": "1549.00"
                                },
                                {
                                    "order_id": "1082",
                                    "order_date": "2017-08-20",
                                    "max_list_price": "999.99"
                                },
                                {
                                    "order_id": "1083",
                                    "order_date": "2017-08-20",
                                    "max_list_price": "4999.99"
                                },
                                {
                                    "order_id": "1074",
                                    "order_date": "2017-08-19",
                                    "max_list_price": "2599.99"
                                },
                                {
                                    "order_id": "1075",
                                    "order_date": "2017-08-19",
                                    "max_list_price": "1499.99"
                                },
                                {
                                    "order_id": "1076",
                                    "order_date": "2017-08-19",
                                    "max_list_price": "749.99"
                                },
                                {
                                    "order_id": "1077",
                                    "order_date": "2017-08-19",
                                    "max_list_price": "1559.99"
                                },
                                {
                                    "order_id": "1078",
                                    "order_date": "2017-08-19",
                                    "max_list_price": "1559.99"
                                },
                                {
                                    "order_id": "1079",
                                    "order_date": "2017-08-19",
                                    "max_list_price": "659.99"
                                },
                                {
                                    "order_id": "1080",
                                    "order_date": "2017-08-19",
                                    "max_list_price": "5999.99"
                                },
                                {
                                    "order_id": "1081",
                                    "order_date": "2017-08-19",
                                    "max_list_price": "875.99"
                                },
                                {
                                    "order_id": "1072",
                                    "order_date": "2017-08-18",
                                    "max_list_price": "832.99"
                                },
                                {
                                    "order_id": "1073",
                                    "order_date": "2017-08-18",
                                    "max_list_price": "1099.99"
                                },
                                {
                                    "order_id": "1065",
                                    "order_date": "2017-08-17",
                                    "max_list_price": "3499.99"
                                },
                                {
                                    "order_id": "1066",
                                    "order_date": "2017-08-17",
                                    "max_list_price": "1409.99"
                                },
                                {
                                    "order_id": "1067",
                                    "order_date": "2017-08-17",
                                    "max_list_price": "2999.99"
                                },
                                {
                                    "order_id": "1068",
                                    "order_date": "2017-08-17",
                                    "max_list_price": "3499.99"
                                },
                                {
                                    "order_id": "1069",
                                    "order_date": "2017-08-17",
                                    "max_list_price": "416.99"
                                },
                                {
                                    "order_id": "1070",
                                    "order_date": "2017-08-17",
                                    "max_list_price": "470.99"
                                },
                                {
                                    "order_id": "1071",
                                    "order_date": "2017-08-17",
                                    "max_list_price": "499.99"
                                },
                                {
                                    "order_id": "1063",
                                    "order_date": "2017-08-16",
                                    "max_list_price": "619.99"
                                },
                                {
                                    "order_id": "1064",
                                    "order_date": "2017-08-16",
                                    "max_list_price": "3499.99"
                                },
                                {
                                    "order_id": "1060",
                                    "order_date": "2017-08-15",
                                    "max_list_price": "4999.99"
                                },
                                {
                                    "order_id": "1061",
                                    "order_date": "2017-08-15",
                                    "max_list_price": "449.00"
                                },
                                {
                                    "order_id": "1062",
                                    "order_date": "2017-08-15",
                                    "max_list_price": "1320.99"
                                },
                                {
                                    "order_id": "1059",
                                    "order_date": "2017-08-14",
                                    "max_list_price": "3999.99"
                                },
                                {
                                    "order_id": "1058",
                                    "order_date": "2017-08-13",
                                    "max_list_price": "5299.99"
                                },
                                {
                                    "order_id": "1055",
                                    "order_date": "2017-08-12",
                                    "max_list_price": "5299.99"
                                },
                                {
                                    "order_id": "1056",
                                    "order_date": "2017-08-12",
                                    "max_list_price": "999.99"
                                },
                                {
                                    "order_id": "1057",
                                    "order_date": "2017-08-12",
                                    "max_list_price": "533.99"
                                },
                                {
                                    "order_id": "1054",
                                    "order_date": "2017-08-11",
                                    "max_list_price": "832.99"
                                },
                                {
                                    "order_id": "1051",
                                    "order_date": "2017-08-10",
                                    "max_list_price": "1409.99"
                                },
                                {
                                    "order_id": "1052",
                                    "order_date": "2017-08-10",
                                    "max_list_price": "3999.99"
                                },
                                {
                                    "order_id": "1053",
                                    "order_date": "2017-08-10",
                                    "max_list_price": "3499.99"
                                },
                                {
                                    "order_id": "1049",
                                    "order_date": "2017-08-09",
                                    "max_list_price": "2999.99"
                                },
                                {
                                    "order_id": "1050",
                                    "order_date": "2017-08-09",
                                    "max_list_price": "869.99"
                                },
                                {
                                    "order_id": "1047",
                                    "order_date": "2017-08-08",
                                    "max_list_price": "3499.99"
                                },
                                {
                                    "order_id": "1048",
                                    "order_date": "2017-08-08",
                                    "max_list_price": "999.99"
                                },
                                {
                                    "order_id": "1044",
                                    "order_date": "2017-08-07",
                                    "max_list_price": "349.99"
                                },
                                {
                                    "order_id": "1045",
                                    "order_date": "2017-08-07",
                                    "max_list_price": "2499.99"
                                },
                                {
                                    "order_id": "1046",
                                    "order_date": "2017-08-07",
                                    "max_list_price": "1559.99"
                                },
                                {
                                    "order_id": "1042",
                                    "order_date": "2017-08-06",
                                    "max_list_price": "299.99"
                                },
                                {
                                    "order_id": "1043",
                                    "order_date": "2017-08-06",
                                    "max_list_price": "2699.99"
                                },
                                {
                                    "order_id": "1040",
                                    "order_date": "2017-08-04",
                                    "max_list_price": "2499.99"
                                },
                                {
                                    "order_id": "1041",
                                    "order_date": "2017-08-04",
                                    "max_list_price": "4999.99"
                                },
                                {
                                    "order_id": "1039",
                                    "order_date": "2017-08-02",
                                    "max_list_price": "449.00"
                                },
                                {
                                    "order_id": "1037",
                                    "order_date": "2017-07-31",
                                    "max_list_price": "999.99"
                                },
                                {
                                    "order_id": "1038",
                                    "order_date": "2017-07-31",
                                    "max_list_price": "2999.99"
                                },
                                {
                                    "order_id": "1031",
                                    "order_date": "2017-07-30",
                                    "max_list_price": "999.99"
                                },
                                {
                                    "order_id": "1032",
                                    "order_date": "2017-07-30",
                                    "max_list_price": "1559.99"
                                },
                                {
                                    "order_id": "1033",
                                    "order_date": "2017-07-30",
                                    "max_list_price": "999.99"
                                },
                                {
                                    "order_id": "1034",
                                    "order_date": "2017-07-30",
                                    "max_list_price": "1799.99"
                                },
                                {
                                    "order_id": "1035",
                                    "order_date": "2017-07-30",
                                    "max_list_price": "349.99"
                                },
                                {
                                    "order_id": "1036",
                                    "order_date": "2017-07-30",
                                    "max_list_price": "2699.99"
                                },
                                {
                                    "order_id": "1029",
                                    "order_date": "2017-07-29",
                                    "max_list_price": "4999.99"
                                },
                                {
                                    "order_id": "1030",
                                    "order_date": "2017-07-29",
                                    "max_list_price": "1549.00"
                                },
                                {
                                    "order_id": "1028",
                                    "order_date": "2017-07-27",
                                    "max_list_price": "1549.00"
                                },
                                {
                                    "order_id": "1026",
                                    "order_date": "2017-07-26",
                                    "max_list_price": "3999.99"
                                },
                                {
                                    "order_id": "1027",
                                    "order_date": "2017-07-26",
                                    "max_list_price": "299.99"
                                },
                                {
                                    "order_id": "1020",
                                    "order_date": "2017-07-23",
                                    "max_list_price": "4999.99"
                                },
                                {
                                    "order_id": "1021",
                                    "order_date": "2017-07-23",
                                    "max_list_price": "3499.99"
                                },
                                {
                                    "order_id": "1022",
                                    "order_date": "2017-07-23",
                                    "max_list_price": "1409.99"
                                },
                                {
                                    "order_id": "1023",
                                    "order_date": "2017-07-23",
                                    "max_list_price": "5299.99"
                                },
                                {
                                    "order_id": "1024",
                                    "order_date": "2017-07-23",
                                    "max_list_price": "2499.99"
                                },
                                {
                                    "order_id": "1025",
                                    "order_date": "2017-07-23",
                                    "max_list_price": "1499.99"
                                },
                                {
                                    "order_id": "1018",
                                    "order_date": "2017-07-22",
                                    "max_list_price": "349.99"
                                },
                                {
                                    "order_id": "1019",
                                    "order_date": "2017-07-22",
                                    "max_list_price": "999.99"
                                },
                                {
                                    "order_id": "1017",
                                    "order_date": "2017-07-20",
                                    "max_list_price": "799.99"
                                },
                                {
                                    "order_id": "1013",
                                    "order_date": "2017-07-19",
                                    "max_list_price": "1559.99"
                                },
                                {
                                    "order_id": "1014",
                                    "order_date": "2017-07-19",
                                    "max_list_price": "2599.99"
                                },
                                {
                                    "order_id": "1015",
                                    "order_date": "2017-07-19",
                                    "max_list_price": "749.99"
                                },
                                {
                                    "order_id": "1016",
                                    "order_date": "2017-07-19",
                                    "max_list_price": "299.99"
                                },
                                {
                                    "order_id": "1010",
                                    "order_date": "2017-07-18",
                                    "max_list_price": "416.99"
                                },
                                {
                                    "order_id": "1011",
                                    "order_date": "2017-07-18",
                                    "max_list_price": "599.99"
                                },
                                {
                                    "order_id": "1012",
                                    "order_date": "2017-07-18",
                                    "max_list_price": "1799.99"
                                },
                                {
                                    "order_id": "1007",
                                    "order_date": "2017-07-16",
                                    "max_list_price": "1680.99"
                                },
                                {
                                    "order_id": "1008",
                                    "order_date": "2017-07-16",
                                    "max_list_price": "749.99"
                                },
                                {
                                    "order_id": "1009",
                                    "order_date": "2017-07-16",
                                    "max_list_price": "539.99"
                                },
                                {
                                    "order_id": "1005",
                                    "order_date": "2017-07-15",
                                    "max_list_price": "1099.99"
                                },
                                {
                                    "order_id": "1006",
                                    "order_date": "2017-07-15",
                                    "max_list_price": "5499.99"
                                },
                                {
                                    "order_id": "1002",
                                    "order_date": "2017-07-14",
                                    "max_list_price": "1799.99"
                                },
                                {
                                    "order_id": "1003",
                                    "order_date": "2017-07-14",
                                    "max_list_price": "6499.99"
                                },
                                {
                                    "order_id": "1004",
                                    "order_date": "2017-07-14",
                                    "max_list_price": "832.99"
                                },
                                {
                                    "order_id": "1001",
                                    "order_date": "2017-07-13",
                                    "max_list_price": "4999.99"
                                },
                                {
                                    "order_id": "998",
                                    "order_date": "2017-07-12",
                                    "max_list_price": "599.99"
                                },
                                {
                                    "order_id": "999",
                                    "order_date": "2017-07-12",
                                    "max_list_price": "659.99"
                                },
                                {
                                    "order_id": "1000",
                                    "order_date": "2017-07-12",
                                    "max_list_price": "999.99"
                                },
                                {
                                    "order_id": "995",
                                    "order_date": "2017-07-11",
                                    "max_list_price": "599.99"
                                },
                                {
                                    "order_id": "996",
                                    "order_date": "2017-07-11",
                                    "max_list_price": "469.99"
                                },
                                {
                                    "order_id": "997",
                                    "order_date": "2017-07-11",
                                    "max_list_price": "533.99"
                                },
                                {
                                    "order_id": "993",
                                    "order_date": "2017-07-09",
                                    "max_list_price": "4999.99"
                                },
                                {
                                    "order_id": "994",
                                    "order_date": "2017-07-09",
                                    "max_list_price": "869.99"
                                },
                                {
                                    "order_id": "992",
                                    "order_date": "2017-07-07",
                                    "max_list_price": "3999.99"
                                },
                                {
                                    "order_id": "991",
                                    "order_date": "2017-07-06",
                                    "max_list_price": "2999.99"
                                },
                                {
                                    "order_id": "990",
                                    "order_date": "2017-07-04",
                                    "max_list_price": "999.99"
                                },
                                {
                                    "order_id": "987",
                                    "order_date": "2017-07-02",
                                    "max_list_price": "6499.99"
                                },
                                {
                                    "order_id": "988",
                                    "order_date": "2017-07-02",
                                    "max_list_price": "832.99"
                                },
                                {
                                    "order_id": "989",
                                    "order_date": "2017-07-02",
                                    "max_list_price": "1320.99"
                                },
                                {
                                    "order_id": "985",
                                    "order_date": "2017-06-30",
                                    "max_list_price": "2599.99"
                                },
                                {
                                    "order_id": "986",
                                    "order_date": "2017-06-30",
                                    "max_list_price": "647.99"
                                },
                                {
                                    "order_id": "983",
                                    "order_date": "2017-06-27",
                                    "max_list_price": "3499.99"
                                },
                                {
                                    "order_id": "984",
                                    "order_date": "2017-06-27",
                                    "max_list_price": "1099.99"
                                },
                                {
                                    "order_id": "977",
                                    "order_date": "2017-06-26",
                                    "max_list_price": "999.99"
                                },
                                {
                                    "order_id": "978",
                                    "order_date": "2017-06-26",
                                    "max_list_price": "499.99"
                                },
                                {
                                    "order_id": "979",
                                    "order_date": "2017-06-26",
                                    "max_list_price": "2699.99"
                                },
                                {
                                    "order_id": "980",
                                    "order_date": "2017-06-26",
                                    "max_list_price": "3499.99"
                                },
                                {
                                    "order_id": "981",
                                    "order_date": "2017-06-26",
                                    "max_list_price": "4999.99"
                                },
                                {
                                    "order_id": "982",
                                    "order_date": "2017-06-26",
                                    "max_list_price": "4999.99"
                                },
                                {
                                    "order_id": "975",
                                    "order_date": "2017-06-25",
                                    "max_list_price": "470.99"
                                },
                                {
                                    "order_id": "976",
                                    "order_date": "2017-06-25",
                                    "max_list_price": "1499.99"
                                },
                                {
                                    "order_id": "973",
                                    "order_date": "2017-06-24",
                                    "max_list_price": "5299.99"
                                },
                                {
                                    "order_id": "974",
                                    "order_date": "2017-06-24",
                                    "max_list_price": "469.99"
                                },
                                {
                                    "order_id": "972",
                                    "order_date": "2017-06-23",
                                    "max_list_price": "3499.99"
                                },
                                {
                                    "order_id": "970",
                                    "order_date": "2017-06-22",
                                    "max_list_price": "3199.99"
                                },
                                {
                                    "order_id": "971",
                                    "order_date": "2017-06-22",
                                    "max_list_price": "1799.99"
                                },
                                {
                                    "order_id": "967",
                                    "order_date": "2017-06-21",
                                    "max_list_price": "799.99"
                                },
                                {
                                    "order_id": "968",
                                    "order_date": "2017-06-21",
                                    "max_list_price": "4999.99"
                                },
                                {
                                    "order_id": "969",
                                    "order_date": "2017-06-21",
                                    "max_list_price": "832.99"
                                },
                                {
                                    "order_id": "964",
                                    "order_date": "2017-06-20",
                                    "max_list_price": "439.99"
                                },
                                {
                                    "order_id": "965",
                                    "order_date": "2017-06-20",
                                    "max_list_price": "209.99"
                                },
                                {
                                    "order_id": "966",
                                    "order_date": "2017-06-20",
                                    "max_list_price": "749.99"
                                },
                                {
                                    "order_id": "961",
                                    "order_date": "2017-06-19",
                                    "max_list_price": "5299.99"
                                },
                                {
                                    "order_id": "962",
                                    "order_date": "2017-06-19",
                                    "max_list_price": "489.99"
                                },
                                {
                                    "order_id": "963",
                                    "order_date": "2017-06-19",
                                    "max_list_price": "2899.99"
                                },
                                {
                                    "order_id": "958",
                                    "order_date": "2017-06-18",
                                    "max_list_price": "6499.99"
                                },
                                {
                                    "order_id": "959",
                                    "order_date": "2017-06-18",
                                    "max_list_price": "1469.99"
                                },
                                {
                                    "order_id": "960",
                                    "order_date": "2017-06-18",
                                    "max_list_price": "1499.99"
                                },
                                {
                                    "order_id": "954",
                                    "order_date": "2017-06-17",
                                    "max_list_price": "2899.99"
                                },
                                {
                                    "order_id": "955",
                                    "order_date": "2017-06-17",
                                    "max_list_price": "5299.99"
                                },
                                {
                                    "order_id": "956",
                                    "order_date": "2017-06-17",
                                    "max_list_price": "749.99"
                                },
                                {
                                    "order_id": "957",
                                    "order_date": "2017-06-17",
                                    "max_list_price": "659.99"
                                },
                                {
                                    "order_id": "949",
                                    "order_date": "2017-06-16",
                                    "max_list_price": "2999.99"
                                },
                                {
                                    "order_id": "950",
                                    "order_date": "2017-06-16",
                                    "max_list_price": "5499.99"
                                },
                                {
                                    "order_id": "951",
                                    "order_date": "2017-06-16",
                                    "max_list_price": "5299.99"
                                },
                                {
                                    "order_id": "952",
                                    "order_date": "2017-06-16",
                                    "max_list_price": "1999.99"
                                },
                                {
                                    "order_id": "953",
                                    "order_date": "2017-06-16",
                                    "max_list_price": "299.99"
                                },
                                {
                                    "order_id": "947",
                                    "order_date": "2017-06-15",
                                    "max_list_price": "2299.99"
                                },
                                {
                                    "order_id": "948",
                                    "order_date": "2017-06-15",
                                    "max_list_price": "619.99"
                                },
                                {
                                    "order_id": "944",
                                    "order_date": "2017-06-14",
                                    "max_list_price": "999.99"
                                },
                                {
                                    "order_id": "945",
                                    "order_date": "2017-06-14",
                                    "max_list_price": "5999.99"
                                },
                                {
                                    "order_id": "946",
                                    "order_date": "2017-06-14",
                                    "max_list_price": "5499.99"
                                },
                                {
                                    "order_id": "942",
                                    "order_date": "2017-06-13",
                                    "max_list_price": "832.99"
                                },
                                {
                                    "order_id": "943",
                                    "order_date": "2017-06-13",
                                    "max_list_price": "659.99"
                                },
                                {
                                    "order_id": "940",
                                    "order_date": "2017-06-12",
                                    "max_list_price": "599.99"
                                },
                                {
                                    "order_id": "941",
                                    "order_date": "2017-06-12",
                                    "max_list_price": "1680.99"
                                },
                                {
                                    "order_id": "937",
                                    "order_date": "2017-06-11",
                                    "max_list_price": "6499.99"
                                },
                                {
                                    "order_id": "938",
                                    "order_date": "2017-06-11",
                                    "max_list_price": "2899.99"
                                },
                                {
                                    "order_id": "939",
                                    "order_date": "2017-06-11",
                                    "max_list_price": "1320.99"
                                },
                                {
                                    "order_id": "935",
                                    "order_date": "2017-06-10",
                                    "max_list_price": "549.99"
                                },
                                {
                                    "order_id": "936",
                                    "order_date": "2017-06-10",
                                    "max_list_price": "659.99"
                                },
                                {
                                    "order_id": "934",
                                    "order_date": "2017-06-09",
                                    "max_list_price": "5499.99"
                                },
                                {
                                    "order_id": "931",
                                    "order_date": "2017-06-07",
                                    "max_list_price": "3499.99"
                                },
                                {
                                    "order_id": "932",
                                    "order_date": "2017-06-07",
                                    "max_list_price": "439.99"
                                },
                                {
                                    "order_id": "933",
                                    "order_date": "2017-06-07",
                                    "max_list_price": "799.99"
                                },
                                {
                                    "order_id": "928",
                                    "order_date": "2017-06-05",
                                    "max_list_price": "416.99"
                                },
                                {
                                    "order_id": "929",
                                    "order_date": "2017-06-05",
                                    "max_list_price": "3499.99"
                                },
                                {
                                    "order_id": "930",
                                    "order_date": "2017-06-05",
                                    "max_list_price": "6499.99"
                                },
                                {
                                    "order_id": "926",
                                    "order_date": "2017-06-03",
                                    "max_list_price": "379.99"
                                },
                                {
                                    "order_id": "927",
                                    "order_date": "2017-06-03",
                                    "max_list_price": "5999.99"
                                },
                                {
                                    "order_id": "924",
                                    "order_date": "2017-06-02",
                                    "max_list_price": "832.99"
                                },
                                {
                                    "order_id": "925",
                                    "order_date": "2017-06-02",
                                    "max_list_price": "3499.99"
                                },
                                {
                                    "order_id": "921",
                                    "order_date": "2017-05-31",
                                    "max_list_price": "1499.99"
                                },
                                {
                                    "order_id": "922",
                                    "order_date": "2017-05-31",
                                    "max_list_price": "749.99"
                                },
                                {
                                    "order_id": "923",
                                    "order_date": "2017-05-31",
                                    "max_list_price": "469.99"
                                },
                                {
                                    "order_id": "918",
                                    "order_date": "2017-05-30",
                                    "max_list_price": "2899.99"
                                },
                                {
                                    "order_id": "919",
                                    "order_date": "2017-05-30",
                                    "max_list_price": "3999.99"
                                },
                                {
                                    "order_id": "920",
                                    "order_date": "2017-05-30",
                                    "max_list_price": "1499.99"
                                },
                                {
                                    "order_id": "917",
                                    "order_date": "2017-05-29",
                                    "max_list_price": "1469.99"
                                },
                                {
                                    "order_id": "914",
                                    "order_date": "2017-05-28",
                                    "max_list_price": "1409.99"
                                },
                                {
                                    "order_id": "915",
                                    "order_date": "2017-05-28",
                                    "max_list_price": "2299.99"
                                },
                                {
                                    "order_id": "916",
                                    "order_date": "2017-05-28",
                                    "max_list_price": "209.99"
                                },
                                {
                                    "order_id": "912",
                                    "order_date": "2017-05-27",
                                    "max_list_price": "749.99"
                                },
                                {
                                    "order_id": "913",
                                    "order_date": "2017-05-27",
                                    "max_list_price": "549.99"
                                },
                                {
                                    "order_id": "909",
                                    "order_date": "2017-05-26",
                                    "max_list_price": "1320.99"
                                },
                                {
                                    "order_id": "910",
                                    "order_date": "2017-05-26",
                                    "max_list_price": "299.99"
                                },
                                {
                                    "order_id": "911",
                                    "order_date": "2017-05-26",
                                    "max_list_price": "3499.99"
                                },
                                {
                                    "order_id": "908",
                                    "order_date": "2017-05-25",
                                    "max_list_price": "1469.99"
                                },
                                {
                                    "order_id": "907",
                                    "order_date": "2017-05-24",
                                    "max_list_price": "346.99"
                                },
                                {
                                    "order_id": "904",
                                    "order_date": "2017-05-23",
                                    "max_list_price": "6499.99"
                                },
                                {
                                    "order_id": "905",
                                    "order_date": "2017-05-23",
                                    "max_list_price": "3499.99"
                                },
                                {
                                    "order_id": "906",
                                    "order_date": "2017-05-23",
                                    "max_list_price": "2499.99"
                                },
                                {
                                    "order_id": "903",
                                    "order_date": "2017-05-22",
                                    "max_list_price": "1632.99"
                                },
                                {
                                    "order_id": "901",
                                    "order_date": "2017-05-21",
                                    "max_list_price": "5999.99"
                                },
                                {
                                    "order_id": "902",
                                    "order_date": "2017-05-21",
                                    "max_list_price": "549.99"
                                },
                                {
                                    "order_id": "897",
                                    "order_date": "2017-05-20",
                                    "max_list_price": "533.99"
                                },
                                {
                                    "order_id": "898",
                                    "order_date": "2017-05-20",
                                    "max_list_price": "1999.99"
                                },
                                {
                                    "order_id": "899",
                                    "order_date": "2017-05-20",
                                    "max_list_price": "2599.99"
                                },
                                {
                                    "order_id": "900",
                                    "order_date": "2017-05-20",
                                    "max_list_price": "4999.99"
                                },
                                {
                                    "order_id": "896",
                                    "order_date": "2017-05-19",
                                    "max_list_price": "1549.00"
                                },
                                {
                                    "order_id": "895",
                                    "order_date": "2017-05-18",
                                    "max_list_price": "449.99"
                                },
                                {
                                    "order_id": "893",
                                    "order_date": "2017-05-16",
                                    "max_list_price": "869.99"
                                },
                                {
                                    "order_id": "894",
                                    "order_date": "2017-05-16",
                                    "max_list_price": "339.99"
                                },
                                {
                                    "order_id": "890",
                                    "order_date": "2017-05-15",
                                    "max_list_price": "875.99"
                                },
                                {
                                    "order_id": "891",
                                    "order_date": "2017-05-15",
                                    "max_list_price": "5999.99"
                                },
                                {
                                    "order_id": "892",
                                    "order_date": "2017-05-15",
                                    "max_list_price": "5999.99"
                                },
                                {
                                    "order_id": "888",
                                    "order_date": "2017-05-14",
                                    "max_list_price": "599.99"
                                },
                                {
                                    "order_id": "889",
                                    "order_date": "2017-05-14",
                                    "max_list_price": "549.99"
                                },
                                {
                                    "order_id": "885",
                                    "order_date": "2017-05-13",
                                    "max_list_price": "5299.99"
                                },
                                {
                                    "order_id": "886",
                                    "order_date": "2017-05-13",
                                    "max_list_price": "5299.99"
                                },
                                {
                                    "order_id": "887",
                                    "order_date": "2017-05-13",
                                    "max_list_price": "5999.99"
                                },
                                {
                                    "order_id": "883",
                                    "order_date": "2017-05-11",
                                    "max_list_price": "1320.99"
                                },
                                {
                                    "order_id": "884",
                                    "order_date": "2017-05-11",
                                    "max_list_price": "3499.99"
                                },
                                {
                                    "order_id": "882",
                                    "order_date": "2017-05-09",
                                    "max_list_price": "3499.99"
                                },
                                {
                                    "order_id": "879",
                                    "order_date": "2017-05-08",
                                    "max_list_price": "749.99"
                                },
                                {
                                    "order_id": "880",
                                    "order_date": "2017-05-08",
                                    "max_list_price": "2499.99"
                                },
                                {
                                    "order_id": "881",
                                    "order_date": "2017-05-08",
                                    "max_list_price": "5999.99"
                                },
                                {
                                    "order_id": "878",
                                    "order_date": "2017-05-07",
                                    "max_list_price": "551.99"
                                },
                                {
                                    "order_id": "877",
                                    "order_date": "2017-05-06",
                                    "max_list_price": "749.99"
                                },
                                {
                                    "order_id": "875",
                                    "order_date": "2017-05-05",
                                    "max_list_price": "1320.99"
                                },
                                {
                                    "order_id": "876",
                                    "order_date": "2017-05-05",
                                    "max_list_price": "429.00"
                                },
                                {
                                    "order_id": "874",
                                    "order_date": "2017-05-04",
                                    "max_list_price": "5499.99"
                                },
                                {
                                    "order_id": "872",
                                    "order_date": "2017-05-03",
                                    "max_list_price": "3499.99"
                                },
                                {
                                    "order_id": "873",
                                    "order_date": "2017-05-03",
                                    "max_list_price": "469.99"
                                },
                                {
                                    "order_id": "871",
                                    "order_date": "2017-05-02",
                                    "max_list_price": "999.99"
                                },
                                {
                                    "order_id": "867",
                                    "order_date": "2017-05-01",
                                    "max_list_price": "339.99"
                                },
                                {
                                    "order_id": "868",
                                    "order_date": "2017-05-01",
                                    "max_list_price": "1409.99"
                                },
                                {
                                    "order_id": "869",
                                    "order_date": "2017-05-01",
                                    "max_list_price": "3999.99"
                                },
                                {
                                    "order_id": "870",
                                    "order_date": "2017-05-01",
                                    "max_list_price": "3499.99"
                                },
                                {
                                    "order_id": "865",
                                    "order_date": "2017-04-29",
                                    "max_list_price": "469.99"
                                },
                                {
                                    "order_id": "866",
                                    "order_date": "2017-04-29",
                                    "max_list_price": "761.99"
                                },
                                {
                                    "order_id": "863",
                                    "order_date": "2017-04-28",
                                    "max_list_price": "209.99"
                                },
                                {
                                    "order_id": "864",
                                    "order_date": "2017-04-28",
                                    "max_list_price": "379.99"
                                },
                                {
                                    "order_id": "860",
                                    "order_date": "2017-04-27",
                                    "max_list_price": "4999.99"
                                },
                                {
                                    "order_id": "861",
                                    "order_date": "2017-04-27",
                                    "max_list_price": "3499.99"
                                },
                                {
                                    "order_id": "862",
                                    "order_date": "2017-04-27",
                                    "max_list_price": "3499.99"
                                },
                                {
                                    "order_id": "858",
                                    "order_date": "2017-04-25",
                                    "max_list_price": "1320.99"
                                },
                                {
                                    "order_id": "859",
                                    "order_date": "2017-04-25",
                                    "max_list_price": "832.99"
                                },
                                {
                                    "order_id": "857",
                                    "order_date": "2017-04-24",
                                    "max_list_price": "999.99"
                                },
                                {
                                    "order_id": "856",
                                    "order_date": "2017-04-23",
                                    "max_list_price": "549.99"
                                },
                                {
                                    "order_id": "854",
                                    "order_date": "2017-04-22",
                                    "max_list_price": "189.99"
                                },
                                {
                                    "order_id": "855",
                                    "order_date": "2017-04-22",
                                    "max_list_price": "449.00"
                                },
                                {
                                    "order_id": "852",
                                    "order_date": "2017-04-21",
                                    "max_list_price": "1409.99"
                                },
                                {
                                    "order_id": "853",
                                    "order_date": "2017-04-21",
                                    "max_list_price": "4999.99"
                                },
                                {
                                    "order_id": "851",
                                    "order_date": "2017-04-20",
                                    "max_list_price": "999.99"
                                },
                                {
                                    "order_id": "849",
                                    "order_date": "2017-04-19",
                                    "max_list_price": "416.99"
                                },
                                {
                                    "order_id": "850",
                                    "order_date": "2017-04-19",
                                    "max_list_price": "1320.99"
                                },
                                {
                                    "order_id": "847",
                                    "order_date": "2017-04-18",
                                    "max_list_price": "4999.99"
                                },
                                {
                                    "order_id": "848",
                                    "order_date": "2017-04-18",
                                    "max_list_price": "1469.99"
                                },
                                {
                                    "order_id": "845",
                                    "order_date": "2017-04-17",
                                    "max_list_price": "749.99"
                                },
                                {
                                    "order_id": "846",
                                    "order_date": "2017-04-17",
                                    "max_list_price": "5299.99"
                                },
                                {
                                    "order_id": "843",
                                    "order_date": "2017-04-16",
                                    "max_list_price": "1099.99"
                                },
                                {
                                    "order_id": "844",
                                    "order_date": "2017-04-16",
                                    "max_list_price": "3499.99"
                                },
                                {
                                    "order_id": "839",
                                    "order_date": "2017-04-15",
                                    "max_list_price": "4999.99"
                                },
                                {
                                    "order_id": "840",
                                    "order_date": "2017-04-15",
                                    "max_list_price": "5299.99"
                                },
                                {
                                    "order_id": "841",
                                    "order_date": "2017-04-15",
                                    "max_list_price": "2999.99"
                                },
                                {
                                    "order_id": "842",
                                    "order_date": "2017-04-15",
                                    "max_list_price": "2299.99"
                                },
                                {
                                    "order_id": "838",
                                    "order_date": "2017-04-14",
                                    "max_list_price": "2499.99"
                                },
                                {
                                    "order_id": "835",
                                    "order_date": "2017-04-13",
                                    "max_list_price": "749.99"
                                },
                                {
                                    "order_id": "836",
                                    "order_date": "2017-04-13",
                                    "max_list_price": "449.99"
                                },
                                {
                                    "order_id": "837",
                                    "order_date": "2017-04-13",
                                    "max_list_price": "6499.99"
                                },
                                {
                                    "order_id": "833",
                                    "order_date": "2017-04-12",
                                    "max_list_price": "599.99"
                                },
                                {
                                    "order_id": "834",
                                    "order_date": "2017-04-12",
                                    "max_list_price": "3199.99"
                                },
                                {
                                    "order_id": "830",
                                    "order_date": "2017-04-11",
                                    "max_list_price": "489.99"
                                },
                                {
                                    "order_id": "831",
                                    "order_date": "2017-04-11",
                                    "max_list_price": "1680.99"
                                },
                                {
                                    "order_id": "832",
                                    "order_date": "2017-04-11",
                                    "max_list_price": "3199.99"
                                },
                                {
                                    "order_id": "828",
                                    "order_date": "2017-04-09",
                                    "max_list_price": "2699.99"
                                },
                                {
                                    "order_id": "829",
                                    "order_date": "2017-04-09",
                                    "max_list_price": "551.99"
                                },
                                {
                                    "order_id": "824",
                                    "order_date": "2017-04-07",
                                    "max_list_price": "209.99"
                                },
                                {
                                    "order_id": "825",
                                    "order_date": "2017-04-07",
                                    "max_list_price": "999.99"
                                },
                                {
                                    "order_id": "826",
                                    "order_date": "2017-04-07",
                                    "max_list_price": "869.99"
                                },
                                {
                                    "order_id": "827",
                                    "order_date": "2017-04-07",
                                    "max_list_price": "5299.99"
                                },
                                {
                                    "order_id": "822",
                                    "order_date": "2017-04-06",
                                    "max_list_price": "749.99"
                                },
                                {
                                    "order_id": "823",
                                    "order_date": "2017-04-06",
                                    "max_list_price": "5499.99"
                                },
                                {
                                    "order_id": "820",
                                    "order_date": "2017-04-05",
                                    "max_list_price": "416.99"
                                },
                                {
                                    "order_id": "821",
                                    "order_date": "2017-04-05",
                                    "max_list_price": "659.99"
                                },
                                {
                                    "order_id": "817",
                                    "order_date": "2017-04-04",
                                    "max_list_price": "1499.99"
                                },
                                {
                                    "order_id": "818",
                                    "order_date": "2017-04-04",
                                    "max_list_price": "1499.99"
                                },
                                {
                                    "order_id": "819",
                                    "order_date": "2017-04-04",
                                    "max_list_price": "249.99"
                                },
                                {
                                    "order_id": "815",
                                    "order_date": "2017-04-03",
                                    "max_list_price": "533.99"
                                },
                                {
                                    "order_id": "816",
                                    "order_date": "2017-04-03",
                                    "max_list_price": "599.99"
                                },
                                {
                                    "order_id": "814",
                                    "order_date": "2017-04-02",
                                    "max_list_price": "489.99"
                                },
                                {
                                    "order_id": "810",
                                    "order_date": "2017-04-01",
                                    "max_list_price": "5499.99"
                                },
                                {
                                    "order_id": "811",
                                    "order_date": "2017-04-01",
                                    "max_list_price": "3199.99"
                                },
                                {
                                    "order_id": "812",
                                    "order_date": "2017-04-01",
                                    "max_list_price": "4999.99"
                                },
                                {
                                    "order_id": "813",
                                    "order_date": "2017-04-01",
                                    "max_list_price": "599.99"
                                },
                                {
                                    "order_id": "808",
                                    "order_date": "2017-03-31",
                                    "max_list_price": "449.00"
                                },
                                {
                                    "order_id": "809",
                                    "order_date": "2017-03-31",
                                    "max_list_price": "647.99"
                                },
                                {
                                    "order_id": "806",
                                    "order_date": "2017-03-30",
                                    "max_list_price": "799.99"
                                },
                                {
                                    "order_id": "807",
                                    "order_date": "2017-03-30",
                                    "max_list_price": "2999.99"
                                },
                                {
                                    "order_id": "804",
                                    "order_date": "2017-03-29",
                                    "max_list_price": "5999.99"
                                },
                                {
                                    "order_id": "805",
                                    "order_date": "2017-03-29",
                                    "max_list_price": "3499.99"
                                },
                                {
                                    "order_id": "801",
                                    "order_date": "2017-03-28",
                                    "max_list_price": "339.99"
                                },
                                {
                                    "order_id": "802",
                                    "order_date": "2017-03-28",
                                    "max_list_price": "4999.99"
                                },
                                {
                                    "order_id": "803",
                                    "order_date": "2017-03-28",
                                    "max_list_price": "875.99"
                                },
                                {
                                    "order_id": "799",
                                    "order_date": "2017-03-27",
                                    "max_list_price": "4999.99"
                                },
                                {
                                    "order_id": "800",
                                    "order_date": "2017-03-27",
                                    "max_list_price": "3199.99"
                                },
                                {
                                    "order_id": "798",
                                    "order_date": "2017-03-26",
                                    "max_list_price": "2299.99"
                                },
                                {
                                    "order_id": "797",
                                    "order_date": "2017-03-24",
                                    "max_list_price": "3499.99"
                                },
                                {
                                    "order_id": "793",
                                    "order_date": "2017-03-23",
                                    "max_list_price": "1559.99"
                                },
                                {
                                    "order_id": "794",
                                    "order_date": "2017-03-23",
                                    "max_list_price": "2499.99"
                                },
                                {
                                    "order_id": "795",
                                    "order_date": "2017-03-23",
                                    "max_list_price": "299.99"
                                },
                                {
                                    "order_id": "796",
                                    "order_date": "2017-03-23",
                                    "max_list_price": "469.99"
                                },
                                {
                                    "order_id": "792",
                                    "order_date": "2017-03-22",
                                    "max_list_price": "5499.99"
                                },
                                {
                                    "order_id": "791",
                                    "order_date": "2017-03-20",
                                    "max_list_price": "3199.99"
                                },
                                {
                                    "order_id": "789",
                                    "order_date": "2017-03-19",
                                    "max_list_price": "489.99"
                                },
                                {
                                    "order_id": "790",
                                    "order_date": "2017-03-19",
                                    "max_list_price": "3499.99"
                                },
                                {
                                    "order_id": "785",
                                    "order_date": "2017-03-18",
                                    "max_list_price": "4999.99"
                                },
                                {
                                    "order_id": "786",
                                    "order_date": "2017-03-18",
                                    "max_list_price": "761.99"
                                },
                                {
                                    "order_id": "787",
                                    "order_date": "2017-03-18",
                                    "max_list_price": "6499.99"
                                },
                                {
                                    "order_id": "788",
                                    "order_date": "2017-03-18",
                                    "max_list_price": "1499.99"
                                },
                                {
                                    "order_id": "783",
                                    "order_date": "2017-03-16",
                                    "max_list_price": "999.99"
                                },
                                {
                                    "order_id": "784",
                                    "order_date": "2017-03-16",
                                    "max_list_price": "619.99"
                                },
                                {
                                    "order_id": "778",
                                    "order_date": "2017-03-15",
                                    "max_list_price": "489.99"
                                },
                                {
                                    "order_id": "779",
                                    "order_date": "2017-03-15",
                                    "max_list_price": "5299.99"
                                },
                                {
                                    "order_id": "780",
                                    "order_date": "2017-03-15",
                                    "max_list_price": "469.99"
                                },
                                {
                                    "order_id": "781",
                                    "order_date": "2017-03-15",
                                    "max_list_price": "3999.99"
                                },
                                {
                                    "order_id": "782",
                                    "order_date": "2017-03-15",
                                    "max_list_price": "1999.99"
                                },
                                {
                                    "order_id": "776",
                                    "order_date": "2017-03-13",
                                    "max_list_price": "2499.99"
                                },
                                {
                                    "order_id": "777",
                                    "order_date": "2017-03-13",
                                    "max_list_price": "3999.99"
                                },
                                {
                                    "order_id": "774",
                                    "order_date": "2017-03-12",
                                    "max_list_price": "4999.99"
                                },
                                {
                                    "order_id": "775",
                                    "order_date": "2017-03-12",
                                    "max_list_price": "1499.99"
                                },
                                {
                                    "order_id": "771",
                                    "order_date": "2017-03-11",
                                    "max_list_price": "269.99"
                                },
                                {
                                    "order_id": "772",
                                    "order_date": "2017-03-11",
                                    "max_list_price": "551.99"
                                },
                                {
                                    "order_id": "773",
                                    "order_date": "2017-03-11",
                                    "max_list_price": "469.99"
                                },
                                {
                                    "order_id": "764",
                                    "order_date": "2017-03-09",
                                    "max_list_price": "2699.99"
                                },
                                {
                                    "order_id": "765",
                                    "order_date": "2017-03-09",
                                    "max_list_price": "2499.99"
                                },
                                {
                                    "order_id": "766",
                                    "order_date": "2017-03-09",
                                    "max_list_price": "470.99"
                                },
                                {
                                    "order_id": "767",
                                    "order_date": "2017-03-09",
                                    "max_list_price": "3499.99"
                                },
                                {
                                    "order_id": "768",
                                    "order_date": "2017-03-09",
                                    "max_list_price": "1632.99"
                                },
                                {
                                    "order_id": "769",
                                    "order_date": "2017-03-09",
                                    "max_list_price": "1799.99"
                                },
                                {
                                    "order_id": "770",
                                    "order_date": "2017-03-09",
                                    "max_list_price": "2299.99"
                                },
                                {
                                    "order_id": "762",
                                    "order_date": "2017-03-08",
                                    "max_list_price": "489.99"
                                },
                                {
                                    "order_id": "763",
                                    "order_date": "2017-03-08",
                                    "max_list_price": "551.99"
                                },
                                {
                                    "order_id": "759",
                                    "order_date": "2017-03-07",
                                    "max_list_price": "647.99"
                                },
                                {
                                    "order_id": "760",
                                    "order_date": "2017-03-07",
                                    "max_list_price": "999.99"
                                },
                                {
                                    "order_id": "761",
                                    "order_date": "2017-03-07",
                                    "max_list_price": "5299.99"
                                },
                                {
                                    "order_id": "754",
                                    "order_date": "2017-03-06",
                                    "max_list_price": "3999.99"
                                },
                                {
                                    "order_id": "755",
                                    "order_date": "2017-03-06",
                                    "max_list_price": "5299.99"
                                },
                                {
                                    "order_id": "756",
                                    "order_date": "2017-03-06",
                                    "max_list_price": "489.99"
                                },
                                {
                                    "order_id": "757",
                                    "order_date": "2017-03-06",
                                    "max_list_price": "299.99"
                                },
                                {
                                    "order_id": "758",
                                    "order_date": "2017-03-06",
                                    "max_list_price": "999.99"
                                },
                                {
                                    "order_id": "751",
                                    "order_date": "2017-03-05",
                                    "max_list_price": "869.99"
                                },
                                {
                                    "order_id": "752",
                                    "order_date": "2017-03-05",
                                    "max_list_price": "1632.99"
                                },
                                {
                                    "order_id": "753",
                                    "order_date": "2017-03-05",
                                    "max_list_price": "3999.99"
                                },
                                {
                                    "order_id": "749",
                                    "order_date": "2017-03-04",
                                    "max_list_price": "4999.99"
                                },
                                {
                                    "order_id": "750",
                                    "order_date": "2017-03-04",
                                    "max_list_price": "647.99"
                                },
                                {
                                    "order_id": "747",
                                    "order_date": "2017-03-03",
                                    "max_list_price": "1099.99"
                                },
                                {
                                    "order_id": "748",
                                    "order_date": "2017-03-03",
                                    "max_list_price": "1469.99"
                                },
                                {
                                    "order_id": "746",
                                    "order_date": "2017-03-02",
                                    "max_list_price": "299.99"
                                },
                                {
                                    "order_id": "743",
                                    "order_date": "2017-03-01",
                                    "max_list_price": "761.99"
                                },
                                {
                                    "order_id": "744",
                                    "order_date": "2017-03-01",
                                    "max_list_price": "469.99"
                                },
                                {
                                    "order_id": "745",
                                    "order_date": "2017-03-01",
                                    "max_list_price": "647.99"
                                },
                                {
                                    "order_id": "738",
                                    "order_date": "2017-02-28",
                                    "max_list_price": "3499.99"
                                },
                                {
                                    "order_id": "739",
                                    "order_date": "2017-02-28",
                                    "max_list_price": "999.99"
                                },
                                {
                                    "order_id": "740",
                                    "order_date": "2017-02-28",
                                    "max_list_price": "1680.99"
                                },
                                {
                                    "order_id": "741",
                                    "order_date": "2017-02-28",
                                    "max_list_price": "5499.99"
                                },
                                {
                                    "order_id": "742",
                                    "order_date": "2017-02-28",
                                    "max_list_price": "869.99"
                                },
                                {
                                    "order_id": "735",
                                    "order_date": "2017-02-27",
                                    "max_list_price": "1549.00"
                                },
                                {
                                    "order_id": "736",
                                    "order_date": "2017-02-27",
                                    "max_list_price": "5499.99"
                                },
                                {
                                    "order_id": "737",
                                    "order_date": "2017-02-27",
                                    "max_list_price": "875.99"
                                },
                                {
                                    "order_id": "732",
                                    "order_date": "2017-02-26",
                                    "max_list_price": "5299.99"
                                },
                                {
                                    "order_id": "733",
                                    "order_date": "2017-02-26",
                                    "max_list_price": "2699.99"
                                },
                                {
                                    "order_id": "734",
                                    "order_date": "2017-02-26",
                                    "max_list_price": "999.99"
                                },
                                {
                                    "order_id": "731",
                                    "order_date": "2017-02-25",
                                    "max_list_price": "3499.99"
                                },
                                {
                                    "order_id": "730",
                                    "order_date": "2017-02-21",
                                    "max_list_price": "2599.99"
                                },
                                {
                                    "order_id": "728",
                                    "order_date": "2017-02-20",
                                    "max_list_price": "5499.99"
                                },
                                {
                                    "order_id": "729",
                                    "order_date": "2017-02-20",
                                    "max_list_price": "339.99"
                                },
                                {
                                    "order_id": "723",
                                    "order_date": "2017-02-19",
                                    "max_list_price": "599.99"
                                },
                                {
                                    "order_id": "724",
                                    "order_date": "2017-02-19",
                                    "max_list_price": "2699.99"
                                },
                                {
                                    "order_id": "725",
                                    "order_date": "2017-02-19",
                                    "max_list_price": "3499.99"
                                },
                                {
                                    "order_id": "726",
                                    "order_date": "2017-02-19",
                                    "max_list_price": "489.99"
                                },
                                {
                                    "order_id": "727",
                                    "order_date": "2017-02-19",
                                    "max_list_price": "659.99"
                                },
                                {
                                    "order_id": "722",
                                    "order_date": "2017-02-18",
                                    "max_list_price": "999.99"
                                },
                                {
                                    "order_id": "718",
                                    "order_date": "2017-02-16",
                                    "max_list_price": "4999.99"
                                },
                                {
                                    "order_id": "719",
                                    "order_date": "2017-02-16",
                                    "max_list_price": "489.99"
                                },
                                {
                                    "order_id": "720",
                                    "order_date": "2017-02-16",
                                    "max_list_price": "470.99"
                                },
                                {
                                    "order_id": "721",
                                    "order_date": "2017-02-16",
                                    "max_list_price": "869.99"
                                },
                                {
                                    "order_id": "715",
                                    "order_date": "2017-02-15",
                                    "max_list_price": "5999.99"
                                },
                                {
                                    "order_id": "716",
                                    "order_date": "2017-02-15",
                                    "max_list_price": "2899.99"
                                },
                                {
                                    "order_id": "717",
                                    "order_date": "2017-02-15",
                                    "max_list_price": "5499.99"
                                },
                                {
                                    "order_id": "714",
                                    "order_date": "2017-02-14",
                                    "max_list_price": "209.99"
                                },
                                {
                                    "order_id": "710",
                                    "order_date": "2017-02-13",
                                    "max_list_price": "2499.99"
                                },
                                {
                                    "order_id": "711",
                                    "order_date": "2017-02-13",
                                    "max_list_price": "1320.99"
                                },
                                {
                                    "order_id": "712",
                                    "order_date": "2017-02-13",
                                    "max_list_price": "2899.99"
                                },
                                {
                                    "order_id": "713",
                                    "order_date": "2017-02-13",
                                    "max_list_price": "749.99"
                                },
                                {
                                    "order_id": "709",
                                    "order_date": "2017-02-11",
                                    "max_list_price": "2699.99"
                                },
                                {
                                    "order_id": "708",
                                    "order_date": "2017-02-10",
                                    "max_list_price": "5299.99"
                                },
                                {
                                    "order_id": "706",
                                    "order_date": "2017-02-09",
                                    "max_list_price": "1559.99"
                                },
                                {
                                    "order_id": "707",
                                    "order_date": "2017-02-09",
                                    "max_list_price": "1680.99"
                                },
                                {
                                    "order_id": "702",
                                    "order_date": "2017-02-08",
                                    "max_list_price": "999.99"
                                },
                                {
                                    "order_id": "703",
                                    "order_date": "2017-02-08",
                                    "max_list_price": "2899.99"
                                },
                                {
                                    "order_id": "704",
                                    "order_date": "2017-02-08",
                                    "max_list_price": "3499.99"
                                },
                                {
                                    "order_id": "705",
                                    "order_date": "2017-02-08",
                                    "max_list_price": "4999.99"
                                },
                                {
                                    "order_id": "700",
                                    "order_date": "2017-02-07",
                                    "max_list_price": "3999.99"
                                },
                                {
                                    "order_id": "701",
                                    "order_date": "2017-02-07",
                                    "max_list_price": "109.99"
                                },
                                {
                                    "order_id": "697",
                                    "order_date": "2017-02-06",
                                    "max_list_price": "1320.99"
                                },
                                {
                                    "order_id": "698",
                                    "order_date": "2017-02-06",
                                    "max_list_price": "4999.99"
                                },
                                {
                                    "order_id": "699",
                                    "order_date": "2017-02-06",
                                    "max_list_price": "1632.99"
                                },
                                {
                                    "order_id": "692",
                                    "order_date": "2017-02-05",
                                    "max_list_price": "5499.99"
                                },
                                {
                                    "order_id": "693",
                                    "order_date": "2017-02-05",
                                    "max_list_price": "1632.99"
                                },
                                {
                                    "order_id": "694",
                                    "order_date": "2017-02-05",
                                    "max_list_price": "2699.99"
                                },
                                {
                                    "order_id": "695",
                                    "order_date": "2017-02-05",
                                    "max_list_price": "1999.99"
                                },
                                {
                                    "order_id": "696",
                                    "order_date": "2017-02-05",
                                    "max_list_price": "3999.99"
                                },
                                {
                                    "order_id": "691",
                                    "order_date": "2017-02-04",
                                    "max_list_price": "2699.99"
                                },
                                {
                                    "order_id": "690",
                                    "order_date": "2017-02-03",
                                    "max_list_price": "1680.99"
                                },
                                {
                                    "order_id": "687",
                                    "order_date": "2017-02-02",
                                    "max_list_price": "1499.99"
                                },
                                {
                                    "order_id": "688",
                                    "order_date": "2017-02-02",
                                    "max_list_price": "1799.99"
                                },
                                {
                                    "order_id": "689",
                                    "order_date": "2017-02-02",
                                    "max_list_price": "469.99"
                                },
                                {
                                    "order_id": "686",
                                    "order_date": "2017-02-01",
                                    "max_list_price": "999.99"
                                },
                                {
                                    "order_id": "684",
                                    "order_date": "2017-01-31",
                                    "max_list_price": "5499.99"
                                },
                                {
                                    "order_id": "685",
                                    "order_date": "2017-01-31",
                                    "max_list_price": "5499.99"
                                },
                                {
                                    "order_id": "679",
                                    "order_date": "2017-01-29",
                                    "max_list_price": "529.99"
                                },
                                {
                                    "order_id": "680",
                                    "order_date": "2017-01-29",
                                    "max_list_price": "5999.99"
                                },
                                {
                                    "order_id": "681",
                                    "order_date": "2017-01-29",
                                    "max_list_price": "4999.99"
                                },
                                {
                                    "order_id": "682",
                                    "order_date": "2017-01-29",
                                    "max_list_price": "1559.99"
                                },
                                {
                                    "order_id": "683",
                                    "order_date": "2017-01-29",
                                    "max_list_price": "749.99"
                                },
                                {
                                    "order_id": "675",
                                    "order_date": "2017-01-28",
                                    "max_list_price": "469.99"
                                },
                                {
                                    "order_id": "676",
                                    "order_date": "2017-01-28",
                                    "max_list_price": "999.99"
                                },
                                {
                                    "order_id": "677",
                                    "order_date": "2017-01-28",
                                    "max_list_price": "3999.99"
                                },
                                {
                                    "order_id": "678",
                                    "order_date": "2017-01-28",
                                    "max_list_price": "875.99"
                                },
                                {
                                    "order_id": "674",
                                    "order_date": "2017-01-27",
                                    "max_list_price": "599.99"
                                },
                                {
                                    "order_id": "672",
                                    "order_date": "2017-01-26",
                                    "max_list_price": "6499.99"
                                },
                                {
                                    "order_id": "673",
                                    "order_date": "2017-01-26",
                                    "max_list_price": "1320.99"
                                },
                                {
                                    "order_id": "671",
                                    "order_date": "2017-01-25",
                                    "max_list_price": "2899.99"
                                },
                                {
                                    "order_id": "670",
                                    "order_date": "2017-01-24",
                                    "max_list_price": "2499.99"
                                },
                                {
                                    "order_id": "669",
                                    "order_date": "2017-01-23",
                                    "max_list_price": "619.99"
                                },
                                {
                                    "order_id": "667",
                                    "order_date": "2017-01-22",
                                    "max_list_price": "999.99"
                                },
                                {
                                    "order_id": "668",
                                    "order_date": "2017-01-22",
                                    "max_list_price": "1499.99"
                                },
                                {
                                    "order_id": "665",
                                    "order_date": "2017-01-21",
                                    "max_list_price": "4999.99"
                                },
                                {
                                    "order_id": "666",
                                    "order_date": "2017-01-21",
                                    "max_list_price": "1499.99"
                                },
                                {
                                    "order_id": "663",
                                    "order_date": "2017-01-20",
                                    "max_list_price": "1469.99"
                                },
                                {
                                    "order_id": "664",
                                    "order_date": "2017-01-20",
                                    "max_list_price": "5999.99"
                                },
                                {
                                    "order_id": "662",
                                    "order_date": "2017-01-19",
                                    "max_list_price": "2699.99"
                                },
                                {
                                    "order_id": "660",
                                    "order_date": "2017-01-18",
                                    "max_list_price": "5299.99"
                                },
                                {
                                    "order_id": "661",
                                    "order_date": "2017-01-18",
                                    "max_list_price": "3499.99"
                                },
                                {
                                    "order_id": "657",
                                    "order_date": "2017-01-17",
                                    "max_list_price": "3199.99"
                                },
                                {
                                    "order_id": "658",
                                    "order_date": "2017-01-17",
                                    "max_list_price": "3499.99"
                                },
                                {
                                    "order_id": "659",
                                    "order_date": "2017-01-17",
                                    "max_list_price": "4999.99"
                                },
                                {
                                    "order_id": "655",
                                    "order_date": "2017-01-16",
                                    "max_list_price": "250.99"
                                },
                                {
                                    "order_id": "656",
                                    "order_date": "2017-01-16",
                                    "max_list_price": "469.99"
                                },
                                {
                                    "order_id": "653",
                                    "order_date": "2017-01-14",
                                    "max_list_price": "5299.99"
                                },
                                {
                                    "order_id": "654",
                                    "order_date": "2017-01-14",
                                    "max_list_price": "2999.99"
                                },
                                {
                                    "order_id": "652",
                                    "order_date": "2017-01-12",
                                    "max_list_price": "3499.99"
                                },
                                {
                                    "order_id": "650",
                                    "order_date": "2017-01-11",
                                    "max_list_price": "999.99"
                                },
                                {
                                    "order_id": "651",
                                    "order_date": "2017-01-11",
                                    "max_list_price": "489.99"
                                },
                                {
                                    "order_id": "649",
                                    "order_date": "2017-01-10",
                                    "max_list_price": "1680.99"
                                },
                                {
                                    "order_id": "646",
                                    "order_date": "2017-01-09",
                                    "max_list_price": "2899.99"
                                },
                                {
                                    "order_id": "647",
                                    "order_date": "2017-01-09",
                                    "max_list_price": "499.99"
                                },
                                {
                                    "order_id": "648",
                                    "order_date": "2017-01-09",
                                    "max_list_price": "549.99"
                                },
                                {
                                    "order_id": "643",
                                    "order_date": "2017-01-08",
                                    "max_list_price": "749.99"
                                },
                                {
                                    "order_id": "644",
                                    "order_date": "2017-01-08",
                                    "max_list_price": "2999.99"
                                },
                                {
                                    "order_id": "645",
                                    "order_date": "2017-01-08",
                                    "max_list_price": "5299.99"
                                },
                                {
                                    "order_id": "641",
                                    "order_date": "2017-01-07",
                                    "max_list_price": "3499.99"
                                },
                                {
                                    "order_id": "642",
                                    "order_date": "2017-01-07",
                                    "max_list_price": "449.99"
                                },
                                {
                                    "order_id": "639",
                                    "order_date": "2017-01-06",
                                    "max_list_price": "4999.99"
                                },
                                {
                                    "order_id": "640",
                                    "order_date": "2017-01-06",
                                    "max_list_price": "999.99"
                                },
                                {
                                    "order_id": "638",
                                    "order_date": "2017-01-04",
                                    "max_list_price": "5499.99"
                                },
                                {
                                    "order_id": "636",
                                    "order_date": "2017-01-03",
                                    "max_list_price": "329.99"
                                },
                                {
                                    "order_id": "637",
                                    "order_date": "2017-01-03",
                                    "max_list_price": "2999.99"
                                },
                                {
                                    "order_id": "635",
                                    "order_date": "2016-12-30",
                                    "max_list_price": "2899.99"
                                },
                                {
                                    "order_id": "634",
                                    "order_date": "2016-12-29",
                                    "max_list_price": "2899.99"
                                },
                                {
                                    "order_id": "633",
                                    "order_date": "2016-12-28",
                                    "max_list_price": "1549.00"
                                },
                                {
                                    "order_id": "631",
                                    "order_date": "2016-12-27",
                                    "max_list_price": "549.99"
                                },
                                {
                                    "order_id": "632",
                                    "order_date": "2016-12-27",
                                    "max_list_price": "1680.99"
                                },
                                {
                                    "order_id": "628",
                                    "order_date": "2016-12-26",
                                    "max_list_price": "529.99"
                                },
                                {
                                    "order_id": "629",
                                    "order_date": "2016-12-26",
                                    "max_list_price": "1320.99"
                                },
                                {
                                    "order_id": "630",
                                    "order_date": "2016-12-26",
                                    "max_list_price": "1320.99"
                                },
                                {
                                    "order_id": "625",
                                    "order_date": "2016-12-25",
                                    "max_list_price": "1680.99"
                                },
                                {
                                    "order_id": "626",
                                    "order_date": "2016-12-25",
                                    "max_list_price": "529.99"
                                },
                                {
                                    "order_id": "627",
                                    "order_date": "2016-12-25",
                                    "max_list_price": "2999.99"
                                },
                                {
                                    "order_id": "623",
                                    "order_date": "2016-12-24",
                                    "max_list_price": "1799.99"
                                },
                                {
                                    "order_id": "624",
                                    "order_date": "2016-12-24",
                                    "max_list_price": "599.99"
                                },
                                {
                                    "order_id": "621",
                                    "order_date": "2016-12-23",
                                    "max_list_price": "429.00"
                                },
                                {
                                    "order_id": "622",
                                    "order_date": "2016-12-23",
                                    "max_list_price": "2999.99"
                                },
                                {
                                    "order_id": "619",
                                    "order_date": "2016-12-22",
                                    "max_list_price": "499.99"
                                },
                                {
                                    "order_id": "620",
                                    "order_date": "2016-12-22",
                                    "max_list_price": "1320.99"
                                },
                                {
                                    "order_id": "617",
                                    "order_date": "2016-12-21",
                                    "max_list_price": "1680.99"
                                },
                                {
                                    "order_id": "618",
                                    "order_date": "2016-12-21",
                                    "max_list_price": "1680.99"
                                },
                                {
                                    "order_id": "616",
                                    "order_date": "2016-12-20",
                                    "max_list_price": "599.99"
                                },
                                {
                                    "order_id": "615",
                                    "order_date": "2016-12-19",
                                    "max_list_price": "1680.99"
                                },
                                {
                                    "order_id": "614",
                                    "order_date": "2016-12-18",
                                    "max_list_price": "449.00"
                                },
                                {
                                    "order_id": "613",
                                    "order_date": "2016-12-17",
                                    "max_list_price": "2999.99"
                                },
                                {
                                    "order_id": "612",
                                    "order_date": "2016-12-16",
                                    "max_list_price": "599.99"
                                },
                                {
                                    "order_id": "611",
                                    "order_date": "2016-12-15",
                                    "max_list_price": "599.99"
                                },
                                {
                                    "order_id": "610",
                                    "order_date": "2016-12-13",
                                    "max_list_price": "1799.99"
                                },
                                {
                                    "order_id": "608",
                                    "order_date": "2016-12-12",
                                    "max_list_price": "3999.99"
                                },
                                {
                                    "order_id": "609",
                                    "order_date": "2016-12-12",
                                    "max_list_price": "3999.99"
                                },
                                {
                                    "order_id": "606",
                                    "order_date": "2016-12-11",
                                    "max_list_price": "469.99"
                                },
                                {
                                    "order_id": "607",
                                    "order_date": "2016-12-11",
                                    "max_list_price": "1680.99"
                                },
                                {
                                    "order_id": "604",
                                    "order_date": "2016-12-10",
                                    "max_list_price": "2999.99"
                                },
                                {
                                    "order_id": "605",
                                    "order_date": "2016-12-10",
                                    "max_list_price": "1680.99"
                                },
                                {
                                    "order_id": "598",
                                    "order_date": "2016-12-09",
                                    "max_list_price": "2899.99"
                                },
                                {
                                    "order_id": "599",
                                    "order_date": "2016-12-09",
                                    "max_list_price": "2999.99"
                                },
                                {
                                    "order_id": "600",
                                    "order_date": "2016-12-09",
                                    "max_list_price": "2899.99"
                                },
                                {
                                    "order_id": "601",
                                    "order_date": "2016-12-09",
                                    "max_list_price": "549.99"
                                },
                                {
                                    "order_id": "602",
                                    "order_date": "2016-12-09",
                                    "max_list_price": "1320.99"
                                },
                                {
                                    "order_id": "603",
                                    "order_date": "2016-12-09",
                                    "max_list_price": "2899.99"
                                },
                                {
                                    "order_id": "595",
                                    "order_date": "2016-12-08",
                                    "max_list_price": "2899.99"
                                },
                                {
                                    "order_id": "596",
                                    "order_date": "2016-12-08",
                                    "max_list_price": "2999.99"
                                },
                                {
                                    "order_id": "597",
                                    "order_date": "2016-12-08",
                                    "max_list_price": "1799.99"
                                },
                                {
                                    "order_id": "593",
                                    "order_date": "2016-12-07",
                                    "max_list_price": "999.99"
                                },
                                {
                                    "order_id": "594",
                                    "order_date": "2016-12-07",
                                    "max_list_price": "599.99"
                                },
                                {
                                    "order_id": "587",
                                    "order_date": "2016-12-06",
                                    "max_list_price": "549.99"
                                },
                                {
                                    "order_id": "588",
                                    "order_date": "2016-12-06",
                                    "max_list_price": "1549.00"
                                },
                                {
                                    "order_id": "589",
                                    "order_date": "2016-12-06",
                                    "max_list_price": "529.99"
                                },
                                {
                                    "order_id": "590",
                                    "order_date": "2016-12-06",
                                    "max_list_price": "1799.99"
                                },
                                {
                                    "order_id": "591",
                                    "order_date": "2016-12-06",
                                    "max_list_price": "749.99"
                                },
                                {
                                    "order_id": "592",
                                    "order_date": "2016-12-06",
                                    "max_list_price": "599.99"
                                },
                                {
                                    "order_id": "582",
                                    "order_date": "2016-12-04",
                                    "max_list_price": "1549.00"
                                },
                                {
                                    "order_id": "583",
                                    "order_date": "2016-12-04",
                                    "max_list_price": "529.99"
                                },
                                {
                                    "order_id": "584",
                                    "order_date": "2016-12-04",
                                    "max_list_price": "1799.99"
                                },
                                {
                                    "order_id": "585",
                                    "order_date": "2016-12-04",
                                    "max_list_price": "1549.00"
                                },
                                {
                                    "order_id": "586",
                                    "order_date": "2016-12-04",
                                    "max_list_price": "1680.99"
                                },
                                {
                                    "order_id": "581",
                                    "order_date": "2016-12-03",
                                    "max_list_price": "1799.99"
                                },
                                {
                                    "order_id": "580",
                                    "order_date": "2016-11-30",
                                    "max_list_price": "2999.99"
                                },
                                {
                                    "order_id": "575",
                                    "order_date": "2016-11-27",
                                    "max_list_price": "2899.99"
                                },
                                {
                                    "order_id": "576",
                                    "order_date": "2016-11-27",
                                    "max_list_price": "2999.99"
                                },
                                {
                                    "order_id": "577",
                                    "order_date": "2016-11-27",
                                    "max_list_price": "999.99"
                                },
                                {
                                    "order_id": "578",
                                    "order_date": "2016-11-27",
                                    "max_list_price": "1799.99"
                                },
                                {
                                    "order_id": "579",
                                    "order_date": "2016-11-27",
                                    "max_list_price": "3999.99"
                                },
                                {
                                    "order_id": "574",
                                    "order_date": "2016-11-26",
                                    "max_list_price": "1680.99"
                                },
                                {
                                    "order_id": "571",
                                    "order_date": "2016-11-24",
                                    "max_list_price": "2999.99"
                                },
                                {
                                    "order_id": "572",
                                    "order_date": "2016-11-24",
                                    "max_list_price": "1680.99"
                                },
                                {
                                    "order_id": "573",
                                    "order_date": "2016-11-24",
                                    "max_list_price": "749.99"
                                },
                                {
                                    "order_id": "568",
                                    "order_date": "2016-11-23",
                                    "max_list_price": "1549.00"
                                },
                                {
                                    "order_id": "569",
                                    "order_date": "2016-11-23",
                                    "max_list_price": "599.99"
                                },
                                {
                                    "order_id": "570",
                                    "order_date": "2016-11-23",
                                    "max_list_price": "1680.99"
                                },
                                {
                                    "order_id": "566",
                                    "order_date": "2016-11-22",
                                    "max_list_price": "3999.99"
                                },
                                {
                                    "order_id": "567",
                                    "order_date": "2016-11-22",
                                    "max_list_price": "2999.99"
                                },
                                {
                                    "order_id": "565",
                                    "order_date": "2016-11-21",
                                    "max_list_price": "2999.99"
                                },
                                {
                                    "order_id": "563",
                                    "order_date": "2016-11-20",
                                    "max_list_price": "469.99"
                                },
                                {
                                    "order_id": "564",
                                    "order_date": "2016-11-20",
                                    "max_list_price": "2899.99"
                                },
                                {
                                    "order_id": "561",
                                    "order_date": "2016-11-19",
                                    "max_list_price": "1320.99"
                                },
                                {
                                    "order_id": "562",
                                    "order_date": "2016-11-19",
                                    "max_list_price": "599.99"
                                },
                                {
                                    "order_id": "560",
                                    "order_date": "2016-11-18",
                                    "max_list_price": "599.99"
                                },
                                {
                                    "order_id": "559",
                                    "order_date": "2016-11-16",
                                    "max_list_price": "3999.99"
                                },
                                {
                                    "order_id": "558",
                                    "order_date": "2016-11-15",
                                    "max_list_price": "3999.99"
                                },
                                {
                                    "order_id": "557",
                                    "order_date": "2016-11-14",
                                    "max_list_price": "2999.99"
                                },
                                {
                                    "order_id": "554",
                                    "order_date": "2016-11-13",
                                    "max_list_price": "2899.99"
                                },
                                {
                                    "order_id": "555",
                                    "order_date": "2016-11-13",
                                    "max_list_price": "3999.99"
                                },
                                {
                                    "order_id": "556",
                                    "order_date": "2016-11-13",
                                    "max_list_price": "2899.99"
                                },
                                {
                                    "order_id": "549",
                                    "order_date": "2016-11-12",
                                    "max_list_price": "3999.99"
                                },
                                {
                                    "order_id": "550",
                                    "order_date": "2016-11-12",
                                    "max_list_price": "2899.99"
                                },
                                {
                                    "order_id": "551",
                                    "order_date": "2016-11-12",
                                    "max_list_price": "1680.99"
                                },
                                {
                                    "order_id": "552",
                                    "order_date": "2016-11-12",
                                    "max_list_price": "749.99"
                                },
                                {
                                    "order_id": "553",
                                    "order_date": "2016-11-12",
                                    "max_list_price": "549.99"
                                },
                                {
                                    "order_id": "548",
                                    "order_date": "2016-11-11",
                                    "max_list_price": "1799.99"
                                },
                                {
                                    "order_id": "546",
                                    "order_date": "2016-11-09",
                                    "max_list_price": "1799.99"
                                },
                                {
                                    "order_id": "547",
                                    "order_date": "2016-11-09",
                                    "max_list_price": "2999.99"
                                },
                                {
                                    "order_id": "545",
                                    "order_date": "2016-11-08",
                                    "max_list_price": "599.99"
                                },
                                {
                                    "order_id": "543",
                                    "order_date": "2016-11-06",
                                    "max_list_price": "599.99"
                                },
                                {
                                    "order_id": "544",
                                    "order_date": "2016-11-06",
                                    "max_list_price": "549.99"
                                },
                                {
                                    "order_id": "541",
                                    "order_date": "2016-11-04",
                                    "max_list_price": "269.99"
                                },
                                {
                                    "order_id": "542",
                                    "order_date": "2016-11-04",
                                    "max_list_price": "2999.99"
                                },
                                {
                                    "order_id": "540",
                                    "order_date": "2016-11-03",
                                    "max_list_price": "599.99"
                                },
                                {
                                    "order_id": "538",
                                    "order_date": "2016-11-02",
                                    "max_list_price": "749.99"
                                },
                                {
                                    "order_id": "539",
                                    "order_date": "2016-11-02",
                                    "max_list_price": "2999.99"
                                },
                                {
                                    "order_id": "536",
                                    "order_date": "2016-10-31",
                                    "max_list_price": "749.99"
                                },
                                {
                                    "order_id": "537",
                                    "order_date": "2016-10-31",
                                    "max_list_price": "1549.00"
                                },
                                {
                                    "order_id": "532",
                                    "order_date": "2016-10-29",
                                    "max_list_price": "599.99"
                                },
                                {
                                    "order_id": "533",
                                    "order_date": "2016-10-29",
                                    "max_list_price": "2899.99"
                                },
                                {
                                    "order_id": "534",
                                    "order_date": "2016-10-29",
                                    "max_list_price": "2999.99"
                                },
                                {
                                    "order_id": "535",
                                    "order_date": "2016-10-29",
                                    "max_list_price": "549.99"
                                },
                                {
                                    "order_id": "528",
                                    "order_date": "2016-10-28",
                                    "max_list_price": "269.99"
                                },
                                {
                                    "order_id": "529",
                                    "order_date": "2016-10-28",
                                    "max_list_price": "549.99"
                                },
                                {
                                    "order_id": "530",
                                    "order_date": "2016-10-28",
                                    "max_list_price": "2899.99"
                                },
                                {
                                    "order_id": "531",
                                    "order_date": "2016-10-28",
                                    "max_list_price": "549.99"
                                },
                                {
                                    "order_id": "527",
                                    "order_date": "2016-10-27",
                                    "max_list_price": "2999.99"
                                },
                                {
                                    "order_id": "525",
                                    "order_date": "2016-10-26",
                                    "max_list_price": "2999.99"
                                },
                                {
                                    "order_id": "526",
                                    "order_date": "2016-10-26",
                                    "max_list_price": "1799.99"
                                },
                                {
                                    "order_id": "524",
                                    "order_date": "2016-10-25",
                                    "max_list_price": "2999.99"
                                },
                                {
                                    "order_id": "523",
                                    "order_date": "2016-10-24",
                                    "max_list_price": "1320.99"
                                },
                                {
                                    "order_id": "520",
                                    "order_date": "2016-10-23",
                                    "max_list_price": "1549.00"
                                },
                                {
                                    "order_id": "521",
                                    "order_date": "2016-10-23",
                                    "max_list_price": "1320.99"
                                },
                                {
                                    "order_id": "522",
                                    "order_date": "2016-10-23",
                                    "max_list_price": "2899.99"
                                },
                                {
                                    "order_id": "518",
                                    "order_date": "2016-10-22",
                                    "max_list_price": "1680.99"
                                },
                                {
                                    "order_id": "519",
                                    "order_date": "2016-10-22",
                                    "max_list_price": "3999.99"
                                },
                                {
                                    "order_id": "516",
                                    "order_date": "2016-10-21",
                                    "max_list_price": "3999.99"
                                },
                                {
                                    "order_id": "517",
                                    "order_date": "2016-10-21",
                                    "max_list_price": "269.99"
                                },
                                {
                                    "order_id": "512",
                                    "order_date": "2016-10-19",
                                    "max_list_price": "269.99"
                                },
                                {
                                    "order_id": "513",
                                    "order_date": "2016-10-19",
                                    "max_list_price": "3999.99"
                                },
                                {
                                    "order_id": "514",
                                    "order_date": "2016-10-19",
                                    "max_list_price": "449.00"
                                },
                                {
                                    "order_id": "515",
                                    "order_date": "2016-10-19",
                                    "max_list_price": "1799.99"
                                },
                                {
                                    "order_id": "511",
                                    "order_date": "2016-10-18",
                                    "max_list_price": "269.99"
                                },
                                {
                                    "order_id": "510",
                                    "order_date": "2016-10-17",
                                    "max_list_price": "429.00"
                                },
                                {
                                    "order_id": "509",
                                    "order_date": "2016-10-16",
                                    "max_list_price": "2899.99"
                                },
                                {
                                    "order_id": "507",
                                    "order_date": "2016-10-15",
                                    "max_list_price": "1680.99"
                                },
                                {
                                    "order_id": "508",
                                    "order_date": "2016-10-15",
                                    "max_list_price": "1799.99"
                                },
                                {
                                    "order_id": "504",
                                    "order_date": "2016-10-14",
                                    "max_list_price": "749.99"
                                },
                                {
                                    "order_id": "505",
                                    "order_date": "2016-10-14",
                                    "max_list_price": "599.99"
                                },
                                {
                                    "order_id": "506",
                                    "order_date": "2016-10-14",
                                    "max_list_price": "3999.99"
                                },
                                {
                                    "order_id": "503",
                                    "order_date": "2016-10-13",
                                    "max_list_price": "1549.00"
                                },
                                {
                                    "order_id": "502",
                                    "order_date": "2016-10-12",
                                    "max_list_price": "269.99"
                                },
                                {
                                    "order_id": "499",
                                    "order_date": "2016-10-11",
                                    "max_list_price": "1680.99"
                                },
                                {
                                    "order_id": "500",
                                    "order_date": "2016-10-11",
                                    "max_list_price": "549.99"
                                },
                                {
                                    "order_id": "501",
                                    "order_date": "2016-10-11",
                                    "max_list_price": "1799.99"
                                },
                                {
                                    "order_id": "495",
                                    "order_date": "2016-10-10",
                                    "max_list_price": "2999.99"
                                },
                                {
                                    "order_id": "496",
                                    "order_date": "2016-10-10",
                                    "max_list_price": "299.99"
                                },
                                {
                                    "order_id": "497",
                                    "order_date": "2016-10-10",
                                    "max_list_price": "499.99"
                                },
                                {
                                    "order_id": "498",
                                    "order_date": "2016-10-10",
                                    "max_list_price": "1549.00"
                                },
                                {
                                    "order_id": "492",
                                    "order_date": "2016-10-09",
                                    "max_list_price": "599.99"
                                },
                                {
                                    "order_id": "493",
                                    "order_date": "2016-10-09",
                                    "max_list_price": "599.99"
                                },
                                {
                                    "order_id": "494",
                                    "order_date": "2016-10-09",
                                    "max_list_price": "299.99"
                                },
                                {
                                    "order_id": "491",
                                    "order_date": "2016-10-08",
                                    "max_list_price": "2999.99"
                                },
                                {
                                    "order_id": "490",
                                    "order_date": "2016-10-07",
                                    "max_list_price": "549.99"
                                },
                                {
                                    "order_id": "483",
                                    "order_date": "2016-10-06",
                                    "max_list_price": "429.00"
                                },
                                {
                                    "order_id": "484",
                                    "order_date": "2016-10-06",
                                    "max_list_price": "2999.99"
                                },
                                {
                                    "order_id": "485",
                                    "order_date": "2016-10-06",
                                    "max_list_price": "599.99"
                                },
                                {
                                    "order_id": "486",
                                    "order_date": "2016-10-06",
                                    "max_list_price": "2999.99"
                                },
                                {
                                    "order_id": "487",
                                    "order_date": "2016-10-06",
                                    "max_list_price": "469.99"
                                },
                                {
                                    "order_id": "488",
                                    "order_date": "2016-10-06",
                                    "max_list_price": "299.99"
                                },
                                {
                                    "order_id": "489",
                                    "order_date": "2016-10-06",
                                    "max_list_price": "1799.99"
                                },
                                {
                                    "order_id": "482",
                                    "order_date": "2016-10-05",
                                    "max_list_price": "269.99"
                                },
                                {
                                    "order_id": "480",
                                    "order_date": "2016-10-04",
                                    "max_list_price": "2899.99"
                                },
                                {
                                    "order_id": "481",
                                    "order_date": "2016-10-04",
                                    "max_list_price": "2999.99"
                                },
                                {
                                    "order_id": "479",
                                    "order_date": "2016-10-03",
                                    "max_list_price": "3999.99"
                                },
                                {
                                    "order_id": "477",
                                    "order_date": "2016-10-02",
                                    "max_list_price": "1549.00"
                                },
                                {
                                    "order_id": "478",
                                    "order_date": "2016-10-02",
                                    "max_list_price": "269.99"
                                },
                                {
                                    "order_id": "474",
                                    "order_date": "2016-10-01",
                                    "max_list_price": "1680.99"
                                },
                                {
                                    "order_id": "475",
                                    "order_date": "2016-10-01",
                                    "max_list_price": "599.99"
                                },
                                {
                                    "order_id": "476",
                                    "order_date": "2016-10-01",
                                    "max_list_price": "2899.99"
                                },
                                {
                                    "order_id": "470",
                                    "order_date": "2016-09-30",
                                    "max_list_price": "1799.99"
                                },
                                {
                                    "order_id": "471",
                                    "order_date": "2016-09-30",
                                    "max_list_price": "269.99"
                                },
                                {
                                    "order_id": "472",
                                    "order_date": "2016-09-30",
                                    "max_list_price": "529.99"
                                },
                                {
                                    "order_id": "473",
                                    "order_date": "2016-09-30",
                                    "max_list_price": "599.99"
                                },
                                {
                                    "order_id": "468",
                                    "order_date": "2016-09-29",
                                    "max_list_price": "2999.99"
                                },
                                {
                                    "order_id": "469",
                                    "order_date": "2016-09-29",
                                    "max_list_price": "2899.99"
                                },
                                {
                                    "order_id": "464",
                                    "order_date": "2016-09-28",
                                    "max_list_price": "3999.99"
                                },
                                {
                                    "order_id": "465",
                                    "order_date": "2016-09-28",
                                    "max_list_price": "499.99"
                                },
                                {
                                    "order_id": "466",
                                    "order_date": "2016-09-28",
                                    "max_list_price": "3999.99"
                                },
                                {
                                    "order_id": "467",
                                    "order_date": "2016-09-28",
                                    "max_list_price": "1680.99"
                                },
                                {
                                    "order_id": "462",
                                    "order_date": "2016-09-27",
                                    "max_list_price": "549.99"
                                },
                                {
                                    "order_id": "463",
                                    "order_date": "2016-09-27",
                                    "max_list_price": "269.99"
                                },
                                {
                                    "order_id": "461",
                                    "order_date": "2016-09-26",
                                    "max_list_price": "2899.99"
                                },
                                {
                                    "order_id": "458",
                                    "order_date": "2016-09-25",
                                    "max_list_price": "1680.99"
                                },
                                {
                                    "order_id": "459",
                                    "order_date": "2016-09-25",
                                    "max_list_price": "1680.99"
                                },
                                {
                                    "order_id": "460",
                                    "order_date": "2016-09-25",
                                    "max_list_price": "2899.99"
                                },
                                {
                                    "order_id": "457",
                                    "order_date": "2016-09-24",
                                    "max_list_price": "3999.99"
                                },
                                {
                                    "order_id": "454",
                                    "order_date": "2016-09-23",
                                    "max_list_price": "549.99"
                                },
                                {
                                    "order_id": "455",
                                    "order_date": "2016-09-23",
                                    "max_list_price": "2999.99"
                                },
                                {
                                    "order_id": "456",
                                    "order_date": "2016-09-23",
                                    "max_list_price": "429.00"
                                },
                                {
                                    "order_id": "452",
                                    "order_date": "2016-09-22",
                                    "max_list_price": "3999.99"
                                },
                                {
                                    "order_id": "453",
                                    "order_date": "2016-09-22",
                                    "max_list_price": "2899.99"
                                },
                                {
                                    "order_id": "448",
                                    "order_date": "2016-09-21",
                                    "max_list_price": "469.99"
                                },
                                {
                                    "order_id": "449",
                                    "order_date": "2016-09-21",
                                    "max_list_price": "3999.99"
                                },
                                {
                                    "order_id": "450",
                                    "order_date": "2016-09-21",
                                    "max_list_price": "1320.99"
                                },
                                {
                                    "order_id": "451",
                                    "order_date": "2016-09-21",
                                    "max_list_price": "269.99"
                                },
                                {
                                    "order_id": "447",
                                    "order_date": "2016-09-20",
                                    "max_list_price": "2899.99"
                                },
                                {
                                    "order_id": "444",
                                    "order_date": "2016-09-19",
                                    "max_list_price": "1549.00"
                                },
                                {
                                    "order_id": "445",
                                    "order_date": "2016-09-19",
                                    "max_list_price": "3999.99"
                                },
                                {
                                    "order_id": "446",
                                    "order_date": "2016-09-19",
                                    "max_list_price": "599.99"
                                },
                                {
                                    "order_id": "441",
                                    "order_date": "2016-09-18",
                                    "max_list_price": "549.99"
                                },
                                {
                                    "order_id": "442",
                                    "order_date": "2016-09-18",
                                    "max_list_price": "599.99"
                                },
                                {
                                    "order_id": "443",
                                    "order_date": "2016-09-18",
                                    "max_list_price": "1320.99"
                                },
                                {
                                    "order_id": "439",
                                    "order_date": "2016-09-17",
                                    "max_list_price": "3999.99"
                                },
                                {
                                    "order_id": "440",
                                    "order_date": "2016-09-17",
                                    "max_list_price": "2899.99"
                                },
                                {
                                    "order_id": "436",
                                    "order_date": "2016-09-16",
                                    "max_list_price": "999.99"
                                },
                                {
                                    "order_id": "437",
                                    "order_date": "2016-09-16",
                                    "max_list_price": "1799.99"
                                },
                                {
                                    "order_id": "438",
                                    "order_date": "2016-09-16",
                                    "max_list_price": "2899.99"
                                },
                                {
                                    "order_id": "435",
                                    "order_date": "2016-09-14",
                                    "max_list_price": "2999.99"
                                },
                                {
                                    "order_id": "434",
                                    "order_date": "2016-09-13",
                                    "max_list_price": "2999.99"
                                },
                                {
                                    "order_id": "432",
                                    "order_date": "2016-09-12",
                                    "max_list_price": "3999.99"
                                },
                                {
                                    "order_id": "433",
                                    "order_date": "2016-09-12",
                                    "max_list_price": "2899.99"
                                },
                                {
                                    "order_id": "430",
                                    "order_date": "2016-09-11",
                                    "max_list_price": "2899.99"
                                },
                                {
                                    "order_id": "431",
                                    "order_date": "2016-09-11",
                                    "max_list_price": "469.99"
                                },
                                {
                                    "order_id": "429",
                                    "order_date": "2016-09-10",
                                    "max_list_price": "2899.99"
                                },
                                {
                                    "order_id": "427",
                                    "order_date": "2016-09-09",
                                    "max_list_price": "599.99"
                                },
                                {
                                    "order_id": "428",
                                    "order_date": "2016-09-09",
                                    "max_list_price": "1320.99"
                                },
                                {
                                    "order_id": "424",
                                    "order_date": "2016-09-08",
                                    "max_list_price": "469.99"
                                },
                                {
                                    "order_id": "425",
                                    "order_date": "2016-09-08",
                                    "max_list_price": "469.99"
                                },
                                {
                                    "order_id": "426",
                                    "order_date": "2016-09-08",
                                    "max_list_price": "1549.00"
                                },
                                {
                                    "order_id": "422",
                                    "order_date": "2016-09-06",
                                    "max_list_price": "599.99"
                                },
                                {
                                    "order_id": "423",
                                    "order_date": "2016-09-06",
                                    "max_list_price": "1799.99"
                                },
                                {
                                    "order_id": "420",
                                    "order_date": "2016-09-05",
                                    "max_list_price": "999.99"
                                },
                                {
                                    "order_id": "421",
                                    "order_date": "2016-09-05",
                                    "max_list_price": "2899.99"
                                },
                                {
                                    "order_id": "417",
                                    "order_date": "2016-09-04",
                                    "max_list_price": "599.99"
                                },
                                {
                                    "order_id": "418",
                                    "order_date": "2016-09-04",
                                    "max_list_price": "599.99"
                                },
                                {
                                    "order_id": "419",
                                    "order_date": "2016-09-04",
                                    "max_list_price": "2999.99"
                                },
                                {
                                    "order_id": "414",
                                    "order_date": "2016-09-03",
                                    "max_list_price": "2899.99"
                                },
                                {
                                    "order_id": "415",
                                    "order_date": "2016-09-03",
                                    "max_list_price": "1320.99"
                                },
                                {
                                    "order_id": "416",
                                    "order_date": "2016-09-03",
                                    "max_list_price": "549.99"
                                },
                                {
                                    "order_id": "411",
                                    "order_date": "2016-09-02",
                                    "max_list_price": "749.99"
                                },
                                {
                                    "order_id": "412",
                                    "order_date": "2016-09-02",
                                    "max_list_price": "3999.99"
                                },
                                {
                                    "order_id": "413",
                                    "order_date": "2016-09-02",
                                    "max_list_price": "2999.99"
                                },
                                {
                                    "order_id": "407",
                                    "order_date": "2016-09-01",
                                    "max_list_price": "1320.99"
                                },
                                {
                                    "order_id": "408",
                                    "order_date": "2016-09-01",
                                    "max_list_price": "999.99"
                                },
                                {
                                    "order_id": "409",
                                    "order_date": "2016-09-01",
                                    "max_list_price": "599.99"
                                },
                                {
                                    "order_id": "410",
                                    "order_date": "2016-09-01",
                                    "max_list_price": "2999.99"
                                },
                                {
                                    "order_id": "403",
                                    "order_date": "2016-08-31",
                                    "max_list_price": "3999.99"
                                },
                                {
                                    "order_id": "404",
                                    "order_date": "2016-08-31",
                                    "max_list_price": "2999.99"
                                },
                                {
                                    "order_id": "405",
                                    "order_date": "2016-08-31",
                                    "max_list_price": "1549.00"
                                },
                                {
                                    "order_id": "406",
                                    "order_date": "2016-08-31",
                                    "max_list_price": "2899.99"
                                },
                                {
                                    "order_id": "401",
                                    "order_date": "2016-08-30",
                                    "max_list_price": "1549.00"
                                },
                                {
                                    "order_id": "402",
                                    "order_date": "2016-08-30",
                                    "max_list_price": "1320.99"
                                },
                                {
                                    "order_id": "398",
                                    "order_date": "2016-08-29",
                                    "max_list_price": "1799.99"
                                },
                                {
                                    "order_id": "399",
                                    "order_date": "2016-08-29",
                                    "max_list_price": "1680.99"
                                },
                                {
                                    "order_id": "400",
                                    "order_date": "2016-08-29",
                                    "max_list_price": "2999.99"
                                },
                                {
                                    "order_id": "397",
                                    "order_date": "2016-08-28",
                                    "max_list_price": "3999.99"
                                },
                                {
                                    "order_id": "396",
                                    "order_date": "2016-08-27",
                                    "max_list_price": "1320.99"
                                },
                                {
                                    "order_id": "394",
                                    "order_date": "2016-08-26",
                                    "max_list_price": "599.99"
                                },
                                {
                                    "order_id": "395",
                                    "order_date": "2016-08-26",
                                    "max_list_price": "269.99"
                                },
                                {
                                    "order_id": "393",
                                    "order_date": "2016-08-25",
                                    "max_list_price": "469.99"
                                },
                                {
                                    "order_id": "391",
                                    "order_date": "2016-08-23",
                                    "max_list_price": "1799.99"
                                },
                                {
                                    "order_id": "392",
                                    "order_date": "2016-08-23",
                                    "max_list_price": "999.99"
                                },
                                {
                                    "order_id": "389",
                                    "order_date": "2016-08-22",
                                    "max_list_price": "2999.99"
                                },
                                {
                                    "order_id": "390",
                                    "order_date": "2016-08-22",
                                    "max_list_price": "3999.99"
                                },
                                {
                                    "order_id": "388",
                                    "order_date": "2016-08-21",
                                    "max_list_price": "1680.99"
                                },
                                {
                                    "order_id": "382",
                                    "order_date": "2016-08-20",
                                    "max_list_price": "2999.99"
                                },
                                {
                                    "order_id": "383",
                                    "order_date": "2016-08-20",
                                    "max_list_price": "449.00"
                                },
                                {
                                    "order_id": "384",
                                    "order_date": "2016-08-20",
                                    "max_list_price": "2899.99"
                                },
                                {
                                    "order_id": "385",
                                    "order_date": "2016-08-20",
                                    "max_list_price": "3999.99"
                                },
                                {
                                    "order_id": "386",
                                    "order_date": "2016-08-20",
                                    "max_list_price": "1799.99"
                                },
                                {
                                    "order_id": "387",
                                    "order_date": "2016-08-20",
                                    "max_list_price": "449.00"
                                },
                                {
                                    "order_id": "380",
                                    "order_date": "2016-08-19",
                                    "max_list_price": "1680.99"
                                },
                                {
                                    "order_id": "381",
                                    "order_date": "2016-08-19",
                                    "max_list_price": "269.99"
                                },
                                {
                                    "order_id": "379",
                                    "order_date": "2016-08-18",
                                    "max_list_price": "2999.99"
                                },
                                {
                                    "order_id": "374",
                                    "order_date": "2016-08-17",
                                    "max_list_price": "3999.99"
                                },
                                {
                                    "order_id": "375",
                                    "order_date": "2016-08-17",
                                    "max_list_price": "2899.99"
                                },
                                {
                                    "order_id": "376",
                                    "order_date": "2016-08-17",
                                    "max_list_price": "749.99"
                                },
                                {
                                    "order_id": "377",
                                    "order_date": "2016-08-17",
                                    "max_list_price": "1799.99"
                                },
                                {
                                    "order_id": "378",
                                    "order_date": "2016-08-17",
                                    "max_list_price": "599.99"
                                },
                                {
                                    "order_id": "372",
                                    "order_date": "2016-08-16",
                                    "max_list_price": "1680.99"
                                },
                                {
                                    "order_id": "373",
                                    "order_date": "2016-08-16",
                                    "max_list_price": "1799.99"
                                },
                                {
                                    "order_id": "369",
                                    "order_date": "2016-08-15",
                                    "max_list_price": "1549.00"
                                },
                                {
                                    "order_id": "370",
                                    "order_date": "2016-08-15",
                                    "max_list_price": "2899.99"
                                },
                                {
                                    "order_id": "371",
                                    "order_date": "2016-08-15",
                                    "max_list_price": "549.99"
                                },
                                {
                                    "order_id": "367",
                                    "order_date": "2016-08-14",
                                    "max_list_price": "1549.00"
                                },
                                {
                                    "order_id": "368",
                                    "order_date": "2016-08-14",
                                    "max_list_price": "1549.00"
                                },
                                {
                                    "order_id": "365",
                                    "order_date": "2016-08-13",
                                    "max_list_price": "549.99"
                                },
                                {
                                    "order_id": "366",
                                    "order_date": "2016-08-13",
                                    "max_list_price": "2899.99"
                                },
                                {
                                    "order_id": "364",
                                    "order_date": "2016-08-12",
                                    "max_list_price": "499.99"
                                },
                                {
                                    "order_id": "363",
                                    "order_date": "2016-08-11",
                                    "max_list_price": "599.99"
                                },
                                {
                                    "order_id": "362",
                                    "order_date": "2016-08-09",
                                    "max_list_price": "749.99"
                                },
                                {
                                    "order_id": "361",
                                    "order_date": "2016-08-08",
                                    "max_list_price": "1680.99"
                                },
                                {
                                    "order_id": "359",
                                    "order_date": "2016-08-07",
                                    "max_list_price": "3999.99"
                                },
                                {
                                    "order_id": "360",
                                    "order_date": "2016-08-07",
                                    "max_list_price": "3999.99"
                                },
                                {
                                    "order_id": "357",
                                    "order_date": "2016-08-05",
                                    "max_list_price": "2999.99"
                                },
                                {
                                    "order_id": "358",
                                    "order_date": "2016-08-05",
                                    "max_list_price": "1799.99"
                                },
                                {
                                    "order_id": "356",
                                    "order_date": "2016-08-04",
                                    "max_list_price": "2899.99"
                                },
                                {
                                    "order_id": "349",
                                    "order_date": "2016-08-03",
                                    "max_list_price": "599.99"
                                },
                                {
                                    "order_id": "350",
                                    "order_date": "2016-08-03",
                                    "max_list_price": "999.99"
                                },
                                {
                                    "order_id": "351",
                                    "order_date": "2016-08-03",
                                    "max_list_price": "2899.99"
                                },
                                {
                                    "order_id": "352",
                                    "order_date": "2016-08-03",
                                    "max_list_price": "1680.99"
                                },
                                {
                                    "order_id": "353",
                                    "order_date": "2016-08-03",
                                    "max_list_price": "749.99"
                                },
                                {
                                    "order_id": "354",
                                    "order_date": "2016-08-03",
                                    "max_list_price": "449.00"
                                },
                                {
                                    "order_id": "355",
                                    "order_date": "2016-08-03",
                                    "max_list_price": "599.99"
                                },
                                {
                                    "order_id": "347",
                                    "order_date": "2016-08-02",
                                    "max_list_price": "299.99"
                                },
                                {
                                    "order_id": "348",
                                    "order_date": "2016-08-02",
                                    "max_list_price": "1320.99"
                                },
                                {
                                    "order_id": "344",
                                    "order_date": "2016-08-01",
                                    "max_list_price": "449.00"
                                },
                                {
                                    "order_id": "345",
                                    "order_date": "2016-08-01",
                                    "max_list_price": "549.99"
                                },
                                {
                                    "order_id": "346",
                                    "order_date": "2016-08-01",
                                    "max_list_price": "529.99"
                                },
                                {
                                    "order_id": "341",
                                    "order_date": "2016-07-31",
                                    "max_list_price": "299.99"
                                },
                                {
                                    "order_id": "342",
                                    "order_date": "2016-07-31",
                                    "max_list_price": "2999.99"
                                },
                                {
                                    "order_id": "343",
                                    "order_date": "2016-07-31",
                                    "max_list_price": "1549.00"
                                },
                                {
                                    "order_id": "340",
                                    "order_date": "2016-07-29",
                                    "max_list_price": "1680.99"
                                },
                                {
                                    "order_id": "338",
                                    "order_date": "2016-07-28",
                                    "max_list_price": "2999.99"
                                },
                                {
                                    "order_id": "339",
                                    "order_date": "2016-07-28",
                                    "max_list_price": "529.99"
                                },
                                {
                                    "order_id": "336",
                                    "order_date": "2016-07-26",
                                    "max_list_price": "2899.99"
                                },
                                {
                                    "order_id": "337",
                                    "order_date": "2016-07-26",
                                    "max_list_price": "2899.99"
                                },
                                {
                                    "order_id": "333",
                                    "order_date": "2016-07-25",
                                    "max_list_price": "1799.99"
                                },
                                {
                                    "order_id": "334",
                                    "order_date": "2016-07-25",
                                    "max_list_price": "2999.99"
                                },
                                {
                                    "order_id": "335",
                                    "order_date": "2016-07-25",
                                    "max_list_price": "749.99"
                                },
                                {
                                    "order_id": "329",
                                    "order_date": "2016-07-24",
                                    "max_list_price": "1799.99"
                                },
                                {
                                    "order_id": "330",
                                    "order_date": "2016-07-24",
                                    "max_list_price": "269.99"
                                },
                                {
                                    "order_id": "331",
                                    "order_date": "2016-07-24",
                                    "max_list_price": "429.00"
                                },
                                {
                                    "order_id": "332",
                                    "order_date": "2016-07-24",
                                    "max_list_price": "449.00"
                                },
                                {
                                    "order_id": "328",
                                    "order_date": "2016-07-23",
                                    "max_list_price": "469.99"
                                },
                                {
                                    "order_id": "327",
                                    "order_date": "2016-07-21",
                                    "max_list_price": "2899.99"
                                },
                                {
                                    "order_id": "324",
                                    "order_date": "2016-07-20",
                                    "max_list_price": "749.99"
                                },
                                {
                                    "order_id": "325",
                                    "order_date": "2016-07-20",
                                    "max_list_price": "3999.99"
                                },
                                {
                                    "order_id": "326",
                                    "order_date": "2016-07-20",
                                    "max_list_price": "549.99"
                                },
                                {
                                    "order_id": "320",
                                    "order_date": "2016-07-19",
                                    "max_list_price": "749.99"
                                },
                                {
                                    "order_id": "321",
                                    "order_date": "2016-07-19",
                                    "max_list_price": "2899.99"
                                },
                                {
                                    "order_id": "322",
                                    "order_date": "2016-07-19",
                                    "max_list_price": "269.99"
                                },
                                {
                                    "order_id": "323",
                                    "order_date": "2016-07-19",
                                    "max_list_price": "599.99"
                                },
                                {
                                    "order_id": "319",
                                    "order_date": "2016-07-18",
                                    "max_list_price": "1680.99"
                                },
                                {
                                    "order_id": "316",
                                    "order_date": "2016-07-17",
                                    "max_list_price": "749.99"
                                },
                                {
                                    "order_id": "317",
                                    "order_date": "2016-07-17",
                                    "max_list_price": "1549.00"
                                },
                                {
                                    "order_id": "318",
                                    "order_date": "2016-07-17",
                                    "max_list_price": "2999.99"
                                },
                                {
                                    "order_id": "315",
                                    "order_date": "2016-07-16",
                                    "max_list_price": "2999.99"
                                },
                                {
                                    "order_id": "314",
                                    "order_date": "2016-07-15",
                                    "max_list_price": "3999.99"
                                },
                                {
                                    "order_id": "313",
                                    "order_date": "2016-07-14",
                                    "max_list_price": "2899.99"
                                },
                                {
                                    "order_id": "312",
                                    "order_date": "2016-07-13",
                                    "max_list_price": "599.99"
                                },
                                {
                                    "order_id": "310",
                                    "order_date": "2016-07-12",
                                    "max_list_price": "3999.99"
                                },
                                {
                                    "order_id": "311",
                                    "order_date": "2016-07-12",
                                    "max_list_price": "1320.99"
                                },
                                {
                                    "order_id": "308",
                                    "order_date": "2016-07-11",
                                    "max_list_price": "3999.99"
                                },
                                {
                                    "order_id": "309",
                                    "order_date": "2016-07-11",
                                    "max_list_price": "999.99"
                                },
                                {
                                    "order_id": "306",
                                    "order_date": "2016-07-09",
                                    "max_list_price": "1549.00"
                                },
                                {
                                    "order_id": "307",
                                    "order_date": "2016-07-09",
                                    "max_list_price": "529.99"
                                },
                                {
                                    "order_id": "303",
                                    "order_date": "2016-07-07",
                                    "max_list_price": "1799.99"
                                },
                                {
                                    "order_id": "304",
                                    "order_date": "2016-07-07",
                                    "max_list_price": "3999.99"
                                },
                                {
                                    "order_id": "305",
                                    "order_date": "2016-07-07",
                                    "max_list_price": "1549.00"
                                },
                                {
                                    "order_id": "301",
                                    "order_date": "2016-07-06",
                                    "max_list_price": "469.99"
                                },
                                {
                                    "order_id": "302",
                                    "order_date": "2016-07-06",
                                    "max_list_price": "749.99"
                                },
                                {
                                    "order_id": "299",
                                    "order_date": "2016-07-05",
                                    "max_list_price": "1680.99"
                                },
                                {
                                    "order_id": "300",
                                    "order_date": "2016-07-05",
                                    "max_list_price": "2999.99"
                                },
                                {
                                    "order_id": "296",
                                    "order_date": "2016-07-04",
                                    "max_list_price": "2999.99"
                                },
                                {
                                    "order_id": "297",
                                    "order_date": "2016-07-04",
                                    "max_list_price": "2899.99"
                                },
                                {
                                    "order_id": "298",
                                    "order_date": "2016-07-04",
                                    "max_list_price": "2999.99"
                                },
                                {
                                    "order_id": "294",
                                    "order_date": "2016-07-01",
                                    "max_list_price": "3999.99"
                                },
                                {
                                    "order_id": "295",
                                    "order_date": "2016-07-01",
                                    "max_list_price": "269.99"
                                },
                                {
                                    "order_id": "293",
                                    "order_date": "2016-06-30",
                                    "max_list_price": "469.99"
                                },
                                {
                                    "order_id": "291",
                                    "order_date": "2016-06-29",
                                    "max_list_price": "469.99"
                                },
                                {
                                    "order_id": "292",
                                    "order_date": "2016-06-29",
                                    "max_list_price": "2899.99"
                                },
                                {
                                    "order_id": "290",
                                    "order_date": "2016-06-28",
                                    "max_list_price": "1320.99"
                                },
                                {
                                    "order_id": "289",
                                    "order_date": "2016-06-27",
                                    "max_list_price": "549.99"
                                },
                                {
                                    "order_id": "285",
                                    "order_date": "2016-06-25",
                                    "max_list_price": "749.99"
                                },
                                {
                                    "order_id": "286",
                                    "order_date": "2016-06-25",
                                    "max_list_price": "3999.99"
                                },
                                {
                                    "order_id": "287",
                                    "order_date": "2016-06-25",
                                    "max_list_price": "1549.00"
                                },
                                {
                                    "order_id": "288",
                                    "order_date": "2016-06-25",
                                    "max_list_price": "3999.99"
                                },
                                {
                                    "order_id": "283",
                                    "order_date": "2016-06-23",
                                    "max_list_price": "2999.99"
                                },
                                {
                                    "order_id": "284",
                                    "order_date": "2016-06-23",
                                    "max_list_price": "599.99"
                                },
                                {
                                    "order_id": "282",
                                    "order_date": "2016-06-22",
                                    "max_list_price": "3999.99"
                                },
                                {
                                    "order_id": "279",
                                    "order_date": "2016-06-21",
                                    "max_list_price": "499.99"
                                },
                                {
                                    "order_id": "280",
                                    "order_date": "2016-06-21",
                                    "max_list_price": "599.99"
                                },
                                {
                                    "order_id": "281",
                                    "order_date": "2016-06-21",
                                    "max_list_price": "3999.99"
                                },
                                {
                                    "order_id": "278",
                                    "order_date": "2016-06-20",
                                    "max_list_price": "1680.99"
                                },
                                {
                                    "order_id": "277",
                                    "order_date": "2016-06-19",
                                    "max_list_price": "599.99"
                                },
                                {
                                    "order_id": "276",
                                    "order_date": "2016-06-18",
                                    "max_list_price": "2999.99"
                                },
                                {
                                    "order_id": "274",
                                    "order_date": "2016-06-17",
                                    "max_list_price": "2999.99"
                                },
                                {
                                    "order_id": "275",
                                    "order_date": "2016-06-17",
                                    "max_list_price": "3999.99"
                                },
                                {
                                    "order_id": "273",
                                    "order_date": "2016-06-16",
                                    "max_list_price": "269.99"
                                },
                                {
                                    "order_id": "272",
                                    "order_date": "2016-06-15",
                                    "max_list_price": "1680.99"
                                },
                                {
                                    "order_id": "271",
                                    "order_date": "2016-06-13",
                                    "max_list_price": "3999.99"
                                },
                                {
                                    "order_id": "269",
                                    "order_date": "2016-06-12",
                                    "max_list_price": "1320.99"
                                },
                                {
                                    "order_id": "270",
                                    "order_date": "2016-06-12",
                                    "max_list_price": "529.99"
                                },
                                {
                                    "order_id": "267",
                                    "order_date": "2016-06-11",
                                    "max_list_price": "3999.99"
                                },
                                {
                                    "order_id": "268",
                                    "order_date": "2016-06-11",
                                    "max_list_price": "3999.99"
                                },
                                {
                                    "order_id": "264",
                                    "order_date": "2016-06-10",
                                    "max_list_price": "1549.00"
                                },
                                {
                                    "order_id": "265",
                                    "order_date": "2016-06-10",
                                    "max_list_price": "2999.99"
                                },
                                {
                                    "order_id": "266",
                                    "order_date": "2016-06-10",
                                    "max_list_price": "499.99"
                                },
                                {
                                    "order_id": "263",
                                    "order_date": "2016-06-09",
                                    "max_list_price": "2999.99"
                                },
                                {
                                    "order_id": "261",
                                    "order_date": "2016-06-08",
                                    "max_list_price": "599.99"
                                },
                                {
                                    "order_id": "262",
                                    "order_date": "2016-06-08",
                                    "max_list_price": "2999.99"
                                },
                                {
                                    "order_id": "258",
                                    "order_date": "2016-06-06",
                                    "max_list_price": "2899.99"
                                },
                                {
                                    "order_id": "259",
                                    "order_date": "2016-06-06",
                                    "max_list_price": "2899.99"
                                },
                                {
                                    "order_id": "260",
                                    "order_date": "2016-06-06",
                                    "max_list_price": "1549.00"
                                },
                                {
                                    "order_id": "257",
                                    "order_date": "2016-06-05",
                                    "max_list_price": "1799.99"
                                },
                                {
                                    "order_id": "256",
                                    "order_date": "2016-06-04",
                                    "max_list_price": "1680.99"
                                },
                                {
                                    "order_id": "254",
                                    "order_date": "2016-06-03",
                                    "max_list_price": "999.99"
                                },
                                {
                                    "order_id": "255",
                                    "order_date": "2016-06-03",
                                    "max_list_price": "1320.99"
                                },
                                {
                                    "order_id": "253",
                                    "order_date": "2016-06-02",
                                    "max_list_price": "1680.99"
                                },
                                {
                                    "order_id": "249",
                                    "order_date": "2016-06-01",
                                    "max_list_price": "3999.99"
                                },
                                {
                                    "order_id": "250",
                                    "order_date": "2016-06-01",
                                    "max_list_price": "1680.99"
                                },
                                {
                                    "order_id": "251",
                                    "order_date": "2016-06-01",
                                    "max_list_price": "299.99"
                                },
                                {
                                    "order_id": "252",
                                    "order_date": "2016-06-01",
                                    "max_list_price": "2899.99"
                                },
                                {
                                    "order_id": "246",
                                    "order_date": "2016-05-30",
                                    "max_list_price": "429.00"
                                },
                                {
                                    "order_id": "247",
                                    "order_date": "2016-05-30",
                                    "max_list_price": "999.99"
                                },
                                {
                                    "order_id": "248",
                                    "order_date": "2016-05-30",
                                    "max_list_price": "2999.99"
                                },
                                {
                                    "order_id": "245",
                                    "order_date": "2016-05-29",
                                    "max_list_price": "1799.99"
                                },
                                {
                                    "order_id": "244",
                                    "order_date": "2016-05-28",
                                    "max_list_price": "499.99"
                                },
                                {
                                    "order_id": "239",
                                    "order_date": "2016-05-27",
                                    "max_list_price": "2899.99"
                                },
                                {
                                    "order_id": "240",
                                    "order_date": "2016-05-27",
                                    "max_list_price": "2999.99"
                                },
                                {
                                    "order_id": "241",
                                    "order_date": "2016-05-27",
                                    "max_list_price": "3999.99"
                                },
                                {
                                    "order_id": "242",
                                    "order_date": "2016-05-27",
                                    "max_list_price": "999.99"
                                },
                                {
                                    "order_id": "243",
                                    "order_date": "2016-05-27",
                                    "max_list_price": "3999.99"
                                },
                                {
                                    "order_id": "238",
                                    "order_date": "2016-05-26",
                                    "max_list_price": "3999.99"
                                },
                                {
                                    "order_id": "236",
                                    "order_date": "2016-05-25",
                                    "max_list_price": "2899.99"
                                },
                                {
                                    "order_id": "237",
                                    "order_date": "2016-05-25",
                                    "max_list_price": "599.99"
                                },
                                {
                                    "order_id": "235",
                                    "order_date": "2016-05-24",
                                    "max_list_price": "3999.99"
                                },
                                {
                                    "order_id": "234",
                                    "order_date": "2016-05-22",
                                    "max_list_price": "3999.99"
                                },
                                {
                                    "order_id": "233",
                                    "order_date": "2016-05-21",
                                    "max_list_price": "599.99"
                                },
                                {
                                    "order_id": "232",
                                    "order_date": "2016-05-20",
                                    "max_list_price": "1799.99"
                                },
                                {
                                    "order_id": "229",
                                    "order_date": "2016-05-19",
                                    "max_list_price": "1799.99"
                                },
                                {
                                    "order_id": "230",
                                    "order_date": "2016-05-19",
                                    "max_list_price": "1680.99"
                                },
                                {
                                    "order_id": "231",
                                    "order_date": "2016-05-19",
                                    "max_list_price": "1799.99"
                                },
                                {
                                    "order_id": "224",
                                    "order_date": "2016-05-17",
                                    "max_list_price": "1680.99"
                                },
                                {
                                    "order_id": "225",
                                    "order_date": "2016-05-17",
                                    "max_list_price": "2999.99"
                                },
                                {
                                    "order_id": "226",
                                    "order_date": "2016-05-17",
                                    "max_list_price": "749.99"
                                },
                                {
                                    "order_id": "227",
                                    "order_date": "2016-05-17",
                                    "max_list_price": "999.99"
                                },
                                {
                                    "order_id": "228",
                                    "order_date": "2016-05-17",
                                    "max_list_price": "2899.99"
                                },
                                {
                                    "order_id": "223",
                                    "order_date": "2016-05-15",
                                    "max_list_price": "3999.99"
                                },
                                {
                                    "order_id": "221",
                                    "order_date": "2016-05-13",
                                    "max_list_price": "1680.99"
                                },
                                {
                                    "order_id": "222",
                                    "order_date": "2016-05-13",
                                    "max_list_price": "1549.00"
                                },
                                {
                                    "order_id": "218",
                                    "order_date": "2016-05-12",
                                    "max_list_price": "749.99"
                                },
                                {
                                    "order_id": "219",
                                    "order_date": "2016-05-12",
                                    "max_list_price": "1320.99"
                                },
                                {
                                    "order_id": "220",
                                    "order_date": "2016-05-12",
                                    "max_list_price": "999.99"
                                },
                                {
                                    "order_id": "216",
                                    "order_date": "2016-05-11",
                                    "max_list_price": "599.99"
                                },
                                {
                                    "order_id": "217",
                                    "order_date": "2016-05-11",
                                    "max_list_price": "1549.00"
                                },
                                {
                                    "order_id": "214",
                                    "order_date": "2016-05-10",
                                    "max_list_price": "269.99"
                                },
                                {
                                    "order_id": "215",
                                    "order_date": "2016-05-10",
                                    "max_list_price": "549.99"
                                },
                                {
                                    "order_id": "212",
                                    "order_date": "2016-05-08",
                                    "max_list_price": "3999.99"
                                },
                                {
                                    "order_id": "213",
                                    "order_date": "2016-05-08",
                                    "max_list_price": "269.99"
                                },
                                {
                                    "order_id": "209",
                                    "order_date": "2016-05-07",
                                    "max_list_price": "269.99"
                                },
                                {
                                    "order_id": "210",
                                    "order_date": "2016-05-07",
                                    "max_list_price": "269.99"
                                },
                                {
                                    "order_id": "211",
                                    "order_date": "2016-05-07",
                                    "max_list_price": "1549.00"
                                },
                                {
                                    "order_id": "208",
                                    "order_date": "2016-05-06",
                                    "max_list_price": "2899.99"
                                },
                                {
                                    "order_id": "207",
                                    "order_date": "2016-05-05",
                                    "max_list_price": "3999.99"
                                },
                                {
                                    "order_id": "204",
                                    "order_date": "2016-05-04",
                                    "max_list_price": "469.99"
                                },
                                {
                                    "order_id": "205",
                                    "order_date": "2016-05-04",
                                    "max_list_price": "549.99"
                                },
                                {
                                    "order_id": "206",
                                    "order_date": "2016-05-04",
                                    "max_list_price": "599.99"
                                },
                                {
                                    "order_id": "202",
                                    "order_date": "2016-05-03",
                                    "max_list_price": "1799.99"
                                },
                                {
                                    "order_id": "203",
                                    "order_date": "2016-05-03",
                                    "max_list_price": "999.99"
                                },
                                {
                                    "order_id": "198",
                                    "order_date": "2016-05-01",
                                    "max_list_price": "1799.99"
                                },
                                {
                                    "order_id": "199",
                                    "order_date": "2016-05-01",
                                    "max_list_price": "2899.99"
                                },
                                {
                                    "order_id": "200",
                                    "order_date": "2016-05-01",
                                    "max_list_price": "299.99"
                                },
                                {
                                    "order_id": "201",
                                    "order_date": "2016-05-01",
                                    "max_list_price": "3999.99"
                                },
                                {
                                    "order_id": "197",
                                    "order_date": "2016-04-30",
                                    "max_list_price": "2899.99"
                                },
                                {
                                    "order_id": "193",
                                    "order_date": "2016-04-28",
                                    "max_list_price": "549.99"
                                },
                                {
                                    "order_id": "194",
                                    "order_date": "2016-04-28",
                                    "max_list_price": "269.99"
                                },
                                {
                                    "order_id": "195",
                                    "order_date": "2016-04-28",
                                    "max_list_price": "2899.99"
                                },
                                {
                                    "order_id": "196",
                                    "order_date": "2016-04-28",
                                    "max_list_price": "1549.00"
                                },
                                {
                                    "order_id": "191",
                                    "order_date": "2016-04-27",
                                    "max_list_price": "1799.99"
                                },
                                {
                                    "order_id": "192",
                                    "order_date": "2016-04-27",
                                    "max_list_price": "1799.99"
                                },
                                {
                                    "order_id": "189",
                                    "order_date": "2016-04-23",
                                    "max_list_price": "599.99"
                                },
                                {
                                    "order_id": "190",
                                    "order_date": "2016-04-23",
                                    "max_list_price": "999.99"
                                },
                                {
                                    "order_id": "187",
                                    "order_date": "2016-04-22",
                                    "max_list_price": "1320.99"
                                },
                                {
                                    "order_id": "188",
                                    "order_date": "2016-04-22",
                                    "max_list_price": "3999.99"
                                },
                                {
                                    "order_id": "186",
                                    "order_date": "2016-04-21",
                                    "max_list_price": "2899.99"
                                },
                                {
                                    "order_id": "185",
                                    "order_date": "2016-04-20",
                                    "max_list_price": "1799.99"
                                },
                                {
                                    "order_id": "183",
                                    "order_date": "2016-04-19",
                                    "max_list_price": "1680.99"
                                },
                                {
                                    "order_id": "184",
                                    "order_date": "2016-04-19",
                                    "max_list_price": "2899.99"
                                },
                                {
                                    "order_id": "181",
                                    "order_date": "2016-04-18",
                                    "max_list_price": "1680.99"
                                },
                                {
                                    "order_id": "182",
                                    "order_date": "2016-04-18",
                                    "max_list_price": "549.99"
                                },
                                {
                                    "order_id": "179",
                                    "order_date": "2016-04-17",
                                    "max_list_price": "599.99"
                                },
                                {
                                    "order_id": "180",
                                    "order_date": "2016-04-17",
                                    "max_list_price": "599.99"
                                },
                                {
                                    "order_id": "177",
                                    "order_date": "2016-04-16",
                                    "max_list_price": "599.99"
                                },
                                {
                                    "order_id": "178",
                                    "order_date": "2016-04-16",
                                    "max_list_price": "1549.00"
                                },
                                {
                                    "order_id": "176",
                                    "order_date": "2016-04-15",
                                    "max_list_price": "1680.99"
                                },
                                {
                                    "order_id": "175",
                                    "order_date": "2016-04-13",
                                    "max_list_price": "1320.99"
                                },
                                {
                                    "order_id": "174",
                                    "order_date": "2016-04-12",
                                    "max_list_price": "449.00"
                                },
                                {
                                    "order_id": "171",
                                    "order_date": "2016-04-11",
                                    "max_list_price": "1799.99"
                                },
                                {
                                    "order_id": "172",
                                    "order_date": "2016-04-11",
                                    "max_list_price": "599.99"
                                },
                                {
                                    "order_id": "173",
                                    "order_date": "2016-04-11",
                                    "max_list_price": "599.99"
                                },
                                {
                                    "order_id": "169",
                                    "order_date": "2016-04-10",
                                    "max_list_price": "1680.99"
                                },
                                {
                                    "order_id": "170",
                                    "order_date": "2016-04-10",
                                    "max_list_price": "3999.99"
                                },
                                {
                                    "order_id": "168",
                                    "order_date": "2016-04-09",
                                    "max_list_price": "1680.99"
                                },
                                {
                                    "order_id": "165",
                                    "order_date": "2016-04-08",
                                    "max_list_price": "2899.99"
                                },
                                {
                                    "order_id": "166",
                                    "order_date": "2016-04-08",
                                    "max_list_price": "1680.99"
                                },
                                {
                                    "order_id": "167",
                                    "order_date": "2016-04-08",
                                    "max_list_price": "3999.99"
                                },
                                {
                                    "order_id": "164",
                                    "order_date": "2016-04-07",
                                    "max_list_price": "2899.99"
                                },
                                {
                                    "order_id": "162",
                                    "order_date": "2016-04-06",
                                    "max_list_price": "999.99"
                                },
                                {
                                    "order_id": "163",
                                    "order_date": "2016-04-06",
                                    "max_list_price": "549.99"
                                },
                                {
                                    "order_id": "158",
                                    "order_date": "2016-04-04",
                                    "max_list_price": "549.99"
                                },
                                {
                                    "order_id": "159",
                                    "order_date": "2016-04-04",
                                    "max_list_price": "269.99"
                                },
                                {
                                    "order_id": "160",
                                    "order_date": "2016-04-04",
                                    "max_list_price": "1680.99"
                                },
                                {
                                    "order_id": "161",
                                    "order_date": "2016-04-04",
                                    "max_list_price": "3999.99"
                                },
                                {
                                    "order_id": "156",
                                    "order_date": "2016-04-03",
                                    "max_list_price": "469.99"
                                },
                                {
                                    "order_id": "157",
                                    "order_date": "2016-04-03",
                                    "max_list_price": "3999.99"
                                },
                                {
                                    "order_id": "155",
                                    "order_date": "2016-04-02",
                                    "max_list_price": "1799.99"
                                },
                                {
                                    "order_id": "154",
                                    "order_date": "2016-03-31",
                                    "max_list_price": "549.99"
                                },
                                {
                                    "order_id": "153",
                                    "order_date": "2016-03-30",
                                    "max_list_price": "1799.99"
                                },
                                {
                                    "order_id": "150",
                                    "order_date": "2016-03-29",
                                    "max_list_price": "3999.99"
                                },
                                {
                                    "order_id": "151",
                                    "order_date": "2016-03-29",
                                    "max_list_price": "599.99"
                                },
                                {
                                    "order_id": "152",
                                    "order_date": "2016-03-29",
                                    "max_list_price": "599.99"
                                },
                                {
                                    "order_id": "146",
                                    "order_date": "2016-03-28",
                                    "max_list_price": "999.99"
                                },
                                {
                                    "order_id": "147",
                                    "order_date": "2016-03-28",
                                    "max_list_price": "599.99"
                                },
                                {
                                    "order_id": "148",
                                    "order_date": "2016-03-28",
                                    "max_list_price": "269.99"
                                },
                                {
                                    "order_id": "149",
                                    "order_date": "2016-03-28",
                                    "max_list_price": "549.99"
                                },
                                {
                                    "order_id": "145",
                                    "order_date": "2016-03-27",
                                    "max_list_price": "2999.99"
                                },
                                {
                                    "order_id": "142",
                                    "order_date": "2016-03-26",
                                    "max_list_price": "1680.99"
                                },
                                {
                                    "order_id": "143",
                                    "order_date": "2016-03-26",
                                    "max_list_price": "469.99"
                                },
                                {
                                    "order_id": "144",
                                    "order_date": "2016-03-26",
                                    "max_list_price": "1799.99"
                                },
                                {
                                    "order_id": "141",
                                    "order_date": "2016-03-25",
                                    "max_list_price": "449.00"
                                },
                                {
                                    "order_id": "137",
                                    "order_date": "2016-03-23",
                                    "max_list_price": "299.99"
                                },
                                {
                                    "order_id": "138",
                                    "order_date": "2016-03-23",
                                    "max_list_price": "599.99"
                                },
                                {
                                    "order_id": "139",
                                    "order_date": "2016-03-23",
                                    "max_list_price": "999.99"
                                },
                                {
                                    "order_id": "140",
                                    "order_date": "2016-03-23",
                                    "max_list_price": "999.99"
                                },
                                {
                                    "order_id": "135",
                                    "order_date": "2016-03-21",
                                    "max_list_price": "1320.99"
                                },
                                {
                                    "order_id": "136",
                                    "order_date": "2016-03-21",
                                    "max_list_price": "3999.99"
                                },
                                {
                                    "order_id": "132",
                                    "order_date": "2016-03-20",
                                    "max_list_price": "2999.99"
                                },
                                {
                                    "order_id": "133",
                                    "order_date": "2016-03-20",
                                    "max_list_price": "269.99"
                                },
                                {
                                    "order_id": "134",
                                    "order_date": "2016-03-20",
                                    "max_list_price": "749.99"
                                },
                                {
                                    "order_id": "129",
                                    "order_date": "2016-03-19",
                                    "max_list_price": "2999.99"
                                },
                                {
                                    "order_id": "130",
                                    "order_date": "2016-03-19",
                                    "max_list_price": "1320.99"
                                },
                                {
                                    "order_id": "131",
                                    "order_date": "2016-03-19",
                                    "max_list_price": "2899.99"
                                },
                                {
                                    "order_id": "128",
                                    "order_date": "2016-03-18",
                                    "max_list_price": "2899.99"
                                },
                                {
                                    "order_id": "127",
                                    "order_date": "2016-03-17",
                                    "max_list_price": "2899.99"
                                },
                                {
                                    "order_id": "124",
                                    "order_date": "2016-03-16",
                                    "max_list_price": "3999.99"
                                },
                                {
                                    "order_id": "125",
                                    "order_date": "2016-03-16",
                                    "max_list_price": "429.00"
                                },
                                {
                                    "order_id": "126",
                                    "order_date": "2016-03-16",
                                    "max_list_price": "2999.99"
                                },
                                {
                                    "order_id": "123",
                                    "order_date": "2016-03-15",
                                    "max_list_price": "549.99"
                                },
                                {
                                    "order_id": "120",
                                    "order_date": "2016-03-14",
                                    "max_list_price": "1549.00"
                                },
                                {
                                    "order_id": "121",
                                    "order_date": "2016-03-14",
                                    "max_list_price": "2899.99"
                                },
                                {
                                    "order_id": "122",
                                    "order_date": "2016-03-14",
                                    "max_list_price": "599.99"
                                },
                                {
                                    "order_id": "118",
                                    "order_date": "2016-03-12",
                                    "max_list_price": "2899.99"
                                },
                                {
                                    "order_id": "119",
                                    "order_date": "2016-03-12",
                                    "max_list_price": "499.99"
                                },
                                {
                                    "order_id": "116",
                                    "order_date": "2016-03-10",
                                    "max_list_price": "599.99"
                                },
                                {
                                    "order_id": "117",
                                    "order_date": "2016-03-10",
                                    "max_list_price": "599.99"
                                },
                                {
                                    "order_id": "115",
                                    "order_date": "2016-03-09",
                                    "max_list_price": "449.00"
                                },
                                {
                                    "order_id": "112",
                                    "order_date": "2016-03-08",
                                    "max_list_price": "1320.99"
                                },
                                {
                                    "order_id": "113",
                                    "order_date": "2016-03-08",
                                    "max_list_price": "1320.99"
                                },
                                {
                                    "order_id": "114",
                                    "order_date": "2016-03-08",
                                    "max_list_price": "749.99"
                                },
                                {
                                    "order_id": "111",
                                    "order_date": "2016-03-07",
                                    "max_list_price": "549.99"
                                },
                                {
                                    "order_id": "107",
                                    "order_date": "2016-03-06",
                                    "max_list_price": "449.00"
                                },
                                {
                                    "order_id": "108",
                                    "order_date": "2016-03-06",
                                    "max_list_price": "1680.99"
                                },
                                {
                                    "order_id": "109",
                                    "order_date": "2016-03-06",
                                    "max_list_price": "469.99"
                                },
                                {
                                    "order_id": "110",
                                    "order_date": "2016-03-06",
                                    "max_list_price": "269.99"
                                },
                                {
                                    "order_id": "106",
                                    "order_date": "2016-03-04",
                                    "max_list_price": "429.00"
                                },
                                {
                                    "order_id": "103",
                                    "order_date": "2016-03-03",
                                    "max_list_price": "2999.99"
                                },
                                {
                                    "order_id": "104",
                                    "order_date": "2016-03-03",
                                    "max_list_price": "599.99"
                                },
                                {
                                    "order_id": "105",
                                    "order_date": "2016-03-03",
                                    "max_list_price": "2999.99"
                                },
                                {
                                    "order_id": "102",
                                    "order_date": "2016-03-02",
                                    "max_list_price": "529.99"
                                },
                                {
                                    "order_id": "100",
                                    "order_date": "2016-03-01",
                                    "max_list_price": "3999.99"
                                },
                                {
                                    "order_id": "101",
                                    "order_date": "2016-03-01",
                                    "max_list_price": "549.99"
                                },
                                {
                                    "order_id": "99",
                                    "order_date": "2016-02-29",
                                    "max_list_price": "3999.99"
                                },
                                {
                                    "order_id": "97",
                                    "order_date": "2016-02-28",
                                    "max_list_price": "749.99"
                                },
                                {
                                    "order_id": "98",
                                    "order_date": "2016-02-28",
                                    "max_list_price": "749.99"
                                },
                                {
                                    "order_id": "94",
                                    "order_date": "2016-02-27",
                                    "max_list_price": "2899.99"
                                },
                                {
                                    "order_id": "95",
                                    "order_date": "2016-02-27",
                                    "max_list_price": "1799.99"
                                },
                                {
                                    "order_id": "96",
                                    "order_date": "2016-02-27",
                                    "max_list_price": "599.99"
                                },
                                {
                                    "order_id": "93",
                                    "order_date": "2016-02-26",
                                    "max_list_price": "1549.00"
                                },
                                {
                                    "order_id": "91",
                                    "order_date": "2016-02-25",
                                    "max_list_price": "1680.99"
                                },
                                {
                                    "order_id": "92",
                                    "order_date": "2016-02-25",
                                    "max_list_price": "1799.99"
                                },
                                {
                                    "order_id": "90",
                                    "order_date": "2016-02-23",
                                    "max_list_price": "999.99"
                                },
                                {
                                    "order_id": "86",
                                    "order_date": "2016-02-21",
                                    "max_list_price": "2999.99"
                                },
                                {
                                    "order_id": "87",
                                    "order_date": "2016-02-21",
                                    "max_list_price": "599.99"
                                },
                                {
                                    "order_id": "88",
                                    "order_date": "2016-02-21",
                                    "max_list_price": "3999.99"
                                },
                                {
                                    "order_id": "89",
                                    "order_date": "2016-02-21",
                                    "max_list_price": "1320.99"
                                },
                                {
                                    "order_id": "84",
                                    "order_date": "2016-02-20",
                                    "max_list_price": "529.99"
                                },
                                {
                                    "order_id": "85",
                                    "order_date": "2016-02-20",
                                    "max_list_price": "2899.99"
                                },
                                {
                                    "order_id": "83",
                                    "order_date": "2016-02-19",
                                    "max_list_price": "999.99"
                                },
                                {
                                    "order_id": "82",
                                    "order_date": "2016-02-18",
                                    "max_list_price": "1680.99"
                                },
                                {
                                    "order_id": "79",
                                    "order_date": "2016-02-17",
                                    "max_list_price": "2999.99"
                                },
                                {
                                    "order_id": "80",
                                    "order_date": "2016-02-17",
                                    "max_list_price": "599.99"
                                },
                                {
                                    "order_id": "81",
                                    "order_date": "2016-02-17",
                                    "max_list_price": "1549.00"
                                },
                                {
                                    "order_id": "76",
                                    "order_date": "2016-02-16",
                                    "max_list_price": "1680.99"
                                },
                                {
                                    "order_id": "77",
                                    "order_date": "2016-02-16",
                                    "max_list_price": "599.99"
                                },
                                {
                                    "order_id": "78",
                                    "order_date": "2016-02-16",
                                    "max_list_price": "449.00"
                                },
                                {
                                    "order_id": "75",
                                    "order_date": "2016-02-14",
                                    "max_list_price": "3999.99"
                                },
                                {
                                    "order_id": "74",
                                    "order_date": "2016-02-13",
                                    "max_list_price": "599.99"
                                },
                                {
                                    "order_id": "72",
                                    "order_date": "2016-02-12",
                                    "max_list_price": "549.99"
                                },
                                {
                                    "order_id": "73",
                                    "order_date": "2016-02-12",
                                    "max_list_price": "999.99"
                                },
                                {
                                    "order_id": "70",
                                    "order_date": "2016-02-11",
                                    "max_list_price": "999.99"
                                },
                                {
                                    "order_id": "71",
                                    "order_date": "2016-02-11",
                                    "max_list_price": "599.99"
                                },
                                {
                                    "order_id": "68",
                                    "order_date": "2016-02-10",
                                    "max_list_price": "429.00"
                                },
                                {
                                    "order_id": "69",
                                    "order_date": "2016-02-10",
                                    "max_list_price": "1549.00"
                                },
                                {
                                    "order_id": "66",
                                    "order_date": "2016-02-09",
                                    "max_list_price": "749.99"
                                },
                                {
                                    "order_id": "67",
                                    "order_date": "2016-02-09",
                                    "max_list_price": "1320.99"
                                },
                                {
                                    "order_id": "65",
                                    "order_date": "2016-02-08",
                                    "max_list_price": "549.99"
                                },
                                {
                                    "order_id": "62",
                                    "order_date": "2016-02-07",
                                    "max_list_price": "1799.99"
                                },
                                {
                                    "order_id": "63",
                                    "order_date": "2016-02-07",
                                    "max_list_price": "999.99"
                                },
                                {
                                    "order_id": "64",
                                    "order_date": "2016-02-07",
                                    "max_list_price": "549.99"
                                },
                                {
                                    "order_id": "60",
                                    "order_date": "2016-02-06",
                                    "max_list_price": "2899.99"
                                },
                                {
                                    "order_id": "61",
                                    "order_date": "2016-02-06",
                                    "max_list_price": "1320.99"
                                },
                                {
                                    "order_id": "58",
                                    "order_date": "2016-02-05",
                                    "max_list_price": "449.00"
                                },
                                {
                                    "order_id": "59",
                                    "order_date": "2016-02-05",
                                    "max_list_price": "749.99"
                                },
                                {
                                    "order_id": "54",
                                    "order_date": "2016-02-04",
                                    "max_list_price": "999.99"
                                },
                                {
                                    "order_id": "55",
                                    "order_date": "2016-02-04",
                                    "max_list_price": "529.99"
                                },
                                {
                                    "order_id": "56",
                                    "order_date": "2016-02-04",
                                    "max_list_price": "599.99"
                                },
                                {
                                    "order_id": "57",
                                    "order_date": "2016-02-04",
                                    "max_list_price": "449.00"
                                },
                                {
                                    "order_id": "52",
                                    "order_date": "2016-02-03",
                                    "max_list_price": "499.99"
                                },
                                {
                                    "order_id": "53",
                                    "order_date": "2016-02-03",
                                    "max_list_price": "1799.99"
                                },
                                {
                                    "order_id": "51",
                                    "order_date": "2016-02-01",
                                    "max_list_price": "599.99"
                                },
                                {
                                    "order_id": "49",
                                    "order_date": "2016-01-31",
                                    "max_list_price": "269.99"
                                },
                                {
                                    "order_id": "50",
                                    "order_date": "2016-01-31",
                                    "max_list_price": "999.99"
                                },
                                {
                                    "order_id": "48",
                                    "order_date": "2016-01-30",
                                    "max_list_price": "2899.99"
                                },
                                {
                                    "order_id": "46",
                                    "order_date": "2016-01-29",
                                    "max_list_price": "429.00"
                                },
                                {
                                    "order_id": "47",
                                    "order_date": "2016-01-29",
                                    "max_list_price": "529.99"
                                },
                                {
                                    "order_id": "44",
                                    "order_date": "2016-01-28",
                                    "max_list_price": "3999.99"
                                },
                                {
                                    "order_id": "45",
                                    "order_date": "2016-01-28",
                                    "max_list_price": "2899.99"
                                },
                                {
                                    "order_id": "40",
                                    "order_date": "2016-01-27",
                                    "max_list_price": "1799.99"
                                },
                                {
                                    "order_id": "41",
                                    "order_date": "2016-01-27",
                                    "max_list_price": "1320.99"
                                },
                                {
                                    "order_id": "42",
                                    "order_date": "2016-01-27",
                                    "max_list_price": "449.00"
                                },
                                {
                                    "order_id": "43",
                                    "order_date": "2016-01-27",
                                    "max_list_price": "549.99"
                                },
                                {
                                    "order_id": "37",
                                    "order_date": "2016-01-25",
                                    "max_list_price": "599.99"
                                },
                                {
                                    "order_id": "38",
                                    "order_date": "2016-01-25",
                                    "max_list_price": "3999.99"
                                },
                                {
                                    "order_id": "39",
                                    "order_date": "2016-01-25",
                                    "max_list_price": "999.99"
                                },
                                {
                                    "order_id": "36",
                                    "order_date": "2016-01-23",
                                    "max_list_price": "2999.99"
                                },
                                {
                                    "order_id": "34",
                                    "order_date": "2016-01-22",
                                    "max_list_price": "1799.99"
                                },
                                {
                                    "order_id": "35",
                                    "order_date": "2016-01-22",
                                    "max_list_price": "1320.99"
                                },
                                {
                                    "order_id": "32",
                                    "order_date": "2016-01-21",
                                    "max_list_price": "1799.99"
                                },
                                {
                                    "order_id": "33",
                                    "order_date": "2016-01-21",
                                    "max_list_price": "3999.99"
                                },
                                {
                                    "order_id": "29",
                                    "order_date": "2016-01-20",
                                    "max_list_price": "1799.99"
                                },
                                {
                                    "order_id": "30",
                                    "order_date": "2016-01-20",
                                    "max_list_price": "3999.99"
                                },
                                {
                                    "order_id": "31",
                                    "order_date": "2016-01-20",
                                    "max_list_price": "2999.99"
                                },
                                {
                                    "order_id": "27",
                                    "order_date": "2016-01-19",
                                    "max_list_price": "1799.99"
                                },
                                {
                                    "order_id": "28",
                                    "order_date": "2016-01-19",
                                    "max_list_price": "3999.99"
                                },
                                {
                                    "order_id": "24",
                                    "order_date": "2016-01-18",
                                    "max_list_price": "999.99"
                                },
                                {
                                    "order_id": "25",
                                    "order_date": "2016-01-18",
                                    "max_list_price": "1549.00"
                                },
                                {
                                    "order_id": "26",
                                    "order_date": "2016-01-18",
                                    "max_list_price": "3999.99"
                                },
                                {
                                    "order_id": "22",
                                    "order_date": "2016-01-16",
                                    "max_list_price": "529.99"
                                },
                                {
                                    "order_id": "23",
                                    "order_date": "2016-01-16",
                                    "max_list_price": "2899.99"
                                },
                                {
                                    "order_id": "21",
                                    "order_date": "2016-01-15",
                                    "max_list_price": "1549.00"
                                },
                                {
                                    "order_id": "18",
                                    "order_date": "2016-01-14",
                                    "max_list_price": "3999.99"
                                },
                                {
                                    "order_id": "19",
                                    "order_date": "2016-01-14",
                                    "max_list_price": "2999.99"
                                },
                                {
                                    "order_id": "20",
                                    "order_date": "2016-01-14",
                                    "max_list_price": "2999.99"
                                },
                                {
                                    "order_id": "16",
                                    "order_date": "2016-01-12",
                                    "max_list_price": "1799.99"
                                },
                                {
                                    "order_id": "17",
                                    "order_date": "2016-01-12",
                                    "max_list_price": "1799.99"
                                },
                                {
                                    "order_id": "14",
                                    "order_date": "2016-01-09",
                                    "max_list_price": "469.99"
                                },
                                {
                                    "order_id": "15",
                                    "order_date": "2016-01-09",
                                    "max_list_price": "1799.99"
                                },
                                {
                                    "order_id": "13",
                                    "order_date": "2016-01-08",
                                    "max_list_price": "599.99"
                                },
                                {
                                    "order_id": "12",
                                    "order_date": "2016-01-06",
                                    "max_list_price": "2899.99"
                                },
                                {
                                    "order_id": "9",
                                    "order_date": "2016-01-05",
                                    "max_list_price": "3999.99"
                                },
                                {
                                    "order_id": "10",
                                    "order_date": "2016-01-05",
                                    "max_list_price": "269.99"
                                },
                                {
                                    "order_id": "11",
                                    "order_date": "2016-01-05",
                                    "max_list_price": "1799.99"
                                },
                                {
                                    "order_id": "6",
                                    "order_date": "2016-01-04",
                                    "max_list_price": "2999.99"
                                },
                                {
                                    "order_id": "7",
                                    "order_date": "2016-01-04",
                                    "max_list_price": "999.99"
                                },
                                {
                                    "order_id": "8",
                                    "order_date": "2016-01-04",
                                    "max_list_price": "599.99"
                                },
                                {
                                    "order_id": "4",
                                    "order_date": "2016-01-03",
                                    "max_list_price": "749.99"
                                },
                                {
                                    "order_id": "5",
                                    "order_date": "2016-01-03",
                                    "max_list_price": "1549.00"
                                },
                                {
                                    "order_id": "3",
                                    "order_date": "2016-01-02",
                                    "max_list_price": "999.99"
                                },
                                {
                                    "order_id": "1",
                                    "order_date": "2016-01-01",
                                    "max_list_price": "2899.99"
                                },
                                {
                                    "order_id": "2",
                                    "order_date": "2016-01-01",
                                    "max_list_price": "599.99"
                                }
                            ]
                        },
                        "text/html": "<table><tr><th>order_id</th><th>order_date</th><th>max_list_price</th></tr><tr><td>1615</td><td>2018-12-28</td><td>2499.99</td></tr><tr><td>1614</td><td>2018-11-28</td><td>2299.99</td></tr><tr><td>1613</td><td>2018-11-18</td><td>4999.99</td></tr><tr><td>1612</td><td>2018-10-21</td><td>1559.99</td></tr><tr><td>1611</td><td>2018-09-06</td><td>3199.99</td></tr><tr><td>1610</td><td>2018-08-25</td><td>3199.99</td></tr><tr><td>1609</td><td>2018-08-23</td><td>749.99</td></tr><tr><td>1608</td><td>2018-07-12</td><td>529.99</td></tr><tr><td>1607</td><td>2018-07-11</td><td>999.99</td></tr><tr><td>1606</td><td>2018-07-10</td><td>659.99</td></tr><tr><td>1605</td><td>2018-07-01</td><td>4499.99</td></tr><tr><td>1604</td><td>2018-06-17</td><td>209.99</td></tr><tr><td>1602</td><td>2018-04-30</td><td>899.99</td></tr><tr><td>1603</td><td>2018-04-30</td><td>229.99</td></tr><tr><td>1598</td><td>2018-04-29</td><td>3499.99</td></tr><tr><td>1599</td><td>2018-04-29</td><td>481.99</td></tr><tr><td>1600</td><td>2018-04-29</td><td>4999.99</td></tr><tr><td>1601</td><td>2018-04-29</td><td>3999.99</td></tr><tr><td>1594</td><td>2018-04-28</td><td>533.99</td></tr><tr><td>1595</td><td>2018-04-28</td><td>379.99</td></tr><tr><td>1596</td><td>2018-04-28</td><td>449.00</td></tr><tr><td>1597</td><td>2018-04-28</td><td>3199.99</td></tr><tr><td>1589</td><td>2018-04-27</td><td>2499.99</td></tr><tr><td>1590</td><td>2018-04-27</td><td>3199.99</td></tr><tr><td>1591</td><td>2018-04-27</td><td>2249.99</td></tr><tr><td>1592</td><td>2018-04-27</td><td>4999.99</td></tr><tr><td>1593</td><td>2018-04-27</td><td>6499.99</td></tr><tr><td>1584</td><td>2018-04-26</td><td>5299.99</td></tr><tr><td>1585</td><td>2018-04-26</td><td>3999.99</td></tr><tr><td>1586</td><td>2018-04-26</td><td>3199.99</td></tr><tr><td>1587</td><td>2018-04-26</td><td>3499.99</td></tr><tr><td>1588</td><td>2018-04-26</td><td>209.99</td></tr><tr><td>1581</td><td>2018-04-25</td><td>489.99</td></tr><tr><td>1582</td><td>2018-04-25</td><td>1499.99</td></tr><tr><td>1583</td><td>2018-04-25</td><td>529.99</td></tr><tr><td>1579</td><td>2018-04-24</td><td>3499.99</td></tr><tr><td>1580</td><td>2018-04-24</td><td>469.99</td></tr><tr><td>1573</td><td>2018-04-23</td><td>2999.99</td></tr><tr><td>1574</td><td>2018-04-23</td><td>469.99</td></tr><tr><td>1575</td><td>2018-04-23</td><td>3999.99</td></tr><tr><td>1576</td><td>2018-04-23</td><td>3499.99</td></tr><tr><td>1577</td><td>2018-04-23</td><td>2599.00</td></tr><tr><td>1578</td><td>2018-04-23</td><td>3599.99</td></tr><tr><td>1569</td><td>2018-04-22</td><td>2999.99</td></tr><tr><td>1570</td><td>2018-04-22</td><td>11999.99</td></tr><tr><td>1571</td><td>2018-04-22</td><td>699.99</td></tr><tr><td>1572</td><td>2018-04-22</td><td>3199.99</td></tr><tr><td>1564</td><td>2018-04-21</td><td>899.99</td></tr><tr><td>1565</td><td>2018-04-21</td><td>899.99</td></tr><tr><td>1566</td><td>2018-04-21</td><td>4999.99</td></tr><tr><td>1567</td><td>2018-04-21</td><td>319.99</td></tr><tr><td>1568</td><td>2018-04-21</td><td>4999.99</td></tr><tr><td>1559</td><td>2018-04-20</td><td>3199.99</td></tr><tr><td>1560</td><td>2018-04-20</td><td>1469.99</td></tr><tr><td>1561</td><td>2018-04-20</td><td>2199.99</td></tr><tr><td>1562</td><td>2018-04-20</td><td>3199.99</td></tr><tr><td>1563</td><td>2018-04-20</td><td>3499.99</td></tr><tr><td>1557</td><td>2018-04-19</td><td>1349.00</td></tr><tr><td>1558</td><td>2018-04-19</td><td>2899.99</td></tr><tr><td>1553</td><td>2018-04-18</td><td>2999.99</td></tr><tr><td>1554</td><td>2018-04-18</td><td>749.99</td></tr><tr><td>1555</td><td>2018-04-18</td><td>6499.99</td></tr><tr><td>1556</td><td>2018-04-18</td><td>3499.99</td></tr><tr><td>1544</td><td>2018-04-17</td><td>3499.99</td></tr><tr><td>1545</td><td>2018-04-17</td><td>869.99</td></tr><tr><td>1546</td><td>2018-04-17</td><td>6499.99</td></tr><tr><td>1547</td><td>2018-04-17</td><td>3599.99</td></tr><tr><td>1548</td><td>2018-04-17</td><td>3499.99</td></tr><tr><td>1549</td><td>2018-04-17</td><td>959.99</td></tr><tr><td>1550</td><td>2018-04-17</td><td>5499.99</td></tr><tr><td>1551</td><td>2018-04-17</td><td>3999.99</td></tr><tr><td>1552</td><td>2018-04-17</td><td>2299.99</td></tr><tr><td>1540</td><td>2018-04-16</td><td>5499.99</td></tr><tr><td>1541</td><td>2018-04-16</td><td>11999.99</td></tr><tr><td>1542</td><td>2018-04-16</td><td>3499.99</td></tr><tr><td>1543</td><td>2018-04-16</td><td>1799.99</td></tr><tr><td>1537</td><td>2018-04-15</td><td>849.99</td></tr><tr><td>1538</td><td>2018-04-15</td><td>3299.99</td></tr><tr><td>1539</td><td>2018-04-15</td><td>549.99</td></tr><tr><td>1534</td><td>2018-04-14</td><td>3499.99</td></tr><tr><td>1535</td><td>2018-04-14</td><td>599.99</td></tr><tr><td>1536</td><td>2018-04-14</td><td>2799.99</td></tr><tr><td>1530</td><td>2018-04-13</td><td>749.99</td></tr><tr><td>1531</td><td>2018-04-13</td><td>1899.00</td></tr><tr><td>1532</td><td>2018-04-13</td><td>2999.99</td></tr><tr><td>1533</td><td>2018-04-13</td><td>6499.99</td></tr><tr><td>1521</td><td>2018-04-12</td><td>1499.99</td></tr><tr><td>1522</td><td>2018-04-12</td><td>1599.99</td></tr><tr><td>1523</td><td>2018-04-12</td><td>749.99</td></tr><tr><td>1524</td><td>2018-04-12</td><td>2999.99</td></tr><tr><td>1525</td><td>2018-04-12</td><td>6499.99</td></tr><tr><td>1526</td><td>2018-04-12</td><td>5499.99</td></tr><tr><td>1527</td><td>2018-04-12</td><td>1999.99</td></tr><tr><td>1528</td><td>2018-04-12</td><td>429.99</td></tr><tr><td>1529</td><td>2018-04-12</td><td>5999.99</td></tr><tr><td>1516</td><td>2018-04-11</td><td>3199.99</td></tr><tr><td>1517</td><td>2018-04-11</td><td>2599.99</td></tr><tr><td>1518</td><td>2018-04-11</td><td>2999.99</td></tr><tr><td>1519</td><td>2018-04-11</td><td>4499.99</td></tr><tr><td>1520</td><td>2018-04-11</td><td>4499.99</td></tr><tr><td>1513</td><td>2018-04-10</td><td>4999.99</td></tr><tr><td>1514</td><td>2018-04-10</td><td>4999.99</td></tr><tr><td>1515</td><td>2018-04-10</td><td>4999.99</td></tr><tr><td>1509</td><td>2018-04-09</td><td>749.99</td></tr><tr><td>1510</td><td>2018-04-09</td><td>3199.99</td></tr><tr><td>1511</td><td>2018-04-09</td><td>1549.99</td></tr><tr><td>1512</td><td>2018-04-09</td><td>909.99</td></tr><tr><td>1504</td><td>2018-04-08</td><td>319.99</td></tr><tr><td>1505</td><td>2018-04-08</td><td>5299.99</td></tr><tr><td>1506</td><td>2018-04-08</td><td>7499.99</td></tr><tr><td>1507</td><td>2018-04-08</td><td>1680.99</td></tr><tr><td>1508</td><td>2018-04-08</td><td>875.99</td></tr><tr><td>1503</td><td>2018-04-07</td><td>909.99</td></tr><tr><td>1496</td><td>2018-04-06</td><td>959.99</td></tr><tr><td>1497</td><td>2018-04-06</td><td>3599.99</td></tr><tr><td>1498</td><td>2018-04-06</td><td>3199.99</td></tr><tr><td>1499</td><td>2018-04-06</td><td>3199.99</td></tr><tr><td>1500</td><td>2018-04-06</td><td>1469.99</td></tr><tr><td>1501</td><td>2018-04-06</td><td>1549.00</td></tr><tr><td>1502</td><td>2018-04-06</td><td>899.99</td></tr><tr><td>1494</td><td>2018-04-05</td><td>749.99</td></tr><tr><td>1495</td><td>2018-04-05</td><td>2599.00</td></tr><tr><td>1491</td><td>2018-04-04</td><td>2999.99</td></tr><tr><td>1492</td><td>2018-04-04</td><td>379.99</td></tr><tr><td>1493</td><td>2018-04-04</td><td>429.99</td></tr><tr><td>1487</td><td>2018-04-03</td><td>4499.99</td></tr><tr><td>1488</td><td>2018-04-03</td><td>2499.99</td></tr><tr><td>1489</td><td>2018-04-03</td><td>2999.99</td></tr><tr><td>1490</td><td>2018-04-03</td><td>749.99</td></tr><tr><td>1483</td><td>2018-04-02</td><td>679.99</td></tr><tr><td>1484</td><td>2018-04-02</td><td>3499.99</td></tr><tr><td>1485</td><td>2018-04-02</td><td>2499.99</td></tr><tr><td>1486</td><td>2018-04-02</td><td>1559.99</td></tr><tr><td>1479</td><td>2018-04-01</td><td>2999.99</td></tr><tr><td>1480</td><td>2018-04-01</td><td>959.99</td></tr><tr><td>1481</td><td>2018-04-01</td><td>919.99</td></tr><tr><td>1482</td><td>2018-04-01</td><td>4999.99</td></tr><tr><td>1476</td><td>2018-03-31</td><td>5299.99</td></tr><tr><td>1477</td><td>2018-03-31</td><td>1549.00</td></tr><tr><td>1478</td><td>2018-03-31</td><td>999.99</td></tr><tr><td>1473</td><td>2018-03-30</td><td>489.99</td></tr><tr><td>1474</td><td>2018-03-30</td><td>999.99</td></tr><tr><td>1475</td><td>2018-03-30</td><td>1899.00</td></tr><tr><td>1472</td><td>2018-03-29</td><td>799.99</td></tr><tr><td>1470</td><td>2018-03-28</td><td>2999.99</td></tr><tr><td>1471</td><td>2018-03-28</td><td>2599.99</td></tr><tr><td>1468</td><td>2018-03-27</td><td>5999.99</td></tr><tr><td>1469</td><td>2018-03-27</td><td>2499.99</td></tr><tr><td>1466</td><td>2018-03-26</td><td>2999.99</td></tr><tr><td>1467</td><td>2018-03-26</td><td>3199.99</td></tr><tr><td>1465</td><td>2018-03-25</td><td>659.99</td></tr><tr><td>1464</td><td>2018-03-24</td><td>2499.99</td></tr><tr><td>1463</td><td>2018-03-23</td><td>6499.99</td></tr><tr><td>1461</td><td>2018-03-22</td><td>1499.99</td></tr><tr><td>1462</td><td>2018-03-22</td><td>2999.99</td></tr><tr><td>1459</td><td>2018-03-21</td><td>1259.90</td></tr><tr><td>1460</td><td>2018-03-21</td><td>4499.99</td></tr><tr><td>1452</td><td>2018-03-20</td><td>899.99</td></tr><tr><td>1453</td><td>2018-03-20</td><td>209.99</td></tr><tr><td>1454</td><td>2018-03-20</td><td>1499.00</td></tr><tr><td>1455</td><td>2018-03-20</td><td>749.99</td></tr><tr><td>1456</td><td>2018-03-20</td><td>2799.99</td></tr><tr><td>1457</td><td>2018-03-20</td><td>2499.99</td></tr><tr><td>1458</td><td>2018-03-20</td><td>647.99</td></tr><tr><td>1450</td><td>2018-03-19</td><td>3199.99</td></tr><tr><td>1451</td><td>2018-03-19</td><td>1469.99</td></tr><tr><td>1447</td><td>2018-03-18</td><td>5499.99</td></tr><tr><td>1448</td><td>2018-03-18</td><td>749.99</td></tr><tr><td>1449</td><td>2018-03-18</td><td>2999.99</td></tr><tr><td>1445</td><td>2018-03-17</td><td>999.99</td></tr><tr><td>1446</td><td>2018-03-17</td><td>899.99</td></tr><tr><td>1442</td><td>2018-03-16</td><td>4499.99</td></tr><tr><td>1443</td><td>2018-03-16</td><td>4499.99</td></tr><tr><td>1444</td><td>2018-03-16</td><td>1899.00</td></tr><tr><td>1437</td><td>2018-03-15</td><td>1599.99</td></tr><tr><td>1438</td><td>2018-03-15</td><td>4999.99</td></tr><tr><td>1439</td><td>2018-03-15</td><td>7499.99</td></tr><tr><td>1440</td><td>2018-03-15</td><td>4499.99</td></tr><tr><td>1441</td><td>2018-03-15</td><td>1409.99</td></tr><tr><td>1434</td><td>2018-03-14</td><td>4999.99</td></tr><tr><td>1435</td><td>2018-03-14</td><td>1599.99</td></tr><tr><td>1436</td><td>2018-03-14</td><td>559.99</td></tr><tr><td>1431</td><td>2018-03-11</td><td>3999.99</td></tr><tr><td>1432</td><td>2018-03-11</td><td>1899.00</td></tr><tr><td>1433</td><td>2018-03-11</td><td>249.99</td></tr><tr><td>1430</td><td>2018-03-10</td><td>319.99</td></tr><tr><td>1428</td><td>2018-03-08</td><td>3499.99</td></tr><tr><td>1429</td><td>2018-03-08</td><td>659.99</td></tr><tr><td>1424</td><td>2018-03-07</td><td>4999.99</td></tr><tr><td>1425</td><td>2018-03-07</td><td>3199.99</td></tr><tr><td>1426</td><td>2018-03-07</td><td>749.99</td></tr><tr><td>1427</td><td>2018-03-07</td><td>2999.99</td></tr><tr><td>1423</td><td>2018-03-06</td><td>749.99</td></tr><tr><td>1421</td><td>2018-03-05</td><td>279.99</td></tr><tr><td>1422</td><td>2018-03-05</td><td>919.99</td></tr><tr><td>1417</td><td>2018-03-04</td><td>639.99</td></tr><tr><td>1418</td><td>2018-03-04</td><td>2499.99</td></tr><tr><td>1419</td><td>2018-03-04</td><td>1499.00</td></tr><tr><td>1420</td><td>2018-03-04</td><td>3499.99</td></tr><tr><td>1414</td><td>2018-03-03</td><td>2999.99</td></tr><tr><td>1415</td><td>2018-03-03</td><td>1632.99</td></tr><tr><td>1416</td><td>2018-03-03</td><td>3499.99</td></tr><tr><td>1411</td><td>2018-03-01</td><td>2999.99</td></tr><tr><td>1412</td><td>2018-03-01</td><td>5299.99</td></tr><tr><td>1413</td><td>2018-03-01</td><td>279.99</td></tr><tr><td>1410</td><td>2018-02-27</td><td>4999.99</td></tr><tr><td>1407</td><td>2018-02-26</td><td>832.99</td></tr><tr><td>1408</td><td>2018-02-26</td><td>2599.00</td></tr><tr><td>1409</td><td>2018-02-26</td><td>3199.99</td></tr><tr><td>1405</td><td>2018-02-25</td><td>2999.99</td></tr><tr><td>1406</td><td>2018-02-25</td><td>489.99</td></tr><tr><td>1404</td><td>2018-02-23</td><td>2799.99</td></tr><tr><td>1403</td><td>2018-02-21</td><td>209.99</td></tr><tr><td>1402</td><td>2018-02-19</td><td>4999.99</td></tr><tr><td>1401</td><td>2018-02-18</td><td>749.99</td></tr><tr><td>1400</td><td>2018-02-17</td><td>909.99</td></tr><tr><td>1398</td><td>2018-02-16</td><td>749.99</td></tr><tr><td>1399</td><td>2018-02-16</td><td>2499.99</td></tr><tr><td>1395</td><td>2018-02-15</td><td>3599.99</td></tr><tr><td>1396</td><td>2018-02-15</td><td>2199.99</td></tr><tr><td>1397</td><td>2018-02-15</td><td>3999.99</td></tr><tr><td>1393</td><td>2018-02-14</td><td>5299.99</td></tr><tr><td>1394</td><td>2018-02-14</td><td>2499.99</td></tr><tr><td>1391</td><td>2018-02-13</td><td>529.99</td></tr><tr><td>1392</td><td>2018-02-13</td><td>899.99</td></tr><tr><td>1390</td><td>2018-02-12</td><td>1799.99</td></tr><tr><td>1389</td><td>2018-02-11</td><td>3199.99</td></tr><tr><td>1386</td><td>2018-02-09</td><td>4499.99</td></tr><tr><td>1387</td><td>2018-02-09</td><td>449.99</td></tr><tr><td>1388</td><td>2018-02-09</td><td>2999.99</td></tr><tr><td>1384</td><td>2018-02-08</td><td>3199.99</td></tr><tr><td>1385</td><td>2018-02-08</td><td>1799.99</td></tr><tr><td>1383</td><td>2018-02-07</td><td>3499.99</td></tr><tr><td>1382</td><td>2018-02-06</td><td>1499.99</td></tr><tr><td>1380</td><td>2018-02-05</td><td>899.99</td></tr><tr><td>1381</td><td>2018-02-05</td><td>899.99</td></tr><tr><td>1378</td><td>2018-02-02</td><td>3199.99</td></tr><tr><td>1379</td><td>2018-02-02</td><td>999.99</td></tr><tr><td>1376</td><td>2018-02-01</td><td>1320.99</td></tr><tr><td>1377</td><td>2018-02-01</td><td>4999.99</td></tr><tr><td>1374</td><td>2018-01-30</td><td>2199.99</td></tr><tr><td>1375</td><td>2018-01-30</td><td>2499.99</td></tr><tr><td>1371</td><td>2018-01-29</td><td>1799.99</td></tr><tr><td>1372</td><td>2018-01-29</td><td>749.99</td></tr><tr><td>1373</td><td>2018-01-29</td><td>3499.99</td></tr><tr><td>1369</td><td>2018-01-28</td><td>269.99</td></tr><tr><td>1370</td><td>2018-01-28</td><td>3999.99</td></tr><tr><td>1367</td><td>2018-01-27</td><td>2599.00</td></tr><tr><td>1368</td><td>2018-01-27</td><td>4499.99</td></tr><tr><td>1366</td><td>2018-01-26</td><td>3499.99</td></tr><tr><td>1364</td><td>2018-01-25</td><td>11999.99</td></tr><tr><td>1365</td><td>2018-01-25</td><td>4999.99</td></tr><tr><td>1363</td><td>2018-01-24</td><td>250.99</td></tr><tr><td>1362</td><td>2018-01-23</td><td>3599.99</td></tr><tr><td>1360</td><td>2018-01-22</td><td>1632.99</td></tr><tr><td>1361</td><td>2018-01-22</td><td>4999.99</td></tr><tr><td>1358</td><td>2018-01-21</td><td>899.99</td></tr><tr><td>1359</td><td>2018-01-21</td><td>659.99</td></tr><tr><td>1357</td><td>2018-01-20</td><td>1799.99</td></tr><tr><td>1354</td><td>2018-01-19</td><td>749.99</td></tr><tr><td>1355</td><td>2018-01-19</td><td>7499.99</td></tr><tr><td>1356</td><td>2018-01-19</td><td>2999.99</td></tr><tr><td>1353</td><td>2018-01-17</td><td>799.99</td></tr><tr><td>1351</td><td>2018-01-16</td><td>1499.99</td></tr><tr><td>1352</td><td>2018-01-16</td><td>1799.99</td></tr><tr><td>1347</td><td>2018-01-15</td><td>5299.99</td></tr><tr><td>1348</td><td>2018-01-15</td><td>5499.99</td></tr><tr><td>1349</td><td>2018-01-15</td><td>4999.99</td></tr><tr><td>1350</td><td>2018-01-15</td><td>2599.99</td></tr><tr><td>1345</td><td>2018-01-14</td><td>4999.99</td></tr><tr><td>1346</td><td>2018-01-14</td><td>4499.99</td></tr><tr><td>1343</td><td>2018-01-13</td><td>3499.99</td></tr><tr><td>1344</td><td>2018-01-13</td><td>4999.99</td></tr><tr><td>1340</td><td>2018-01-12</td><td>2599.99</td></tr><tr><td>1341</td><td>2018-01-12</td><td>5499.99</td></tr><tr><td>1342</td><td>2018-01-12</td><td>1559.99</td></tr><tr><td>1339</td><td>2018-01-11</td><td>3199.99</td></tr><tr><td>1338</td><td>2018-01-10</td><td>6499.99</td></tr><tr><td>1336</td><td>2018-01-09</td><td>6499.99</td></tr><tr><td>1337</td><td>2018-01-09</td><td>4999.99</td></tr><tr><td>1334</td><td>2018-01-07</td><td>4999.99</td></tr><tr><td>1335</td><td>2018-01-07</td><td>2249.99</td></tr><tr><td>1332</td><td>2018-01-06</td><td>919.99</td></tr><tr><td>1333</td><td>2018-01-06</td><td>4999.99</td></tr><tr><td>1331</td><td>2018-01-05</td><td>2599.99</td></tr><tr><td>1329</td><td>2018-01-04</td><td>2699.99</td></tr><tr><td>1330</td><td>2018-01-04</td><td>679.99</td></tr><tr><td>1327</td><td>2018-01-02</td><td>1549.99</td></tr><tr><td>1328</td><td>2018-01-02</td><td>919.99</td></tr><tr><td>1324</td><td>2018-01-01</td><td>2499.99</td></tr><tr><td>1325</td><td>2018-01-01</td><td>2999.99</td></tr><tr><td>1326</td><td>2018-01-01</td><td>2799.99</td></tr><tr><td>1322</td><td>2017-12-31</td><td>2499.99</td></tr><tr><td>1323</td><td>2017-12-31</td><td>999.99</td></tr><tr><td>1321</td><td>2017-12-30</td><td>1680.99</td></tr><tr><td>1320</td><td>2017-12-28</td><td>481.99</td></tr><tr><td>1317</td><td>2017-12-27</td><td>659.99</td></tr><tr><td>1318</td><td>2017-12-27</td><td>3499.99</td></tr><tr><td>1319</td><td>2017-12-27</td><td>599.99</td></tr><tr><td>1316</td><td>2017-12-26</td><td>299.99</td></tr><tr><td>1312</td><td>2017-12-25</td><td>599.99</td></tr><tr><td>1313</td><td>2017-12-25</td><td>599.99</td></tr><tr><td>1314</td><td>2017-12-25</td><td>875.99</td></tr><tr><td>1315</td><td>2017-12-25</td><td>1469.99</td></tr><tr><td>1310</td><td>2017-12-24</td><td>3199.99</td></tr><tr><td>1311</td><td>2017-12-24</td><td>2299.99</td></tr><tr><td>1307</td><td>2017-12-22</td><td>749.99</td></tr><tr><td>1308</td><td>2017-12-22</td><td>5499.99</td></tr><tr><td>1309</td><td>2017-12-22</td><td>346.99</td></tr><tr><td>1306</td><td>2017-12-20</td><td>2999.99</td></tr><tr><td>1305</td><td>2017-12-17</td><td>2999.99</td></tr><tr><td>1301</td><td>2017-12-16</td><td>1799.99</td></tr><tr><td>1302</td><td>2017-12-16</td><td>5499.99</td></tr><tr><td>1303</td><td>2017-12-16</td><td>3499.99</td></tr><tr><td>1304</td><td>2017-12-16</td><td>761.99</td></tr><tr><td>1299</td><td>2017-12-15</td><td>875.99</td></tr><tr><td>1300</td><td>2017-12-15</td><td>4999.99</td></tr><tr><td>1296</td><td>2017-12-14</td><td>749.99</td></tr><tr><td>1297</td><td>2017-12-14</td><td>6499.99</td></tr><tr><td>1298</td><td>2017-12-14</td><td>2599.99</td></tr><tr><td>1294</td><td>2017-12-11</td><td>539.99</td></tr><tr><td>1295</td><td>2017-12-11</td><td>4999.99</td></tr><tr><td>1292</td><td>2017-12-10</td><td>659.99</td></tr><tr><td>1293</td><td>2017-12-10</td><td>549.99</td></tr><tr><td>1291</td><td>2017-12-09</td><td>4999.99</td></tr><tr><td>1289</td><td>2017-12-08</td><td>999.99</td></tr><tr><td>1290</td><td>2017-12-08</td><td>832.99</td></tr><tr><td>1287</td><td>2017-12-07</td><td>3499.99</td></tr><tr><td>1288</td><td>2017-12-07</td><td>3499.99</td></tr><tr><td>1283</td><td>2017-12-04</td><td>4999.99</td></tr><tr><td>1284</td><td>2017-12-04</td><td>2899.99</td></tr><tr><td>1285</td><td>2017-12-04</td><td>647.99</td></tr><tr><td>1286</td><td>2017-12-04</td><td>1099.99</td></tr><tr><td>1282</td><td>2017-12-03</td><td>5999.99</td></tr><tr><td>1281</td><td>2017-12-02</td><td>3499.99</td></tr><tr><td>1277</td><td>2017-12-01</td><td>5499.99</td></tr><tr><td>1278</td><td>2017-12-01</td><td>551.99</td></tr><tr><td>1279</td><td>2017-12-01</td><td>2999.99</td></tr><tr><td>1280</td><td>2017-12-01</td><td>3499.99</td></tr><tr><td>1276</td><td>2017-11-30</td><td>4999.99</td></tr><tr><td>1275</td><td>2017-11-29</td><td>4999.99</td></tr><tr><td>1274</td><td>2017-11-28</td><td>1099.99</td></tr><tr><td>1271</td><td>2017-11-27</td><td>5999.99</td></tr><tr><td>1272</td><td>2017-11-27</td><td>599.99</td></tr><tr><td>1273</td><td>2017-11-27</td><td>4999.99</td></tr><tr><td>1268</td><td>2017-11-26</td><td>2599.99</td></tr><tr><td>1269</td><td>2017-11-26</td><td>3999.99</td></tr><tr><td>1270</td><td>2017-11-26</td><td>3199.99</td></tr><tr><td>1266</td><td>2017-11-25</td><td>1499.99</td></tr><tr><td>1267</td><td>2017-11-25</td><td>999.99</td></tr><tr><td>1264</td><td>2017-11-24</td><td>999.99</td></tr><tr><td>1265</td><td>2017-11-24</td><td>1469.99</td></tr><tr><td>1261</td><td>2017-11-23</td><td>2299.99</td></tr><tr><td>1262</td><td>2017-11-23</td><td>5299.99</td></tr><tr><td>1263</td><td>2017-11-23</td><td>3499.99</td></tr><tr><td>1260</td><td>2017-11-22</td><td>1799.99</td></tr><tr><td>1259</td><td>2017-11-21</td><td>1559.99</td></tr><tr><td>1258</td><td>2017-11-20</td><td>299.99</td></tr><tr><td>1255</td><td>2017-11-19</td><td>5299.99</td></tr><tr><td>1256</td><td>2017-11-19</td><td>539.99</td></tr><tr><td>1257</td><td>2017-11-19</td><td>4999.99</td></tr><tr><td>1252</td><td>2017-11-18</td><td>1999.99</td></tr><tr><td>1253</td><td>2017-11-18</td><td>499.99</td></tr><tr><td>1254</td><td>2017-11-18</td><td>761.99</td></tr><tr><td>1249</td><td>2017-11-17</td><td>4999.99</td></tr><tr><td>1250</td><td>2017-11-17</td><td>647.99</td></tr><tr><td>1251</td><td>2017-11-17</td><td>5499.99</td></tr><tr><td>1247</td><td>2017-11-16</td><td>2499.99</td></tr><tr><td>1248</td><td>2017-11-16</td><td>549.99</td></tr><tr><td>1245</td><td>2017-11-13</td><td>269.99</td></tr><tr><td>1246</td><td>2017-11-13</td><td>1409.99</td></tr><tr><td>1244</td><td>2017-11-12</td><td>869.99</td></tr><tr><td>1242</td><td>2017-11-11</td><td>1549.00</td></tr><tr><td>1243</td><td>2017-11-11</td><td>539.99</td></tr><tr><td>1240</td><td>2017-11-10</td><td>1999.99</td></tr><tr><td>1241</td><td>2017-11-10</td><td>439.99</td></tr><tr><td>1237</td><td>2017-11-09</td><td>2699.99</td></tr><tr><td>1238</td><td>2017-11-09</td><td>4999.99</td></tr><tr><td>1239</td><td>2017-11-09</td><td>832.99</td></tr><tr><td>1236</td><td>2017-11-08</td><td>1559.99</td></tr><tr><td>1234</td><td>2017-11-07</td><td>5499.99</td></tr><tr><td>1235</td><td>2017-11-07</td><td>3999.99</td></tr><tr><td>1232</td><td>2017-11-06</td><td>2899.99</td></tr><tr><td>1233</td><td>2017-11-06</td><td>4999.99</td></tr><tr><td>1229</td><td>2017-11-05</td><td>4999.99</td></tr><tr><td>1230</td><td>2017-11-05</td><td>549.99</td></tr><tr><td>1231</td><td>2017-11-05</td><td>659.99</td></tr><tr><td>1225</td><td>2017-11-04</td><td>2599.99</td></tr><tr><td>1226</td><td>2017-11-04</td><td>6499.99</td></tr><tr><td>1227</td><td>2017-11-04</td><td>2299.99</td></tr><tr><td>1228</td><td>2017-11-04</td><td>2699.99</td></tr><tr><td>1224</td><td>2017-11-03</td><td>6499.99</td></tr><tr><td>1223</td><td>2017-11-02</td><td>551.99</td></tr><tr><td>1222</td><td>2017-11-01</td><td>349.99</td></tr><tr><td>1220</td><td>2017-10-31</td><td>5299.99</td></tr><tr><td>1221</td><td>2017-10-31</td><td>2299.99</td></tr><tr><td>1218</td><td>2017-10-30</td><td>489.99</td></tr><tr><td>1219</td><td>2017-10-30</td><td>4999.99</td></tr><tr><td>1214</td><td>2017-10-28</td><td>3999.99</td></tr><tr><td>1215</td><td>2017-10-28</td><td>1549.00</td></tr><tr><td>1216</td><td>2017-10-28</td><td>5299.99</td></tr><tr><td>1217</td><td>2017-10-28</td><td>749.99</td></tr><tr><td>1211</td><td>2017-10-27</td><td>2599.99</td></tr><tr><td>1212</td><td>2017-10-27</td><td>1499.99</td></tr><tr><td>1213</td><td>2017-10-27</td><td>647.99</td></tr><tr><td>1205</td><td>2017-10-26</td><td>1409.99</td></tr><tr><td>1206</td><td>2017-10-26</td><td>999.99</td></tr><tr><td>1207</td><td>2017-10-26</td><td>551.99</td></tr><tr><td>1208</td><td>2017-10-26</td><td>549.99</td></tr><tr><td>1209</td><td>2017-10-26</td><td>349.99</td></tr><tr><td>1210</td><td>2017-10-26</td><td>832.99</td></tr><tr><td>1203</td><td>2017-10-25</td><td>2699.99</td></tr><tr><td>1204</td><td>2017-10-25</td><td>379.99</td></tr><tr><td>1202</td><td>2017-10-24</td><td>109.99</td></tr><tr><td>1199</td><td>2017-10-23</td><td>469.99</td></tr><tr><td>1200</td><td>2017-10-23</td><td>2299.99</td></tr><tr><td>1201</td><td>2017-10-23</td><td>599.99</td></tr><tr><td>1198</td><td>2017-10-22</td><td>533.99</td></tr><tr><td>1197</td><td>2017-10-21</td><td>2999.99</td></tr><tr><td>1194</td><td>2017-10-19</td><td>3999.99</td></tr><tr><td>1195</td><td>2017-10-19</td><td>875.99</td></tr><tr><td>1196</td><td>2017-10-19</td><td>749.99</td></tr><tr><td>1191</td><td>2017-10-17</td><td>4999.99</td></tr><tr><td>1192</td><td>2017-10-17</td><td>549.99</td></tr><tr><td>1193</td><td>2017-10-17</td><td>999.99</td></tr><tr><td>1190</td><td>2017-10-16</td><td>416.99</td></tr><tr><td>1187</td><td>2017-10-15</td><td>2899.99</td></tr><tr><td>1188</td><td>2017-10-15</td><td>349.99</td></tr><tr><td>1189</td><td>2017-10-15</td><td>4999.99</td></tr><tr><td>1183</td><td>2017-10-14</td><td>3499.99</td></tr><tr><td>1184</td><td>2017-10-14</td><td>599.99</td></tr><tr><td>1185</td><td>2017-10-14</td><td>3499.99</td></tr><tr><td>1186</td><td>2017-10-14</td><td>3499.99</td></tr><tr><td>1180</td><td>2017-10-13</td><td>250.99</td></tr><tr><td>1181</td><td>2017-10-13</td><td>489.99</td></tr><tr><td>1182</td><td>2017-10-13</td><td>3499.99</td></tr><tr><td>1177</td><td>2017-10-12</td><td>3499.99</td></tr><tr><td>1178</td><td>2017-10-12</td><td>1409.99</td></tr><tr><td>1179</td><td>2017-10-12</td><td>5999.99</td></tr><tr><td>1176</td><td>2017-10-10</td><td>189.99</td></tr><tr><td>1175</td><td>2017-10-09</td><td>4999.99</td></tr><tr><td>1173</td><td>2017-10-08</td><td>551.99</td></tr><tr><td>1174</td><td>2017-10-08</td><td>470.99</td></tr><tr><td>1172</td><td>2017-10-07</td><td>647.99</td></tr><tr><td>1170</td><td>2017-10-05</td><td>5299.99</td></tr><tr><td>1171</td><td>2017-10-05</td><td>1549.00</td></tr><tr><td>1167</td><td>2017-10-04</td><td>1099.99</td></tr><tr><td>1168</td><td>2017-10-04</td><td>6499.99</td></tr><tr><td>1169</td><td>2017-10-04</td><td>6499.99</td></tr><tr><td>1166</td><td>2017-10-03</td><td>551.99</td></tr><tr><td>1165</td><td>2017-10-02</td><td>449.99</td></tr><tr><td>1157</td><td>2017-10-01</td><td>1632.99</td></tr><tr><td>1158</td><td>2017-10-01</td><td>439.99</td></tr><tr><td>1159</td><td>2017-10-01</td><td>549.99</td></tr><tr><td>1160</td><td>2017-10-01</td><td>2999.99</td></tr><tr><td>1161</td><td>2017-10-01</td><td>999.99</td></tr><tr><td>1162</td><td>2017-10-01</td><td>4999.99</td></tr><tr><td>1163</td><td>2017-10-01</td><td>3499.99</td></tr><tr><td>1164</td><td>2017-10-01</td><td>1799.99</td></tr><tr><td>1153</td><td>2017-09-30</td><td>551.99</td></tr><tr><td>1154</td><td>2017-09-30</td><td>1559.99</td></tr><tr><td>1155</td><td>2017-09-30</td><td>832.99</td></tr><tr><td>1156</td><td>2017-09-30</td><td>470.99</td></tr><tr><td>1151</td><td>2017-09-29</td><td>999.99</td></tr><tr><td>1152</td><td>2017-09-29</td><td>4999.99</td></tr><tr><td>1150</td><td>2017-09-28</td><td>999.99</td></tr><tr><td>1149</td><td>2017-09-27</td><td>4999.99</td></tr><tr><td>1145</td><td>2017-09-25</td><td>533.99</td></tr><tr><td>1146</td><td>2017-09-25</td><td>1680.99</td></tr><tr><td>1147</td><td>2017-09-25</td><td>1499.99</td></tr><tr><td>1148</td><td>2017-09-25</td><td>799.99</td></tr><tr><td>1143</td><td>2017-09-24</td><td>1499.99</td></tr><tr><td>1144</td><td>2017-09-24</td><td>189.99</td></tr><tr><td>1142</td><td>2017-09-23</td><td>999.99</td></tr><tr><td>1141</td><td>2017-09-22</td><td>1799.99</td></tr><tr><td>1138</td><td>2017-09-21</td><td>533.99</td></tr><tr><td>1139</td><td>2017-09-21</td><td>3999.99</td></tr><tr><td>1140</td><td>2017-09-21</td><td>4999.99</td></tr><tr><td>1136</td><td>2017-09-20</td><td>533.99</td></tr><tr><td>1137</td><td>2017-09-20</td><td>4999.99</td></tr><tr><td>1132</td><td>2017-09-19</td><td>5299.99</td></tr><tr><td>1133</td><td>2017-09-19</td><td>3499.99</td></tr><tr><td>1134</td><td>2017-09-19</td><td>832.99</td></tr><tr><td>1135</td><td>2017-09-19</td><td>6499.99</td></tr><tr><td>1130</td><td>2017-09-18</td><td>3199.99</td></tr><tr><td>1131</td><td>2017-09-18</td><td>1559.99</td></tr><tr><td>1129</td><td>2017-09-17</td><td>5499.99</td></tr><tr><td>1127</td><td>2017-09-15</td><td>379.99</td></tr><tr><td>1128</td><td>2017-09-15</td><td>1549.00</td></tr><tr><td>1125</td><td>2017-09-14</td><td>1099.99</td></tr><tr><td>1126</td><td>2017-09-14</td><td>4999.99</td></tr><tr><td>1123</td><td>2017-09-13</td><td>4999.99</td></tr><tr><td>1124</td><td>2017-09-13</td><td>3999.99</td></tr><tr><td>1122</td><td>2017-09-12</td><td>3499.99</td></tr><tr><td>1121</td><td>2017-09-11</td><td>1680.99</td></tr><tr><td>1119</td><td>2017-09-10</td><td>2699.99</td></tr><tr><td>1120</td><td>2017-09-10</td><td>1632.99</td></tr><tr><td>1116</td><td>2017-09-08</td><td>1680.99</td></tr><tr><td>1117</td><td>2017-09-08</td><td>6499.99</td></tr><tr><td>1118</td><td>2017-09-08</td><td>5999.99</td></tr><tr><td>1115</td><td>2017-09-07</td><td>5999.99</td></tr><tr><td>1113</td><td>2017-09-06</td><td>449.99</td></tr><tr><td>1114</td><td>2017-09-06</td><td>875.99</td></tr><tr><td>1112</td><td>2017-09-05</td><td>2999.99</td></tr><tr><td>1110</td><td>2017-09-04</td><td>5499.99</td></tr><tr><td>1111</td><td>2017-09-04</td><td>549.99</td></tr><tr><td>1108</td><td>2017-09-03</td><td>869.99</td></tr><tr><td>1109</td><td>2017-09-03</td><td>619.99</td></tr><tr><td>1106</td><td>2017-09-02</td><td>349.99</td></tr><tr><td>1107</td><td>2017-09-02</td><td>5299.99</td></tr><tr><td>1104</td><td>2017-09-01</td><td>5299.99</td></tr><tr><td>1105</td><td>2017-09-01</td><td>5499.99</td></tr><tr><td>1103</td><td>2017-08-31</td><td>1409.99</td></tr><tr><td>1101</td><td>2017-08-29</td><td>6499.99</td></tr><tr><td>1102</td><td>2017-08-29</td><td>349.99</td></tr><tr><td>1098</td><td>2017-08-28</td><td>189.99</td></tr><tr><td>1099</td><td>2017-08-28</td><td>1409.99</td></tr><tr><td>1100</td><td>2017-08-28</td><td>2999.99</td></tr><tr><td>1096</td><td>2017-08-27</td><td>1680.99</td></tr><tr><td>1097</td><td>2017-08-27</td><td>832.99</td></tr><tr><td>1095</td><td>2017-08-26</td><td>5999.99</td></tr><tr><td>1092</td><td>2017-08-25</td><td>999.99</td></tr><tr><td>1093</td><td>2017-08-25</td><td>869.99</td></tr><tr><td>1094</td><td>2017-08-25</td><td>1680.99</td></tr><tr><td>1090</td><td>2017-08-24</td><td>439.99</td></tr><tr><td>1091</td><td>2017-08-24</td><td>5499.99</td></tr><tr><td>1089</td><td>2017-08-23</td><td>999.99</td></tr><tr><td>1087</td><td>2017-08-22</td><td>2599.99</td></tr><tr><td>1088</td><td>2017-08-22</td><td>999.99</td></tr><tr><td>1084</td><td>2017-08-21</td><td>1559.99</td></tr><tr><td>1085</td><td>2017-08-21</td><td>489.99</td></tr><tr><td>1086</td><td>2017-08-21</td><td>1549.00</td></tr><tr><td>1082</td><td>2017-08-20</td><td>999.99</td></tr><tr><td>1083</td><td>2017-08-20</td><td>4999.99</td></tr><tr><td>1074</td><td>2017-08-19</td><td>2599.99</td></tr><tr><td>1075</td><td>2017-08-19</td><td>1499.99</td></tr><tr><td>1076</td><td>2017-08-19</td><td>749.99</td></tr><tr><td>1077</td><td>2017-08-19</td><td>1559.99</td></tr><tr><td>1078</td><td>2017-08-19</td><td>1559.99</td></tr><tr><td>1079</td><td>2017-08-19</td><td>659.99</td></tr><tr><td>1080</td><td>2017-08-19</td><td>5999.99</td></tr><tr><td>1081</td><td>2017-08-19</td><td>875.99</td></tr><tr><td>1072</td><td>2017-08-18</td><td>832.99</td></tr><tr><td>1073</td><td>2017-08-18</td><td>1099.99</td></tr><tr><td>1065</td><td>2017-08-17</td><td>3499.99</td></tr><tr><td>1066</td><td>2017-08-17</td><td>1409.99</td></tr><tr><td>1067</td><td>2017-08-17</td><td>2999.99</td></tr><tr><td>1068</td><td>2017-08-17</td><td>3499.99</td></tr><tr><td>1069</td><td>2017-08-17</td><td>416.99</td></tr><tr><td>1070</td><td>2017-08-17</td><td>470.99</td></tr><tr><td>1071</td><td>2017-08-17</td><td>499.99</td></tr><tr><td>1063</td><td>2017-08-16</td><td>619.99</td></tr><tr><td>1064</td><td>2017-08-16</td><td>3499.99</td></tr><tr><td>1060</td><td>2017-08-15</td><td>4999.99</td></tr><tr><td>1061</td><td>2017-08-15</td><td>449.00</td></tr><tr><td>1062</td><td>2017-08-15</td><td>1320.99</td></tr><tr><td>1059</td><td>2017-08-14</td><td>3999.99</td></tr><tr><td>1058</td><td>2017-08-13</td><td>5299.99</td></tr><tr><td>1055</td><td>2017-08-12</td><td>5299.99</td></tr><tr><td>1056</td><td>2017-08-12</td><td>999.99</td></tr><tr><td>1057</td><td>2017-08-12</td><td>533.99</td></tr><tr><td>1054</td><td>2017-08-11</td><td>832.99</td></tr><tr><td>1051</td><td>2017-08-10</td><td>1409.99</td></tr><tr><td>1052</td><td>2017-08-10</td><td>3999.99</td></tr><tr><td>1053</td><td>2017-08-10</td><td>3499.99</td></tr><tr><td>1049</td><td>2017-08-09</td><td>2999.99</td></tr><tr><td>1050</td><td>2017-08-09</td><td>869.99</td></tr><tr><td>1047</td><td>2017-08-08</td><td>3499.99</td></tr><tr><td>1048</td><td>2017-08-08</td><td>999.99</td></tr><tr><td>1044</td><td>2017-08-07</td><td>349.99</td></tr><tr><td>1045</td><td>2017-08-07</td><td>2499.99</td></tr><tr><td>1046</td><td>2017-08-07</td><td>1559.99</td></tr><tr><td>1042</td><td>2017-08-06</td><td>299.99</td></tr><tr><td>1043</td><td>2017-08-06</td><td>2699.99</td></tr><tr><td>1040</td><td>2017-08-04</td><td>2499.99</td></tr><tr><td>1041</td><td>2017-08-04</td><td>4999.99</td></tr><tr><td>1039</td><td>2017-08-02</td><td>449.00</td></tr><tr><td>1037</td><td>2017-07-31</td><td>999.99</td></tr><tr><td>1038</td><td>2017-07-31</td><td>2999.99</td></tr><tr><td>1031</td><td>2017-07-30</td><td>999.99</td></tr><tr><td>1032</td><td>2017-07-30</td><td>1559.99</td></tr><tr><td>1033</td><td>2017-07-30</td><td>999.99</td></tr><tr><td>1034</td><td>2017-07-30</td><td>1799.99</td></tr><tr><td>1035</td><td>2017-07-30</td><td>349.99</td></tr><tr><td>1036</td><td>2017-07-30</td><td>2699.99</td></tr><tr><td>1029</td><td>2017-07-29</td><td>4999.99</td></tr><tr><td>1030</td><td>2017-07-29</td><td>1549.00</td></tr><tr><td>1028</td><td>2017-07-27</td><td>1549.00</td></tr><tr><td>1026</td><td>2017-07-26</td><td>3999.99</td></tr><tr><td>1027</td><td>2017-07-26</td><td>299.99</td></tr><tr><td>1020</td><td>2017-07-23</td><td>4999.99</td></tr><tr><td>1021</td><td>2017-07-23</td><td>3499.99</td></tr><tr><td>1022</td><td>2017-07-23</td><td>1409.99</td></tr><tr><td>1023</td><td>2017-07-23</td><td>5299.99</td></tr><tr><td>1024</td><td>2017-07-23</td><td>2499.99</td></tr><tr><td>1025</td><td>2017-07-23</td><td>1499.99</td></tr><tr><td>1018</td><td>2017-07-22</td><td>349.99</td></tr><tr><td>1019</td><td>2017-07-22</td><td>999.99</td></tr><tr><td>1017</td><td>2017-07-20</td><td>799.99</td></tr><tr><td>1013</td><td>2017-07-19</td><td>1559.99</td></tr><tr><td>1014</td><td>2017-07-19</td><td>2599.99</td></tr><tr><td>1015</td><td>2017-07-19</td><td>749.99</td></tr><tr><td>1016</td><td>2017-07-19</td><td>299.99</td></tr><tr><td>1010</td><td>2017-07-18</td><td>416.99</td></tr><tr><td>1011</td><td>2017-07-18</td><td>599.99</td></tr><tr><td>1012</td><td>2017-07-18</td><td>1799.99</td></tr><tr><td>1007</td><td>2017-07-16</td><td>1680.99</td></tr><tr><td>1008</td><td>2017-07-16</td><td>749.99</td></tr><tr><td>1009</td><td>2017-07-16</td><td>539.99</td></tr><tr><td>1005</td><td>2017-07-15</td><td>1099.99</td></tr><tr><td>1006</td><td>2017-07-15</td><td>5499.99</td></tr><tr><td>1002</td><td>2017-07-14</td><td>1799.99</td></tr><tr><td>1003</td><td>2017-07-14</td><td>6499.99</td></tr><tr><td>1004</td><td>2017-07-14</td><td>832.99</td></tr><tr><td>1001</td><td>2017-07-13</td><td>4999.99</td></tr><tr><td>998</td><td>2017-07-12</td><td>599.99</td></tr><tr><td>999</td><td>2017-07-12</td><td>659.99</td></tr><tr><td>1000</td><td>2017-07-12</td><td>999.99</td></tr><tr><td>995</td><td>2017-07-11</td><td>599.99</td></tr><tr><td>996</td><td>2017-07-11</td><td>469.99</td></tr><tr><td>997</td><td>2017-07-11</td><td>533.99</td></tr><tr><td>993</td><td>2017-07-09</td><td>4999.99</td></tr><tr><td>994</td><td>2017-07-09</td><td>869.99</td></tr><tr><td>992</td><td>2017-07-07</td><td>3999.99</td></tr><tr><td>991</td><td>2017-07-06</td><td>2999.99</td></tr><tr><td>990</td><td>2017-07-04</td><td>999.99</td></tr><tr><td>987</td><td>2017-07-02</td><td>6499.99</td></tr><tr><td>988</td><td>2017-07-02</td><td>832.99</td></tr><tr><td>989</td><td>2017-07-02</td><td>1320.99</td></tr><tr><td>985</td><td>2017-06-30</td><td>2599.99</td></tr><tr><td>986</td><td>2017-06-30</td><td>647.99</td></tr><tr><td>983</td><td>2017-06-27</td><td>3499.99</td></tr><tr><td>984</td><td>2017-06-27</td><td>1099.99</td></tr><tr><td>977</td><td>2017-06-26</td><td>999.99</td></tr><tr><td>978</td><td>2017-06-26</td><td>499.99</td></tr><tr><td>979</td><td>2017-06-26</td><td>2699.99</td></tr><tr><td>980</td><td>2017-06-26</td><td>3499.99</td></tr><tr><td>981</td><td>2017-06-26</td><td>4999.99</td></tr><tr><td>982</td><td>2017-06-26</td><td>4999.99</td></tr><tr><td>975</td><td>2017-06-25</td><td>470.99</td></tr><tr><td>976</td><td>2017-06-25</td><td>1499.99</td></tr><tr><td>973</td><td>2017-06-24</td><td>5299.99</td></tr><tr><td>974</td><td>2017-06-24</td><td>469.99</td></tr><tr><td>972</td><td>2017-06-23</td><td>3499.99</td></tr><tr><td>970</td><td>2017-06-22</td><td>3199.99</td></tr><tr><td>971</td><td>2017-06-22</td><td>1799.99</td></tr><tr><td>967</td><td>2017-06-21</td><td>799.99</td></tr><tr><td>968</td><td>2017-06-21</td><td>4999.99</td></tr><tr><td>969</td><td>2017-06-21</td><td>832.99</td></tr><tr><td>964</td><td>2017-06-20</td><td>439.99</td></tr><tr><td>965</td><td>2017-06-20</td><td>209.99</td></tr><tr><td>966</td><td>2017-06-20</td><td>749.99</td></tr><tr><td>961</td><td>2017-06-19</td><td>5299.99</td></tr><tr><td>962</td><td>2017-06-19</td><td>489.99</td></tr><tr><td>963</td><td>2017-06-19</td><td>2899.99</td></tr><tr><td>958</td><td>2017-06-18</td><td>6499.99</td></tr><tr><td>959</td><td>2017-06-18</td><td>1469.99</td></tr><tr><td>960</td><td>2017-06-18</td><td>1499.99</td></tr><tr><td>954</td><td>2017-06-17</td><td>2899.99</td></tr><tr><td>955</td><td>2017-06-17</td><td>5299.99</td></tr><tr><td>956</td><td>2017-06-17</td><td>749.99</td></tr><tr><td>957</td><td>2017-06-17</td><td>659.99</td></tr><tr><td>949</td><td>2017-06-16</td><td>2999.99</td></tr><tr><td>950</td><td>2017-06-16</td><td>5499.99</td></tr><tr><td>951</td><td>2017-06-16</td><td>5299.99</td></tr><tr><td>952</td><td>2017-06-16</td><td>1999.99</td></tr><tr><td>953</td><td>2017-06-16</td><td>299.99</td></tr><tr><td>947</td><td>2017-06-15</td><td>2299.99</td></tr><tr><td>948</td><td>2017-06-15</td><td>619.99</td></tr><tr><td>944</td><td>2017-06-14</td><td>999.99</td></tr><tr><td>945</td><td>2017-06-14</td><td>5999.99</td></tr><tr><td>946</td><td>2017-06-14</td><td>5499.99</td></tr><tr><td>942</td><td>2017-06-13</td><td>832.99</td></tr><tr><td>943</td><td>2017-06-13</td><td>659.99</td></tr><tr><td>940</td><td>2017-06-12</td><td>599.99</td></tr><tr><td>941</td><td>2017-06-12</td><td>1680.99</td></tr><tr><td>937</td><td>2017-06-11</td><td>6499.99</td></tr><tr><td>938</td><td>2017-06-11</td><td>2899.99</td></tr><tr><td>939</td><td>2017-06-11</td><td>1320.99</td></tr><tr><td>935</td><td>2017-06-10</td><td>549.99</td></tr><tr><td>936</td><td>2017-06-10</td><td>659.99</td></tr><tr><td>934</td><td>2017-06-09</td><td>5499.99</td></tr><tr><td>931</td><td>2017-06-07</td><td>3499.99</td></tr><tr><td>932</td><td>2017-06-07</td><td>439.99</td></tr><tr><td>933</td><td>2017-06-07</td><td>799.99</td></tr><tr><td>928</td><td>2017-06-05</td><td>416.99</td></tr><tr><td>929</td><td>2017-06-05</td><td>3499.99</td></tr><tr><td>930</td><td>2017-06-05</td><td>6499.99</td></tr><tr><td>926</td><td>2017-06-03</td><td>379.99</td></tr><tr><td>927</td><td>2017-06-03</td><td>5999.99</td></tr><tr><td>924</td><td>2017-06-02</td><td>832.99</td></tr><tr><td>925</td><td>2017-06-02</td><td>3499.99</td></tr><tr><td>921</td><td>2017-05-31</td><td>1499.99</td></tr><tr><td>922</td><td>2017-05-31</td><td>749.99</td></tr><tr><td>923</td><td>2017-05-31</td><td>469.99</td></tr><tr><td>918</td><td>2017-05-30</td><td>2899.99</td></tr><tr><td>919</td><td>2017-05-30</td><td>3999.99</td></tr><tr><td>920</td><td>2017-05-30</td><td>1499.99</td></tr><tr><td>917</td><td>2017-05-29</td><td>1469.99</td></tr><tr><td>914</td><td>2017-05-28</td><td>1409.99</td></tr><tr><td>915</td><td>2017-05-28</td><td>2299.99</td></tr><tr><td>916</td><td>2017-05-28</td><td>209.99</td></tr><tr><td>912</td><td>2017-05-27</td><td>749.99</td></tr><tr><td>913</td><td>2017-05-27</td><td>549.99</td></tr><tr><td>909</td><td>2017-05-26</td><td>1320.99</td></tr><tr><td>910</td><td>2017-05-26</td><td>299.99</td></tr><tr><td>911</td><td>2017-05-26</td><td>3499.99</td></tr><tr><td>908</td><td>2017-05-25</td><td>1469.99</td></tr><tr><td>907</td><td>2017-05-24</td><td>346.99</td></tr><tr><td>904</td><td>2017-05-23</td><td>6499.99</td></tr><tr><td>905</td><td>2017-05-23</td><td>3499.99</td></tr><tr><td>906</td><td>2017-05-23</td><td>2499.99</td></tr><tr><td>903</td><td>2017-05-22</td><td>1632.99</td></tr><tr><td>901</td><td>2017-05-21</td><td>5999.99</td></tr><tr><td>902</td><td>2017-05-21</td><td>549.99</td></tr><tr><td>897</td><td>2017-05-20</td><td>533.99</td></tr><tr><td>898</td><td>2017-05-20</td><td>1999.99</td></tr><tr><td>899</td><td>2017-05-20</td><td>2599.99</td></tr><tr><td>900</td><td>2017-05-20</td><td>4999.99</td></tr><tr><td>896</td><td>2017-05-19</td><td>1549.00</td></tr><tr><td>895</td><td>2017-05-18</td><td>449.99</td></tr><tr><td>893</td><td>2017-05-16</td><td>869.99</td></tr><tr><td>894</td><td>2017-05-16</td><td>339.99</td></tr><tr><td>890</td><td>2017-05-15</td><td>875.99</td></tr><tr><td>891</td><td>2017-05-15</td><td>5999.99</td></tr><tr><td>892</td><td>2017-05-15</td><td>5999.99</td></tr><tr><td>888</td><td>2017-05-14</td><td>599.99</td></tr><tr><td>889</td><td>2017-05-14</td><td>549.99</td></tr><tr><td>885</td><td>2017-05-13</td><td>5299.99</td></tr><tr><td>886</td><td>2017-05-13</td><td>5299.99</td></tr><tr><td>887</td><td>2017-05-13</td><td>5999.99</td></tr><tr><td>883</td><td>2017-05-11</td><td>1320.99</td></tr><tr><td>884</td><td>2017-05-11</td><td>3499.99</td></tr><tr><td>882</td><td>2017-05-09</td><td>3499.99</td></tr><tr><td>879</td><td>2017-05-08</td><td>749.99</td></tr><tr><td>880</td><td>2017-05-08</td><td>2499.99</td></tr><tr><td>881</td><td>2017-05-08</td><td>5999.99</td></tr><tr><td>878</td><td>2017-05-07</td><td>551.99</td></tr><tr><td>877</td><td>2017-05-06</td><td>749.99</td></tr><tr><td>875</td><td>2017-05-05</td><td>1320.99</td></tr><tr><td>876</td><td>2017-05-05</td><td>429.00</td></tr><tr><td>874</td><td>2017-05-04</td><td>5499.99</td></tr><tr><td>872</td><td>2017-05-03</td><td>3499.99</td></tr><tr><td>873</td><td>2017-05-03</td><td>469.99</td></tr><tr><td>871</td><td>2017-05-02</td><td>999.99</td></tr><tr><td>867</td><td>2017-05-01</td><td>339.99</td></tr><tr><td>868</td><td>2017-05-01</td><td>1409.99</td></tr><tr><td>869</td><td>2017-05-01</td><td>3999.99</td></tr><tr><td>870</td><td>2017-05-01</td><td>3499.99</td></tr><tr><td>865</td><td>2017-04-29</td><td>469.99</td></tr><tr><td>866</td><td>2017-04-29</td><td>761.99</td></tr><tr><td>863</td><td>2017-04-28</td><td>209.99</td></tr><tr><td>864</td><td>2017-04-28</td><td>379.99</td></tr><tr><td>860</td><td>2017-04-27</td><td>4999.99</td></tr><tr><td>861</td><td>2017-04-27</td><td>3499.99</td></tr><tr><td>862</td><td>2017-04-27</td><td>3499.99</td></tr><tr><td>858</td><td>2017-04-25</td><td>1320.99</td></tr><tr><td>859</td><td>2017-04-25</td><td>832.99</td></tr><tr><td>857</td><td>2017-04-24</td><td>999.99</td></tr><tr><td>856</td><td>2017-04-23</td><td>549.99</td></tr><tr><td>854</td><td>2017-04-22</td><td>189.99</td></tr><tr><td>855</td><td>2017-04-22</td><td>449.00</td></tr><tr><td>852</td><td>2017-04-21</td><td>1409.99</td></tr><tr><td>853</td><td>2017-04-21</td><td>4999.99</td></tr><tr><td>851</td><td>2017-04-20</td><td>999.99</td></tr><tr><td>849</td><td>2017-04-19</td><td>416.99</td></tr><tr><td>850</td><td>2017-04-19</td><td>1320.99</td></tr><tr><td>847</td><td>2017-04-18</td><td>4999.99</td></tr><tr><td>848</td><td>2017-04-18</td><td>1469.99</td></tr><tr><td>845</td><td>2017-04-17</td><td>749.99</td></tr><tr><td>846</td><td>2017-04-17</td><td>5299.99</td></tr><tr><td>843</td><td>2017-04-16</td><td>1099.99</td></tr><tr><td>844</td><td>2017-04-16</td><td>3499.99</td></tr><tr><td>839</td><td>2017-04-15</td><td>4999.99</td></tr><tr><td>840</td><td>2017-04-15</td><td>5299.99</td></tr><tr><td>841</td><td>2017-04-15</td><td>2999.99</td></tr><tr><td>842</td><td>2017-04-15</td><td>2299.99</td></tr><tr><td>838</td><td>2017-04-14</td><td>2499.99</td></tr><tr><td>835</td><td>2017-04-13</td><td>749.99</td></tr><tr><td>836</td><td>2017-04-13</td><td>449.99</td></tr><tr><td>837</td><td>2017-04-13</td><td>6499.99</td></tr><tr><td>833</td><td>2017-04-12</td><td>599.99</td></tr><tr><td>834</td><td>2017-04-12</td><td>3199.99</td></tr><tr><td>830</td><td>2017-04-11</td><td>489.99</td></tr><tr><td>831</td><td>2017-04-11</td><td>1680.99</td></tr><tr><td>832</td><td>2017-04-11</td><td>3199.99</td></tr><tr><td>828</td><td>2017-04-09</td><td>2699.99</td></tr><tr><td>829</td><td>2017-04-09</td><td>551.99</td></tr><tr><td>824</td><td>2017-04-07</td><td>209.99</td></tr><tr><td>825</td><td>2017-04-07</td><td>999.99</td></tr><tr><td>826</td><td>2017-04-07</td><td>869.99</td></tr><tr><td>827</td><td>2017-04-07</td><td>5299.99</td></tr><tr><td>822</td><td>2017-04-06</td><td>749.99</td></tr><tr><td>823</td><td>2017-04-06</td><td>5499.99</td></tr><tr><td>820</td><td>2017-04-05</td><td>416.99</td></tr><tr><td>821</td><td>2017-04-05</td><td>659.99</td></tr><tr><td>817</td><td>2017-04-04</td><td>1499.99</td></tr><tr><td>818</td><td>2017-04-04</td><td>1499.99</td></tr><tr><td>819</td><td>2017-04-04</td><td>249.99</td></tr><tr><td>815</td><td>2017-04-03</td><td>533.99</td></tr><tr><td>816</td><td>2017-04-03</td><td>599.99</td></tr><tr><td>814</td><td>2017-04-02</td><td>489.99</td></tr><tr><td>810</td><td>2017-04-01</td><td>5499.99</td></tr><tr><td>811</td><td>2017-04-01</td><td>3199.99</td></tr><tr><td>812</td><td>2017-04-01</td><td>4999.99</td></tr><tr><td>813</td><td>2017-04-01</td><td>599.99</td></tr><tr><td>808</td><td>2017-03-31</td><td>449.00</td></tr><tr><td>809</td><td>2017-03-31</td><td>647.99</td></tr><tr><td>806</td><td>2017-03-30</td><td>799.99</td></tr><tr><td>807</td><td>2017-03-30</td><td>2999.99</td></tr><tr><td>804</td><td>2017-03-29</td><td>5999.99</td></tr><tr><td>805</td><td>2017-03-29</td><td>3499.99</td></tr><tr><td>801</td><td>2017-03-28</td><td>339.99</td></tr><tr><td>802</td><td>2017-03-28</td><td>4999.99</td></tr><tr><td>803</td><td>2017-03-28</td><td>875.99</td></tr><tr><td>799</td><td>2017-03-27</td><td>4999.99</td></tr><tr><td>800</td><td>2017-03-27</td><td>3199.99</td></tr><tr><td>798</td><td>2017-03-26</td><td>2299.99</td></tr><tr><td>797</td><td>2017-03-24</td><td>3499.99</td></tr><tr><td>793</td><td>2017-03-23</td><td>1559.99</td></tr><tr><td>794</td><td>2017-03-23</td><td>2499.99</td></tr><tr><td>795</td><td>2017-03-23</td><td>299.99</td></tr><tr><td>796</td><td>2017-03-23</td><td>469.99</td></tr><tr><td>792</td><td>2017-03-22</td><td>5499.99</td></tr><tr><td>791</td><td>2017-03-20</td><td>3199.99</td></tr><tr><td>789</td><td>2017-03-19</td><td>489.99</td></tr><tr><td>790</td><td>2017-03-19</td><td>3499.99</td></tr><tr><td>785</td><td>2017-03-18</td><td>4999.99</td></tr><tr><td>786</td><td>2017-03-18</td><td>761.99</td></tr><tr><td>787</td><td>2017-03-18</td><td>6499.99</td></tr><tr><td>788</td><td>2017-03-18</td><td>1499.99</td></tr><tr><td>783</td><td>2017-03-16</td><td>999.99</td></tr><tr><td>784</td><td>2017-03-16</td><td>619.99</td></tr><tr><td>778</td><td>2017-03-15</td><td>489.99</td></tr><tr><td>779</td><td>2017-03-15</td><td>5299.99</td></tr><tr><td>780</td><td>2017-03-15</td><td>469.99</td></tr><tr><td>781</td><td>2017-03-15</td><td>3999.99</td></tr><tr><td>782</td><td>2017-03-15</td><td>1999.99</td></tr><tr><td>776</td><td>2017-03-13</td><td>2499.99</td></tr><tr><td>777</td><td>2017-03-13</td><td>3999.99</td></tr><tr><td>774</td><td>2017-03-12</td><td>4999.99</td></tr><tr><td>775</td><td>2017-03-12</td><td>1499.99</td></tr><tr><td>771</td><td>2017-03-11</td><td>269.99</td></tr><tr><td>772</td><td>2017-03-11</td><td>551.99</td></tr><tr><td>773</td><td>2017-03-11</td><td>469.99</td></tr><tr><td>764</td><td>2017-03-09</td><td>2699.99</td></tr><tr><td>765</td><td>2017-03-09</td><td>2499.99</td></tr><tr><td>766</td><td>2017-03-09</td><td>470.99</td></tr><tr><td>767</td><td>2017-03-09</td><td>3499.99</td></tr><tr><td>768</td><td>2017-03-09</td><td>1632.99</td></tr><tr><td>769</td><td>2017-03-09</td><td>1799.99</td></tr><tr><td>770</td><td>2017-03-09</td><td>2299.99</td></tr><tr><td>762</td><td>2017-03-08</td><td>489.99</td></tr><tr><td>763</td><td>2017-03-08</td><td>551.99</td></tr><tr><td>759</td><td>2017-03-07</td><td>647.99</td></tr><tr><td>760</td><td>2017-03-07</td><td>999.99</td></tr><tr><td>761</td><td>2017-03-07</td><td>5299.99</td></tr><tr><td>754</td><td>2017-03-06</td><td>3999.99</td></tr><tr><td>755</td><td>2017-03-06</td><td>5299.99</td></tr><tr><td>756</td><td>2017-03-06</td><td>489.99</td></tr><tr><td>757</td><td>2017-03-06</td><td>299.99</td></tr><tr><td>758</td><td>2017-03-06</td><td>999.99</td></tr><tr><td>751</td><td>2017-03-05</td><td>869.99</td></tr><tr><td>752</td><td>2017-03-05</td><td>1632.99</td></tr><tr><td>753</td><td>2017-03-05</td><td>3999.99</td></tr><tr><td>749</td><td>2017-03-04</td><td>4999.99</td></tr><tr><td>750</td><td>2017-03-04</td><td>647.99</td></tr><tr><td>747</td><td>2017-03-03</td><td>1099.99</td></tr><tr><td>748</td><td>2017-03-03</td><td>1469.99</td></tr><tr><td>746</td><td>2017-03-02</td><td>299.99</td></tr><tr><td>743</td><td>2017-03-01</td><td>761.99</td></tr><tr><td>744</td><td>2017-03-01</td><td>469.99</td></tr><tr><td>745</td><td>2017-03-01</td><td>647.99</td></tr><tr><td>738</td><td>2017-02-28</td><td>3499.99</td></tr><tr><td>739</td><td>2017-02-28</td><td>999.99</td></tr><tr><td>740</td><td>2017-02-28</td><td>1680.99</td></tr><tr><td>741</td><td>2017-02-28</td><td>5499.99</td></tr><tr><td>742</td><td>2017-02-28</td><td>869.99</td></tr><tr><td>735</td><td>2017-02-27</td><td>1549.00</td></tr><tr><td>736</td><td>2017-02-27</td><td>5499.99</td></tr><tr><td>737</td><td>2017-02-27</td><td>875.99</td></tr><tr><td>732</td><td>2017-02-26</td><td>5299.99</td></tr><tr><td>733</td><td>2017-02-26</td><td>2699.99</td></tr><tr><td>734</td><td>2017-02-26</td><td>999.99</td></tr><tr><td>731</td><td>2017-02-25</td><td>3499.99</td></tr><tr><td>730</td><td>2017-02-21</td><td>2599.99</td></tr><tr><td>728</td><td>2017-02-20</td><td>5499.99</td></tr><tr><td>729</td><td>2017-02-20</td><td>339.99</td></tr><tr><td>723</td><td>2017-02-19</td><td>599.99</td></tr><tr><td>724</td><td>2017-02-19</td><td>2699.99</td></tr><tr><td>725</td><td>2017-02-19</td><td>3499.99</td></tr><tr><td>726</td><td>2017-02-19</td><td>489.99</td></tr><tr><td>727</td><td>2017-02-19</td><td>659.99</td></tr><tr><td>722</td><td>2017-02-18</td><td>999.99</td></tr><tr><td>718</td><td>2017-02-16</td><td>4999.99</td></tr><tr><td>719</td><td>2017-02-16</td><td>489.99</td></tr><tr><td>720</td><td>2017-02-16</td><td>470.99</td></tr><tr><td>721</td><td>2017-02-16</td><td>869.99</td></tr><tr><td>715</td><td>2017-02-15</td><td>5999.99</td></tr><tr><td>716</td><td>2017-02-15</td><td>2899.99</td></tr><tr><td>717</td><td>2017-02-15</td><td>5499.99</td></tr><tr><td>714</td><td>2017-02-14</td><td>209.99</td></tr><tr><td>710</td><td>2017-02-13</td><td>2499.99</td></tr><tr><td>711</td><td>2017-02-13</td><td>1320.99</td></tr><tr><td>712</td><td>2017-02-13</td><td>2899.99</td></tr><tr><td>713</td><td>2017-02-13</td><td>749.99</td></tr><tr><td>709</td><td>2017-02-11</td><td>2699.99</td></tr><tr><td>708</td><td>2017-02-10</td><td>5299.99</td></tr><tr><td>706</td><td>2017-02-09</td><td>1559.99</td></tr><tr><td>707</td><td>2017-02-09</td><td>1680.99</td></tr><tr><td>702</td><td>2017-02-08</td><td>999.99</td></tr><tr><td>703</td><td>2017-02-08</td><td>2899.99</td></tr><tr><td>704</td><td>2017-02-08</td><td>3499.99</td></tr><tr><td>705</td><td>2017-02-08</td><td>4999.99</td></tr><tr><td>700</td><td>2017-02-07</td><td>3999.99</td></tr><tr><td>701</td><td>2017-02-07</td><td>109.99</td></tr><tr><td>697</td><td>2017-02-06</td><td>1320.99</td></tr><tr><td>698</td><td>2017-02-06</td><td>4999.99</td></tr><tr><td>699</td><td>2017-02-06</td><td>1632.99</td></tr><tr><td>692</td><td>2017-02-05</td><td>5499.99</td></tr><tr><td>693</td><td>2017-02-05</td><td>1632.99</td></tr><tr><td>694</td><td>2017-02-05</td><td>2699.99</td></tr><tr><td>695</td><td>2017-02-05</td><td>1999.99</td></tr><tr><td>696</td><td>2017-02-05</td><td>3999.99</td></tr><tr><td>691</td><td>2017-02-04</td><td>2699.99</td></tr><tr><td>690</td><td>2017-02-03</td><td>1680.99</td></tr><tr><td>687</td><td>2017-02-02</td><td>1499.99</td></tr><tr><td>688</td><td>2017-02-02</td><td>1799.99</td></tr><tr><td>689</td><td>2017-02-02</td><td>469.99</td></tr><tr><td>686</td><td>2017-02-01</td><td>999.99</td></tr><tr><td>684</td><td>2017-01-31</td><td>5499.99</td></tr><tr><td>685</td><td>2017-01-31</td><td>5499.99</td></tr><tr><td>679</td><td>2017-01-29</td><td>529.99</td></tr><tr><td>680</td><td>2017-01-29</td><td>5999.99</td></tr><tr><td>681</td><td>2017-01-29</td><td>4999.99</td></tr><tr><td>682</td><td>2017-01-29</td><td>1559.99</td></tr><tr><td>683</td><td>2017-01-29</td><td>749.99</td></tr><tr><td>675</td><td>2017-01-28</td><td>469.99</td></tr><tr><td>676</td><td>2017-01-28</td><td>999.99</td></tr><tr><td>677</td><td>2017-01-28</td><td>3999.99</td></tr><tr><td>678</td><td>2017-01-28</td><td>875.99</td></tr><tr><td>674</td><td>2017-01-27</td><td>599.99</td></tr><tr><td>672</td><td>2017-01-26</td><td>6499.99</td></tr><tr><td>673</td><td>2017-01-26</td><td>1320.99</td></tr><tr><td>671</td><td>2017-01-25</td><td>2899.99</td></tr><tr><td>670</td><td>2017-01-24</td><td>2499.99</td></tr><tr><td>669</td><td>2017-01-23</td><td>619.99</td></tr><tr><td>667</td><td>2017-01-22</td><td>999.99</td></tr><tr><td>668</td><td>2017-01-22</td><td>1499.99</td></tr><tr><td>665</td><td>2017-01-21</td><td>4999.99</td></tr><tr><td>666</td><td>2017-01-21</td><td>1499.99</td></tr><tr><td>663</td><td>2017-01-20</td><td>1469.99</td></tr><tr><td>664</td><td>2017-01-20</td><td>5999.99</td></tr><tr><td>662</td><td>2017-01-19</td><td>2699.99</td></tr><tr><td>660</td><td>2017-01-18</td><td>5299.99</td></tr><tr><td>661</td><td>2017-01-18</td><td>3499.99</td></tr><tr><td>657</td><td>2017-01-17</td><td>3199.99</td></tr><tr><td>658</td><td>2017-01-17</td><td>3499.99</td></tr><tr><td>659</td><td>2017-01-17</td><td>4999.99</td></tr><tr><td>655</td><td>2017-01-16</td><td>250.99</td></tr><tr><td>656</td><td>2017-01-16</td><td>469.99</td></tr><tr><td>653</td><td>2017-01-14</td><td>5299.99</td></tr><tr><td>654</td><td>2017-01-14</td><td>2999.99</td></tr><tr><td>652</td><td>2017-01-12</td><td>3499.99</td></tr><tr><td>650</td><td>2017-01-11</td><td>999.99</td></tr><tr><td>651</td><td>2017-01-11</td><td>489.99</td></tr><tr><td>649</td><td>2017-01-10</td><td>1680.99</td></tr><tr><td>646</td><td>2017-01-09</td><td>2899.99</td></tr><tr><td>647</td><td>2017-01-09</td><td>499.99</td></tr><tr><td>648</td><td>2017-01-09</td><td>549.99</td></tr><tr><td>643</td><td>2017-01-08</td><td>749.99</td></tr><tr><td>644</td><td>2017-01-08</td><td>2999.99</td></tr><tr><td>645</td><td>2017-01-08</td><td>5299.99</td></tr><tr><td>641</td><td>2017-01-07</td><td>3499.99</td></tr><tr><td>642</td><td>2017-01-07</td><td>449.99</td></tr><tr><td>639</td><td>2017-01-06</td><td>4999.99</td></tr><tr><td>640</td><td>2017-01-06</td><td>999.99</td></tr><tr><td>638</td><td>2017-01-04</td><td>5499.99</td></tr><tr><td>636</td><td>2017-01-03</td><td>329.99</td></tr><tr><td>637</td><td>2017-01-03</td><td>2999.99</td></tr><tr><td>635</td><td>2016-12-30</td><td>2899.99</td></tr><tr><td>634</td><td>2016-12-29</td><td>2899.99</td></tr><tr><td>633</td><td>2016-12-28</td><td>1549.00</td></tr><tr><td>631</td><td>2016-12-27</td><td>549.99</td></tr><tr><td>632</td><td>2016-12-27</td><td>1680.99</td></tr><tr><td>628</td><td>2016-12-26</td><td>529.99</td></tr><tr><td>629</td><td>2016-12-26</td><td>1320.99</td></tr><tr><td>630</td><td>2016-12-26</td><td>1320.99</td></tr><tr><td>625</td><td>2016-12-25</td><td>1680.99</td></tr><tr><td>626</td><td>2016-12-25</td><td>529.99</td></tr><tr><td>627</td><td>2016-12-25</td><td>2999.99</td></tr><tr><td>623</td><td>2016-12-24</td><td>1799.99</td></tr><tr><td>624</td><td>2016-12-24</td><td>599.99</td></tr><tr><td>621</td><td>2016-12-23</td><td>429.00</td></tr><tr><td>622</td><td>2016-12-23</td><td>2999.99</td></tr><tr><td>619</td><td>2016-12-22</td><td>499.99</td></tr><tr><td>620</td><td>2016-12-22</td><td>1320.99</td></tr><tr><td>617</td><td>2016-12-21</td><td>1680.99</td></tr><tr><td>618</td><td>2016-12-21</td><td>1680.99</td></tr><tr><td>616</td><td>2016-12-20</td><td>599.99</td></tr><tr><td>615</td><td>2016-12-19</td><td>1680.99</td></tr><tr><td>614</td><td>2016-12-18</td><td>449.00</td></tr><tr><td>613</td><td>2016-12-17</td><td>2999.99</td></tr><tr><td>612</td><td>2016-12-16</td><td>599.99</td></tr><tr><td>611</td><td>2016-12-15</td><td>599.99</td></tr><tr><td>610</td><td>2016-12-13</td><td>1799.99</td></tr><tr><td>608</td><td>2016-12-12</td><td>3999.99</td></tr><tr><td>609</td><td>2016-12-12</td><td>3999.99</td></tr><tr><td>606</td><td>2016-12-11</td><td>469.99</td></tr><tr><td>607</td><td>2016-12-11</td><td>1680.99</td></tr><tr><td>604</td><td>2016-12-10</td><td>2999.99</td></tr><tr><td>605</td><td>2016-12-10</td><td>1680.99</td></tr><tr><td>598</td><td>2016-12-09</td><td>2899.99</td></tr><tr><td>599</td><td>2016-12-09</td><td>2999.99</td></tr><tr><td>600</td><td>2016-12-09</td><td>2899.99</td></tr><tr><td>601</td><td>2016-12-09</td><td>549.99</td></tr><tr><td>602</td><td>2016-12-09</td><td>1320.99</td></tr><tr><td>603</td><td>2016-12-09</td><td>2899.99</td></tr><tr><td>595</td><td>2016-12-08</td><td>2899.99</td></tr><tr><td>596</td><td>2016-12-08</td><td>2999.99</td></tr><tr><td>597</td><td>2016-12-08</td><td>1799.99</td></tr><tr><td>593</td><td>2016-12-07</td><td>999.99</td></tr><tr><td>594</td><td>2016-12-07</td><td>599.99</td></tr><tr><td>587</td><td>2016-12-06</td><td>549.99</td></tr><tr><td>588</td><td>2016-12-06</td><td>1549.00</td></tr><tr><td>589</td><td>2016-12-06</td><td>529.99</td></tr><tr><td>590</td><td>2016-12-06</td><td>1799.99</td></tr><tr><td>591</td><td>2016-12-06</td><td>749.99</td></tr><tr><td>592</td><td>2016-12-06</td><td>599.99</td></tr><tr><td>582</td><td>2016-12-04</td><td>1549.00</td></tr><tr><td>583</td><td>2016-12-04</td><td>529.99</td></tr><tr><td>584</td><td>2016-12-04</td><td>1799.99</td></tr><tr><td>585</td><td>2016-12-04</td><td>1549.00</td></tr><tr><td>586</td><td>2016-12-04</td><td>1680.99</td></tr><tr><td>581</td><td>2016-12-03</td><td>1799.99</td></tr><tr><td>580</td><td>2016-11-30</td><td>2999.99</td></tr><tr><td>575</td><td>2016-11-27</td><td>2899.99</td></tr><tr><td>576</td><td>2016-11-27</td><td>2999.99</td></tr><tr><td>577</td><td>2016-11-27</td><td>999.99</td></tr><tr><td>578</td><td>2016-11-27</td><td>1799.99</td></tr><tr><td>579</td><td>2016-11-27</td><td>3999.99</td></tr><tr><td>574</td><td>2016-11-26</td><td>1680.99</td></tr><tr><td>571</td><td>2016-11-24</td><td>2999.99</td></tr><tr><td>572</td><td>2016-11-24</td><td>1680.99</td></tr><tr><td>573</td><td>2016-11-24</td><td>749.99</td></tr><tr><td>568</td><td>2016-11-23</td><td>1549.00</td></tr><tr><td>569</td><td>2016-11-23</td><td>599.99</td></tr><tr><td>570</td><td>2016-11-23</td><td>1680.99</td></tr><tr><td>566</td><td>2016-11-22</td><td>3999.99</td></tr><tr><td>567</td><td>2016-11-22</td><td>2999.99</td></tr><tr><td>565</td><td>2016-11-21</td><td>2999.99</td></tr><tr><td>563</td><td>2016-11-20</td><td>469.99</td></tr><tr><td>564</td><td>2016-11-20</td><td>2899.99</td></tr><tr><td>561</td><td>2016-11-19</td><td>1320.99</td></tr><tr><td>562</td><td>2016-11-19</td><td>599.99</td></tr><tr><td>560</td><td>2016-11-18</td><td>599.99</td></tr><tr><td>559</td><td>2016-11-16</td><td>3999.99</td></tr><tr><td>558</td><td>2016-11-15</td><td>3999.99</td></tr><tr><td>557</td><td>2016-11-14</td><td>2999.99</td></tr><tr><td>554</td><td>2016-11-13</td><td>2899.99</td></tr><tr><td>555</td><td>2016-11-13</td><td>3999.99</td></tr><tr><td>556</td><td>2016-11-13</td><td>2899.99</td></tr><tr><td>549</td><td>2016-11-12</td><td>3999.99</td></tr><tr><td>550</td><td>2016-11-12</td><td>2899.99</td></tr><tr><td>551</td><td>2016-11-12</td><td>1680.99</td></tr><tr><td>552</td><td>2016-11-12</td><td>749.99</td></tr><tr><td>553</td><td>2016-11-12</td><td>549.99</td></tr><tr><td>548</td><td>2016-11-11</td><td>1799.99</td></tr><tr><td>546</td><td>2016-11-09</td><td>1799.99</td></tr><tr><td>547</td><td>2016-11-09</td><td>2999.99</td></tr><tr><td>545</td><td>2016-11-08</td><td>599.99</td></tr><tr><td>543</td><td>2016-11-06</td><td>599.99</td></tr><tr><td>544</td><td>2016-11-06</td><td>549.99</td></tr><tr><td>541</td><td>2016-11-04</td><td>269.99</td></tr><tr><td>542</td><td>2016-11-04</td><td>2999.99</td></tr><tr><td>540</td><td>2016-11-03</td><td>599.99</td></tr><tr><td>538</td><td>2016-11-02</td><td>749.99</td></tr><tr><td>539</td><td>2016-11-02</td><td>2999.99</td></tr><tr><td>536</td><td>2016-10-31</td><td>749.99</td></tr><tr><td>537</td><td>2016-10-31</td><td>1549.00</td></tr><tr><td>532</td><td>2016-10-29</td><td>599.99</td></tr><tr><td>533</td><td>2016-10-29</td><td>2899.99</td></tr><tr><td>534</td><td>2016-10-29</td><td>2999.99</td></tr><tr><td>535</td><td>2016-10-29</td><td>549.99</td></tr><tr><td>528</td><td>2016-10-28</td><td>269.99</td></tr><tr><td>529</td><td>2016-10-28</td><td>549.99</td></tr><tr><td>530</td><td>2016-10-28</td><td>2899.99</td></tr><tr><td>531</td><td>2016-10-28</td><td>549.99</td></tr><tr><td>527</td><td>2016-10-27</td><td>2999.99</td></tr><tr><td>525</td><td>2016-10-26</td><td>2999.99</td></tr><tr><td>526</td><td>2016-10-26</td><td>1799.99</td></tr><tr><td>524</td><td>2016-10-25</td><td>2999.99</td></tr><tr><td>523</td><td>2016-10-24</td><td>1320.99</td></tr><tr><td>520</td><td>2016-10-23</td><td>1549.00</td></tr><tr><td>521</td><td>2016-10-23</td><td>1320.99</td></tr><tr><td>522</td><td>2016-10-23</td><td>2899.99</td></tr><tr><td>518</td><td>2016-10-22</td><td>1680.99</td></tr><tr><td>519</td><td>2016-10-22</td><td>3999.99</td></tr><tr><td>516</td><td>2016-10-21</td><td>3999.99</td></tr><tr><td>517</td><td>2016-10-21</td><td>269.99</td></tr><tr><td>512</td><td>2016-10-19</td><td>269.99</td></tr><tr><td>513</td><td>2016-10-19</td><td>3999.99</td></tr><tr><td>514</td><td>2016-10-19</td><td>449.00</td></tr><tr><td>515</td><td>2016-10-19</td><td>1799.99</td></tr><tr><td>511</td><td>2016-10-18</td><td>269.99</td></tr><tr><td>510</td><td>2016-10-17</td><td>429.00</td></tr><tr><td>509</td><td>2016-10-16</td><td>2899.99</td></tr><tr><td>507</td><td>2016-10-15</td><td>1680.99</td></tr><tr><td>508</td><td>2016-10-15</td><td>1799.99</td></tr><tr><td>504</td><td>2016-10-14</td><td>749.99</td></tr><tr><td>505</td><td>2016-10-14</td><td>599.99</td></tr><tr><td>506</td><td>2016-10-14</td><td>3999.99</td></tr><tr><td>503</td><td>2016-10-13</td><td>1549.00</td></tr><tr><td>502</td><td>2016-10-12</td><td>269.99</td></tr><tr><td>499</td><td>2016-10-11</td><td>1680.99</td></tr><tr><td>500</td><td>2016-10-11</td><td>549.99</td></tr><tr><td>501</td><td>2016-10-11</td><td>1799.99</td></tr><tr><td>495</td><td>2016-10-10</td><td>2999.99</td></tr><tr><td>496</td><td>2016-10-10</td><td>299.99</td></tr><tr><td>497</td><td>2016-10-10</td><td>499.99</td></tr><tr><td>498</td><td>2016-10-10</td><td>1549.00</td></tr><tr><td>492</td><td>2016-10-09</td><td>599.99</td></tr><tr><td>493</td><td>2016-10-09</td><td>599.99</td></tr><tr><td>494</td><td>2016-10-09</td><td>299.99</td></tr><tr><td>491</td><td>2016-10-08</td><td>2999.99</td></tr><tr><td>490</td><td>2016-10-07</td><td>549.99</td></tr><tr><td>483</td><td>2016-10-06</td><td>429.00</td></tr><tr><td>484</td><td>2016-10-06</td><td>2999.99</td></tr><tr><td>485</td><td>2016-10-06</td><td>599.99</td></tr><tr><td>486</td><td>2016-10-06</td><td>2999.99</td></tr><tr><td>487</td><td>2016-10-06</td><td>469.99</td></tr><tr><td>488</td><td>2016-10-06</td><td>299.99</td></tr><tr><td>489</td><td>2016-10-06</td><td>1799.99</td></tr><tr><td>482</td><td>2016-10-05</td><td>269.99</td></tr><tr><td>480</td><td>2016-10-04</td><td>2899.99</td></tr><tr><td>481</td><td>2016-10-04</td><td>2999.99</td></tr><tr><td>479</td><td>2016-10-03</td><td>3999.99</td></tr><tr><td>477</td><td>2016-10-02</td><td>1549.00</td></tr><tr><td>478</td><td>2016-10-02</td><td>269.99</td></tr><tr><td>474</td><td>2016-10-01</td><td>1680.99</td></tr><tr><td>475</td><td>2016-10-01</td><td>599.99</td></tr><tr><td>476</td><td>2016-10-01</td><td>2899.99</td></tr><tr><td>470</td><td>2016-09-30</td><td>1799.99</td></tr><tr><td>471</td><td>2016-09-30</td><td>269.99</td></tr><tr><td>472</td><td>2016-09-30</td><td>529.99</td></tr><tr><td>473</td><td>2016-09-30</td><td>599.99</td></tr><tr><td>468</td><td>2016-09-29</td><td>2999.99</td></tr><tr><td>469</td><td>2016-09-29</td><td>2899.99</td></tr><tr><td>464</td><td>2016-09-28</td><td>3999.99</td></tr><tr><td>465</td><td>2016-09-28</td><td>499.99</td></tr><tr><td>466</td><td>2016-09-28</td><td>3999.99</td></tr><tr><td>467</td><td>2016-09-28</td><td>1680.99</td></tr><tr><td>462</td><td>2016-09-27</td><td>549.99</td></tr><tr><td>463</td><td>2016-09-27</td><td>269.99</td></tr><tr><td>461</td><td>2016-09-26</td><td>2899.99</td></tr><tr><td>458</td><td>2016-09-25</td><td>1680.99</td></tr><tr><td>459</td><td>2016-09-25</td><td>1680.99</td></tr><tr><td>460</td><td>2016-09-25</td><td>2899.99</td></tr><tr><td>457</td><td>2016-09-24</td><td>3999.99</td></tr><tr><td>454</td><td>2016-09-23</td><td>549.99</td></tr><tr><td>455</td><td>2016-09-23</td><td>2999.99</td></tr><tr><td>456</td><td>2016-09-23</td><td>429.00</td></tr><tr><td>452</td><td>2016-09-22</td><td>3999.99</td></tr><tr><td>453</td><td>2016-09-22</td><td>2899.99</td></tr><tr><td>448</td><td>2016-09-21</td><td>469.99</td></tr><tr><td>449</td><td>2016-09-21</td><td>3999.99</td></tr><tr><td>450</td><td>2016-09-21</td><td>1320.99</td></tr><tr><td>451</td><td>2016-09-21</td><td>269.99</td></tr><tr><td>447</td><td>2016-09-20</td><td>2899.99</td></tr><tr><td>444</td><td>2016-09-19</td><td>1549.00</td></tr><tr><td>445</td><td>2016-09-19</td><td>3999.99</td></tr><tr><td>446</td><td>2016-09-19</td><td>599.99</td></tr><tr><td>441</td><td>2016-09-18</td><td>549.99</td></tr><tr><td>442</td><td>2016-09-18</td><td>599.99</td></tr><tr><td>443</td><td>2016-09-18</td><td>1320.99</td></tr><tr><td>439</td><td>2016-09-17</td><td>3999.99</td></tr><tr><td>440</td><td>2016-09-17</td><td>2899.99</td></tr><tr><td>436</td><td>2016-09-16</td><td>999.99</td></tr><tr><td>437</td><td>2016-09-16</td><td>1799.99</td></tr><tr><td>438</td><td>2016-09-16</td><td>2899.99</td></tr><tr><td>435</td><td>2016-09-14</td><td>2999.99</td></tr><tr><td>434</td><td>2016-09-13</td><td>2999.99</td></tr><tr><td>432</td><td>2016-09-12</td><td>3999.99</td></tr><tr><td>433</td><td>2016-09-12</td><td>2899.99</td></tr><tr><td>430</td><td>2016-09-11</td><td>2899.99</td></tr><tr><td>431</td><td>2016-09-11</td><td>469.99</td></tr><tr><td>429</td><td>2016-09-10</td><td>2899.99</td></tr><tr><td>427</td><td>2016-09-09</td><td>599.99</td></tr><tr><td>428</td><td>2016-09-09</td><td>1320.99</td></tr><tr><td>424</td><td>2016-09-08</td><td>469.99</td></tr><tr><td>425</td><td>2016-09-08</td><td>469.99</td></tr><tr><td>426</td><td>2016-09-08</td><td>1549.00</td></tr><tr><td>422</td><td>2016-09-06</td><td>599.99</td></tr><tr><td>423</td><td>2016-09-06</td><td>1799.99</td></tr><tr><td>420</td><td>2016-09-05</td><td>999.99</td></tr><tr><td>421</td><td>2016-09-05</td><td>2899.99</td></tr><tr><td>417</td><td>2016-09-04</td><td>599.99</td></tr><tr><td>418</td><td>2016-09-04</td><td>599.99</td></tr><tr><td>419</td><td>2016-09-04</td><td>2999.99</td></tr><tr><td>414</td><td>2016-09-03</td><td>2899.99</td></tr><tr><td>415</td><td>2016-09-03</td><td>1320.99</td></tr><tr><td>416</td><td>2016-09-03</td><td>549.99</td></tr><tr><td>411</td><td>2016-09-02</td><td>749.99</td></tr><tr><td>412</td><td>2016-09-02</td><td>3999.99</td></tr><tr><td>413</td><td>2016-09-02</td><td>2999.99</td></tr><tr><td>407</td><td>2016-09-01</td><td>1320.99</td></tr><tr><td>408</td><td>2016-09-01</td><td>999.99</td></tr><tr><td>409</td><td>2016-09-01</td><td>599.99</td></tr><tr><td>410</td><td>2016-09-01</td><td>2999.99</td></tr><tr><td>403</td><td>2016-08-31</td><td>3999.99</td></tr><tr><td>404</td><td>2016-08-31</td><td>2999.99</td></tr><tr><td>405</td><td>2016-08-31</td><td>1549.00</td></tr><tr><td>406</td><td>2016-08-31</td><td>2899.99</td></tr><tr><td>401</td><td>2016-08-30</td><td>1549.00</td></tr><tr><td>402</td><td>2016-08-30</td><td>1320.99</td></tr><tr><td>398</td><td>2016-08-29</td><td>1799.99</td></tr><tr><td>399</td><td>2016-08-29</td><td>1680.99</td></tr><tr><td>400</td><td>2016-08-29</td><td>2999.99</td></tr><tr><td>397</td><td>2016-08-28</td><td>3999.99</td></tr><tr><td>396</td><td>2016-08-27</td><td>1320.99</td></tr><tr><td>394</td><td>2016-08-26</td><td>599.99</td></tr><tr><td>395</td><td>2016-08-26</td><td>269.99</td></tr><tr><td>393</td><td>2016-08-25</td><td>469.99</td></tr><tr><td>391</td><td>2016-08-23</td><td>1799.99</td></tr><tr><td>392</td><td>2016-08-23</td><td>999.99</td></tr><tr><td>389</td><td>2016-08-22</td><td>2999.99</td></tr><tr><td>390</td><td>2016-08-22</td><td>3999.99</td></tr><tr><td>388</td><td>2016-08-21</td><td>1680.99</td></tr><tr><td>382</td><td>2016-08-20</td><td>2999.99</td></tr><tr><td>383</td><td>2016-08-20</td><td>449.00</td></tr><tr><td>384</td><td>2016-08-20</td><td>2899.99</td></tr><tr><td>385</td><td>2016-08-20</td><td>3999.99</td></tr><tr><td>386</td><td>2016-08-20</td><td>1799.99</td></tr><tr><td>387</td><td>2016-08-20</td><td>449.00</td></tr><tr><td>380</td><td>2016-08-19</td><td>1680.99</td></tr><tr><td>381</td><td>2016-08-19</td><td>269.99</td></tr><tr><td>379</td><td>2016-08-18</td><td>2999.99</td></tr><tr><td>374</td><td>2016-08-17</td><td>3999.99</td></tr><tr><td>375</td><td>2016-08-17</td><td>2899.99</td></tr><tr><td>376</td><td>2016-08-17</td><td>749.99</td></tr><tr><td>377</td><td>2016-08-17</td><td>1799.99</td></tr><tr><td>378</td><td>2016-08-17</td><td>599.99</td></tr><tr><td>372</td><td>2016-08-16</td><td>1680.99</td></tr><tr><td>373</td><td>2016-08-16</td><td>1799.99</td></tr><tr><td>369</td><td>2016-08-15</td><td>1549.00</td></tr><tr><td>370</td><td>2016-08-15</td><td>2899.99</td></tr><tr><td>371</td><td>2016-08-15</td><td>549.99</td></tr><tr><td>367</td><td>2016-08-14</td><td>1549.00</td></tr><tr><td>368</td><td>2016-08-14</td><td>1549.00</td></tr><tr><td>365</td><td>2016-08-13</td><td>549.99</td></tr><tr><td>366</td><td>2016-08-13</td><td>2899.99</td></tr><tr><td>364</td><td>2016-08-12</td><td>499.99</td></tr><tr><td>363</td><td>2016-08-11</td><td>599.99</td></tr><tr><td>362</td><td>2016-08-09</td><td>749.99</td></tr><tr><td>361</td><td>2016-08-08</td><td>1680.99</td></tr><tr><td>359</td><td>2016-08-07</td><td>3999.99</td></tr><tr><td>360</td><td>2016-08-07</td><td>3999.99</td></tr><tr><td>357</td><td>2016-08-05</td><td>2999.99</td></tr><tr><td>358</td><td>2016-08-05</td><td>1799.99</td></tr><tr><td>356</td><td>2016-08-04</td><td>2899.99</td></tr><tr><td>349</td><td>2016-08-03</td><td>599.99</td></tr><tr><td>350</td><td>2016-08-03</td><td>999.99</td></tr><tr><td>351</td><td>2016-08-03</td><td>2899.99</td></tr><tr><td>352</td><td>2016-08-03</td><td>1680.99</td></tr><tr><td>353</td><td>2016-08-03</td><td>749.99</td></tr><tr><td>354</td><td>2016-08-03</td><td>449.00</td></tr><tr><td>355</td><td>2016-08-03</td><td>599.99</td></tr><tr><td>347</td><td>2016-08-02</td><td>299.99</td></tr><tr><td>348</td><td>2016-08-02</td><td>1320.99</td></tr><tr><td>344</td><td>2016-08-01</td><td>449.00</td></tr><tr><td>345</td><td>2016-08-01</td><td>549.99</td></tr><tr><td>346</td><td>2016-08-01</td><td>529.99</td></tr><tr><td>341</td><td>2016-07-31</td><td>299.99</td></tr><tr><td>342</td><td>2016-07-31</td><td>2999.99</td></tr><tr><td>343</td><td>2016-07-31</td><td>1549.00</td></tr><tr><td>340</td><td>2016-07-29</td><td>1680.99</td></tr><tr><td>338</td><td>2016-07-28</td><td>2999.99</td></tr><tr><td>339</td><td>2016-07-28</td><td>529.99</td></tr><tr><td>336</td><td>2016-07-26</td><td>2899.99</td></tr><tr><td>337</td><td>2016-07-26</td><td>2899.99</td></tr><tr><td>333</td><td>2016-07-25</td><td>1799.99</td></tr><tr><td>334</td><td>2016-07-25</td><td>2999.99</td></tr><tr><td>335</td><td>2016-07-25</td><td>749.99</td></tr><tr><td>329</td><td>2016-07-24</td><td>1799.99</td></tr><tr><td>330</td><td>2016-07-24</td><td>269.99</td></tr><tr><td>331</td><td>2016-07-24</td><td>429.00</td></tr><tr><td>332</td><td>2016-07-24</td><td>449.00</td></tr><tr><td>328</td><td>2016-07-23</td><td>469.99</td></tr><tr><td>327</td><td>2016-07-21</td><td>2899.99</td></tr><tr><td>324</td><td>2016-07-20</td><td>749.99</td></tr><tr><td>325</td><td>2016-07-20</td><td>3999.99</td></tr><tr><td>326</td><td>2016-07-20</td><td>549.99</td></tr><tr><td>320</td><td>2016-07-19</td><td>749.99</td></tr><tr><td>321</td><td>2016-07-19</td><td>2899.99</td></tr><tr><td>322</td><td>2016-07-19</td><td>269.99</td></tr><tr><td>323</td><td>2016-07-19</td><td>599.99</td></tr><tr><td>319</td><td>2016-07-18</td><td>1680.99</td></tr><tr><td>316</td><td>2016-07-17</td><td>749.99</td></tr><tr><td>317</td><td>2016-07-17</td><td>1549.00</td></tr><tr><td>318</td><td>2016-07-17</td><td>2999.99</td></tr><tr><td>315</td><td>2016-07-16</td><td>2999.99</td></tr><tr><td>314</td><td>2016-07-15</td><td>3999.99</td></tr><tr><td>313</td><td>2016-07-14</td><td>2899.99</td></tr><tr><td>312</td><td>2016-07-13</td><td>599.99</td></tr><tr><td>310</td><td>2016-07-12</td><td>3999.99</td></tr><tr><td>311</td><td>2016-07-12</td><td>1320.99</td></tr><tr><td>308</td><td>2016-07-11</td><td>3999.99</td></tr><tr><td>309</td><td>2016-07-11</td><td>999.99</td></tr><tr><td>306</td><td>2016-07-09</td><td>1549.00</td></tr><tr><td>307</td><td>2016-07-09</td><td>529.99</td></tr><tr><td>303</td><td>2016-07-07</td><td>1799.99</td></tr><tr><td>304</td><td>2016-07-07</td><td>3999.99</td></tr><tr><td>305</td><td>2016-07-07</td><td>1549.00</td></tr><tr><td>301</td><td>2016-07-06</td><td>469.99</td></tr><tr><td>302</td><td>2016-07-06</td><td>749.99</td></tr><tr><td>299</td><td>2016-07-05</td><td>1680.99</td></tr><tr><td>300</td><td>2016-07-05</td><td>2999.99</td></tr><tr><td>296</td><td>2016-07-04</td><td>2999.99</td></tr><tr><td>297</td><td>2016-07-04</td><td>2899.99</td></tr><tr><td>298</td><td>2016-07-04</td><td>2999.99</td></tr><tr><td>294</td><td>2016-07-01</td><td>3999.99</td></tr><tr><td>295</td><td>2016-07-01</td><td>269.99</td></tr><tr><td>293</td><td>2016-06-30</td><td>469.99</td></tr><tr><td>291</td><td>2016-06-29</td><td>469.99</td></tr><tr><td>292</td><td>2016-06-29</td><td>2899.99</td></tr><tr><td>290</td><td>2016-06-28</td><td>1320.99</td></tr><tr><td>289</td><td>2016-06-27</td><td>549.99</td></tr><tr><td>285</td><td>2016-06-25</td><td>749.99</td></tr><tr><td>286</td><td>2016-06-25</td><td>3999.99</td></tr><tr><td>287</td><td>2016-06-25</td><td>1549.00</td></tr><tr><td>288</td><td>2016-06-25</td><td>3999.99</td></tr><tr><td>283</td><td>2016-06-23</td><td>2999.99</td></tr><tr><td>284</td><td>2016-06-23</td><td>599.99</td></tr><tr><td>282</td><td>2016-06-22</td><td>3999.99</td></tr><tr><td>279</td><td>2016-06-21</td><td>499.99</td></tr><tr><td>280</td><td>2016-06-21</td><td>599.99</td></tr><tr><td>281</td><td>2016-06-21</td><td>3999.99</td></tr><tr><td>278</td><td>2016-06-20</td><td>1680.99</td></tr><tr><td>277</td><td>2016-06-19</td><td>599.99</td></tr><tr><td>276</td><td>2016-06-18</td><td>2999.99</td></tr><tr><td>274</td><td>2016-06-17</td><td>2999.99</td></tr><tr><td>275</td><td>2016-06-17</td><td>3999.99</td></tr><tr><td>273</td><td>2016-06-16</td><td>269.99</td></tr><tr><td>272</td><td>2016-06-15</td><td>1680.99</td></tr><tr><td>271</td><td>2016-06-13</td><td>3999.99</td></tr><tr><td>269</td><td>2016-06-12</td><td>1320.99</td></tr><tr><td>270</td><td>2016-06-12</td><td>529.99</td></tr><tr><td>267</td><td>2016-06-11</td><td>3999.99</td></tr><tr><td>268</td><td>2016-06-11</td><td>3999.99</td></tr><tr><td>264</td><td>2016-06-10</td><td>1549.00</td></tr><tr><td>265</td><td>2016-06-10</td><td>2999.99</td></tr><tr><td>266</td><td>2016-06-10</td><td>499.99</td></tr><tr><td>263</td><td>2016-06-09</td><td>2999.99</td></tr><tr><td>261</td><td>2016-06-08</td><td>599.99</td></tr><tr><td>262</td><td>2016-06-08</td><td>2999.99</td></tr><tr><td>258</td><td>2016-06-06</td><td>2899.99</td></tr><tr><td>259</td><td>2016-06-06</td><td>2899.99</td></tr><tr><td>260</td><td>2016-06-06</td><td>1549.00</td></tr><tr><td>257</td><td>2016-06-05</td><td>1799.99</td></tr><tr><td>256</td><td>2016-06-04</td><td>1680.99</td></tr><tr><td>254</td><td>2016-06-03</td><td>999.99</td></tr><tr><td>255</td><td>2016-06-03</td><td>1320.99</td></tr><tr><td>253</td><td>2016-06-02</td><td>1680.99</td></tr><tr><td>249</td><td>2016-06-01</td><td>3999.99</td></tr><tr><td>250</td><td>2016-06-01</td><td>1680.99</td></tr><tr><td>251</td><td>2016-06-01</td><td>299.99</td></tr><tr><td>252</td><td>2016-06-01</td><td>2899.99</td></tr><tr><td>246</td><td>2016-05-30</td><td>429.00</td></tr><tr><td>247</td><td>2016-05-30</td><td>999.99</td></tr><tr><td>248</td><td>2016-05-30</td><td>2999.99</td></tr><tr><td>245</td><td>2016-05-29</td><td>1799.99</td></tr><tr><td>244</td><td>2016-05-28</td><td>499.99</td></tr><tr><td>239</td><td>2016-05-27</td><td>2899.99</td></tr><tr><td>240</td><td>2016-05-27</td><td>2999.99</td></tr><tr><td>241</td><td>2016-05-27</td><td>3999.99</td></tr><tr><td>242</td><td>2016-05-27</td><td>999.99</td></tr><tr><td>243</td><td>2016-05-27</td><td>3999.99</td></tr><tr><td>238</td><td>2016-05-26</td><td>3999.99</td></tr><tr><td>236</td><td>2016-05-25</td><td>2899.99</td></tr><tr><td>237</td><td>2016-05-25</td><td>599.99</td></tr><tr><td>235</td><td>2016-05-24</td><td>3999.99</td></tr><tr><td>234</td><td>2016-05-22</td><td>3999.99</td></tr><tr><td>233</td><td>2016-05-21</td><td>599.99</td></tr><tr><td>232</td><td>2016-05-20</td><td>1799.99</td></tr><tr><td>229</td><td>2016-05-19</td><td>1799.99</td></tr><tr><td>230</td><td>2016-05-19</td><td>1680.99</td></tr><tr><td>231</td><td>2016-05-19</td><td>1799.99</td></tr><tr><td>224</td><td>2016-05-17</td><td>1680.99</td></tr><tr><td>225</td><td>2016-05-17</td><td>2999.99</td></tr><tr><td>226</td><td>2016-05-17</td><td>749.99</td></tr><tr><td>227</td><td>2016-05-17</td><td>999.99</td></tr><tr><td>228</td><td>2016-05-17</td><td>2899.99</td></tr><tr><td>223</td><td>2016-05-15</td><td>3999.99</td></tr><tr><td>221</td><td>2016-05-13</td><td>1680.99</td></tr><tr><td>222</td><td>2016-05-13</td><td>1549.00</td></tr><tr><td>218</td><td>2016-05-12</td><td>749.99</td></tr><tr><td>219</td><td>2016-05-12</td><td>1320.99</td></tr><tr><td>220</td><td>2016-05-12</td><td>999.99</td></tr><tr><td>216</td><td>2016-05-11</td><td>599.99</td></tr><tr><td>217</td><td>2016-05-11</td><td>1549.00</td></tr><tr><td>214</td><td>2016-05-10</td><td>269.99</td></tr><tr><td>215</td><td>2016-05-10</td><td>549.99</td></tr><tr><td>212</td><td>2016-05-08</td><td>3999.99</td></tr><tr><td>213</td><td>2016-05-08</td><td>269.99</td></tr><tr><td>209</td><td>2016-05-07</td><td>269.99</td></tr><tr><td>210</td><td>2016-05-07</td><td>269.99</td></tr><tr><td>211</td><td>2016-05-07</td><td>1549.00</td></tr><tr><td>208</td><td>2016-05-06</td><td>2899.99</td></tr><tr><td>207</td><td>2016-05-05</td><td>3999.99</td></tr><tr><td>204</td><td>2016-05-04</td><td>469.99</td></tr><tr><td>205</td><td>2016-05-04</td><td>549.99</td></tr><tr><td>206</td><td>2016-05-04</td><td>599.99</td></tr><tr><td>202</td><td>2016-05-03</td><td>1799.99</td></tr><tr><td>203</td><td>2016-05-03</td><td>999.99</td></tr><tr><td>198</td><td>2016-05-01</td><td>1799.99</td></tr><tr><td>199</td><td>2016-05-01</td><td>2899.99</td></tr><tr><td>200</td><td>2016-05-01</td><td>299.99</td></tr><tr><td>201</td><td>2016-05-01</td><td>3999.99</td></tr><tr><td>197</td><td>2016-04-30</td><td>2899.99</td></tr><tr><td>193</td><td>2016-04-28</td><td>549.99</td></tr><tr><td>194</td><td>2016-04-28</td><td>269.99</td></tr><tr><td>195</td><td>2016-04-28</td><td>2899.99</td></tr><tr><td>196</td><td>2016-04-28</td><td>1549.00</td></tr><tr><td>191</td><td>2016-04-27</td><td>1799.99</td></tr><tr><td>192</td><td>2016-04-27</td><td>1799.99</td></tr><tr><td>189</td><td>2016-04-23</td><td>599.99</td></tr><tr><td>190</td><td>2016-04-23</td><td>999.99</td></tr><tr><td>187</td><td>2016-04-22</td><td>1320.99</td></tr><tr><td>188</td><td>2016-04-22</td><td>3999.99</td></tr><tr><td>186</td><td>2016-04-21</td><td>2899.99</td></tr><tr><td>185</td><td>2016-04-20</td><td>1799.99</td></tr><tr><td>183</td><td>2016-04-19</td><td>1680.99</td></tr><tr><td>184</td><td>2016-04-19</td><td>2899.99</td></tr><tr><td>181</td><td>2016-04-18</td><td>1680.99</td></tr><tr><td>182</td><td>2016-04-18</td><td>549.99</td></tr><tr><td>179</td><td>2016-04-17</td><td>599.99</td></tr><tr><td>180</td><td>2016-04-17</td><td>599.99</td></tr><tr><td>177</td><td>2016-04-16</td><td>599.99</td></tr><tr><td>178</td><td>2016-04-16</td><td>1549.00</td></tr><tr><td>176</td><td>2016-04-15</td><td>1680.99</td></tr><tr><td>175</td><td>2016-04-13</td><td>1320.99</td></tr><tr><td>174</td><td>2016-04-12</td><td>449.00</td></tr><tr><td>171</td><td>2016-04-11</td><td>1799.99</td></tr><tr><td>172</td><td>2016-04-11</td><td>599.99</td></tr><tr><td>173</td><td>2016-04-11</td><td>599.99</td></tr><tr><td>169</td><td>2016-04-10</td><td>1680.99</td></tr><tr><td>170</td><td>2016-04-10</td><td>3999.99</td></tr><tr><td>168</td><td>2016-04-09</td><td>1680.99</td></tr><tr><td>165</td><td>2016-04-08</td><td>2899.99</td></tr><tr><td>166</td><td>2016-04-08</td><td>1680.99</td></tr><tr><td>167</td><td>2016-04-08</td><td>3999.99</td></tr><tr><td>164</td><td>2016-04-07</td><td>2899.99</td></tr><tr><td>162</td><td>2016-04-06</td><td>999.99</td></tr><tr><td>163</td><td>2016-04-06</td><td>549.99</td></tr><tr><td>158</td><td>2016-04-04</td><td>549.99</td></tr><tr><td>159</td><td>2016-04-04</td><td>269.99</td></tr><tr><td>160</td><td>2016-04-04</td><td>1680.99</td></tr><tr><td>161</td><td>2016-04-04</td><td>3999.99</td></tr><tr><td>156</td><td>2016-04-03</td><td>469.99</td></tr><tr><td>157</td><td>2016-04-03</td><td>3999.99</td></tr><tr><td>155</td><td>2016-04-02</td><td>1799.99</td></tr><tr><td>154</td><td>2016-03-31</td><td>549.99</td></tr><tr><td>153</td><td>2016-03-30</td><td>1799.99</td></tr><tr><td>150</td><td>2016-03-29</td><td>3999.99</td></tr><tr><td>151</td><td>2016-03-29</td><td>599.99</td></tr><tr><td>152</td><td>2016-03-29</td><td>599.99</td></tr><tr><td>146</td><td>2016-03-28</td><td>999.99</td></tr><tr><td>147</td><td>2016-03-28</td><td>599.99</td></tr><tr><td>148</td><td>2016-03-28</td><td>269.99</td></tr><tr><td>149</td><td>2016-03-28</td><td>549.99</td></tr><tr><td>145</td><td>2016-03-27</td><td>2999.99</td></tr><tr><td>142</td><td>2016-03-26</td><td>1680.99</td></tr><tr><td>143</td><td>2016-03-26</td><td>469.99</td></tr><tr><td>144</td><td>2016-03-26</td><td>1799.99</td></tr><tr><td>141</td><td>2016-03-25</td><td>449.00</td></tr><tr><td>137</td><td>2016-03-23</td><td>299.99</td></tr><tr><td>138</td><td>2016-03-23</td><td>599.99</td></tr><tr><td>139</td><td>2016-03-23</td><td>999.99</td></tr><tr><td>140</td><td>2016-03-23</td><td>999.99</td></tr><tr><td>135</td><td>2016-03-21</td><td>1320.99</td></tr><tr><td>136</td><td>2016-03-21</td><td>3999.99</td></tr><tr><td>132</td><td>2016-03-20</td><td>2999.99</td></tr><tr><td>133</td><td>2016-03-20</td><td>269.99</td></tr><tr><td>134</td><td>2016-03-20</td><td>749.99</td></tr><tr><td>129</td><td>2016-03-19</td><td>2999.99</td></tr><tr><td>130</td><td>2016-03-19</td><td>1320.99</td></tr><tr><td>131</td><td>2016-03-19</td><td>2899.99</td></tr><tr><td>128</td><td>2016-03-18</td><td>2899.99</td></tr><tr><td>127</td><td>2016-03-17</td><td>2899.99</td></tr><tr><td>124</td><td>2016-03-16</td><td>3999.99</td></tr><tr><td>125</td><td>2016-03-16</td><td>429.00</td></tr><tr><td>126</td><td>2016-03-16</td><td>2999.99</td></tr><tr><td>123</td><td>2016-03-15</td><td>549.99</td></tr><tr><td>120</td><td>2016-03-14</td><td>1549.00</td></tr><tr><td>121</td><td>2016-03-14</td><td>2899.99</td></tr><tr><td>122</td><td>2016-03-14</td><td>599.99</td></tr><tr><td>118</td><td>2016-03-12</td><td>2899.99</td></tr><tr><td>119</td><td>2016-03-12</td><td>499.99</td></tr><tr><td>116</td><td>2016-03-10</td><td>599.99</td></tr><tr><td>117</td><td>2016-03-10</td><td>599.99</td></tr><tr><td>115</td><td>2016-03-09</td><td>449.00</td></tr><tr><td>112</td><td>2016-03-08</td><td>1320.99</td></tr><tr><td>113</td><td>2016-03-08</td><td>1320.99</td></tr><tr><td>114</td><td>2016-03-08</td><td>749.99</td></tr><tr><td>111</td><td>2016-03-07</td><td>549.99</td></tr><tr><td>107</td><td>2016-03-06</td><td>449.00</td></tr><tr><td>108</td><td>2016-03-06</td><td>1680.99</td></tr><tr><td>109</td><td>2016-03-06</td><td>469.99</td></tr><tr><td>110</td><td>2016-03-06</td><td>269.99</td></tr><tr><td>106</td><td>2016-03-04</td><td>429.00</td></tr><tr><td>103</td><td>2016-03-03</td><td>2999.99</td></tr><tr><td>104</td><td>2016-03-03</td><td>599.99</td></tr><tr><td>105</td><td>2016-03-03</td><td>2999.99</td></tr><tr><td>102</td><td>2016-03-02</td><td>529.99</td></tr><tr><td>100</td><td>2016-03-01</td><td>3999.99</td></tr><tr><td>101</td><td>2016-03-01</td><td>549.99</td></tr><tr><td>99</td><td>2016-02-29</td><td>3999.99</td></tr><tr><td>97</td><td>2016-02-28</td><td>749.99</td></tr><tr><td>98</td><td>2016-02-28</td><td>749.99</td></tr><tr><td>94</td><td>2016-02-27</td><td>2899.99</td></tr><tr><td>95</td><td>2016-02-27</td><td>1799.99</td></tr><tr><td>96</td><td>2016-02-27</td><td>599.99</td></tr><tr><td>93</td><td>2016-02-26</td><td>1549.00</td></tr><tr><td>91</td><td>2016-02-25</td><td>1680.99</td></tr><tr><td>92</td><td>2016-02-25</td><td>1799.99</td></tr><tr><td>90</td><td>2016-02-23</td><td>999.99</td></tr><tr><td>86</td><td>2016-02-21</td><td>2999.99</td></tr><tr><td>87</td><td>2016-02-21</td><td>599.99</td></tr><tr><td>88</td><td>2016-02-21</td><td>3999.99</td></tr><tr><td>89</td><td>2016-02-21</td><td>1320.99</td></tr><tr><td>84</td><td>2016-02-20</td><td>529.99</td></tr><tr><td>85</td><td>2016-02-20</td><td>2899.99</td></tr><tr><td>83</td><td>2016-02-19</td><td>999.99</td></tr><tr><td>82</td><td>2016-02-18</td><td>1680.99</td></tr><tr><td>79</td><td>2016-02-17</td><td>2999.99</td></tr><tr><td>80</td><td>2016-02-17</td><td>599.99</td></tr><tr><td>81</td><td>2016-02-17</td><td>1549.00</td></tr><tr><td>76</td><td>2016-02-16</td><td>1680.99</td></tr><tr><td>77</td><td>2016-02-16</td><td>599.99</td></tr><tr><td>78</td><td>2016-02-16</td><td>449.00</td></tr><tr><td>75</td><td>2016-02-14</td><td>3999.99</td></tr><tr><td>74</td><td>2016-02-13</td><td>599.99</td></tr><tr><td>72</td><td>2016-02-12</td><td>549.99</td></tr><tr><td>73</td><td>2016-02-12</td><td>999.99</td></tr><tr><td>70</td><td>2016-02-11</td><td>999.99</td></tr><tr><td>71</td><td>2016-02-11</td><td>599.99</td></tr><tr><td>68</td><td>2016-02-10</td><td>429.00</td></tr><tr><td>69</td><td>2016-02-10</td><td>1549.00</td></tr><tr><td>66</td><td>2016-02-09</td><td>749.99</td></tr><tr><td>67</td><td>2016-02-09</td><td>1320.99</td></tr><tr><td>65</td><td>2016-02-08</td><td>549.99</td></tr><tr><td>62</td><td>2016-02-07</td><td>1799.99</td></tr><tr><td>63</td><td>2016-02-07</td><td>999.99</td></tr><tr><td>64</td><td>2016-02-07</td><td>549.99</td></tr><tr><td>60</td><td>2016-02-06</td><td>2899.99</td></tr><tr><td>61</td><td>2016-02-06</td><td>1320.99</td></tr><tr><td>58</td><td>2016-02-05</td><td>449.00</td></tr><tr><td>59</td><td>2016-02-05</td><td>749.99</td></tr><tr><td>54</td><td>2016-02-04</td><td>999.99</td></tr><tr><td>55</td><td>2016-02-04</td><td>529.99</td></tr><tr><td>56</td><td>2016-02-04</td><td>599.99</td></tr><tr><td>57</td><td>2016-02-04</td><td>449.00</td></tr><tr><td>52</td><td>2016-02-03</td><td>499.99</td></tr><tr><td>53</td><td>2016-02-03</td><td>1799.99</td></tr><tr><td>51</td><td>2016-02-01</td><td>599.99</td></tr><tr><td>49</td><td>2016-01-31</td><td>269.99</td></tr><tr><td>50</td><td>2016-01-31</td><td>999.99</td></tr><tr><td>48</td><td>2016-01-30</td><td>2899.99</td></tr><tr><td>46</td><td>2016-01-29</td><td>429.00</td></tr><tr><td>47</td><td>2016-01-29</td><td>529.99</td></tr><tr><td>44</td><td>2016-01-28</td><td>3999.99</td></tr><tr><td>45</td><td>2016-01-28</td><td>2899.99</td></tr><tr><td>40</td><td>2016-01-27</td><td>1799.99</td></tr><tr><td>41</td><td>2016-01-27</td><td>1320.99</td></tr><tr><td>42</td><td>2016-01-27</td><td>449.00</td></tr><tr><td>43</td><td>2016-01-27</td><td>549.99</td></tr><tr><td>37</td><td>2016-01-25</td><td>599.99</td></tr><tr><td>38</td><td>2016-01-25</td><td>3999.99</td></tr><tr><td>39</td><td>2016-01-25</td><td>999.99</td></tr><tr><td>36</td><td>2016-01-23</td><td>2999.99</td></tr><tr><td>34</td><td>2016-01-22</td><td>1799.99</td></tr><tr><td>35</td><td>2016-01-22</td><td>1320.99</td></tr><tr><td>32</td><td>2016-01-21</td><td>1799.99</td></tr><tr><td>33</td><td>2016-01-21</td><td>3999.99</td></tr><tr><td>29</td><td>2016-01-20</td><td>1799.99</td></tr><tr><td>30</td><td>2016-01-20</td><td>3999.99</td></tr><tr><td>31</td><td>2016-01-20</td><td>2999.99</td></tr><tr><td>27</td><td>2016-01-19</td><td>1799.99</td></tr><tr><td>28</td><td>2016-01-19</td><td>3999.99</td></tr><tr><td>24</td><td>2016-01-18</td><td>999.99</td></tr><tr><td>25</td><td>2016-01-18</td><td>1549.00</td></tr><tr><td>26</td><td>2016-01-18</td><td>3999.99</td></tr><tr><td>22</td><td>2016-01-16</td><td>529.99</td></tr><tr><td>23</td><td>2016-01-16</td><td>2899.99</td></tr><tr><td>21</td><td>2016-01-15</td><td>1549.00</td></tr><tr><td>18</td><td>2016-01-14</td><td>3999.99</td></tr><tr><td>19</td><td>2016-01-14</td><td>2999.99</td></tr><tr><td>20</td><td>2016-01-14</td><td>2999.99</td></tr><tr><td>16</td><td>2016-01-12</td><td>1799.99</td></tr><tr><td>17</td><td>2016-01-12</td><td>1799.99</td></tr><tr><td>14</td><td>2016-01-09</td><td>469.99</td></tr><tr><td>15</td><td>2016-01-09</td><td>1799.99</td></tr><tr><td>13</td><td>2016-01-08</td><td>599.99</td></tr><tr><td>12</td><td>2016-01-06</td><td>2899.99</td></tr><tr><td>9</td><td>2016-01-05</td><td>3999.99</td></tr><tr><td>10</td><td>2016-01-05</td><td>269.99</td></tr><tr><td>11</td><td>2016-01-05</td><td>1799.99</td></tr><tr><td>6</td><td>2016-01-04</td><td>2999.99</td></tr><tr><td>7</td><td>2016-01-04</td><td>999.99</td></tr><tr><td>8</td><td>2016-01-04</td><td>599.99</td></tr><tr><td>4</td><td>2016-01-03</td><td>749.99</td></tr><tr><td>5</td><td>2016-01-03</td><td>1549.00</td></tr><tr><td>3</td><td>2016-01-02</td><td>999.99</td></tr><tr><td>1</td><td>2016-01-01</td><td>2899.99</td></tr><tr><td>2</td><td>2016-01-01</td><td>599.99</td></tr></table>"
                    },
                    "metadata": {}
                }
            ],
            "execution_count": 3
        },
        {
            "cell_type": "markdown",
            "source": [
                "### **3\\. Busca los nombres de todos los productos de bicicletas de montaña y de carretera que venden las tiendas de bicicletas.**"
            ],
            "metadata": {
                "azdata_cell_guid": "aa916ef0-e09b-4bf1-b595-97a20f643865"
            },
            "attachments": {}
        },
        {
            "cell_type": "code",
            "source": [
                "SELECT product_id, product_name\r\n",
                "FROM production.products\r\n",
                "WHERE category_id IN (\r\n",
                "    SELECT category_id\r\n",
                "    FROM production.categories\r\n",
                "\tWHERE category_name = 'Mountain Bikes' OR category_name = 'Road Bikes')"
            ],
            "metadata": {
                "azdata_cell_guid": "e838c808-8747-4426-aa20-24305203334d",
                "language": "sql"
            },
            "outputs": [
                {
                    "output_type": "display_data",
                    "data": {
                        "text/html": "(120 filas afectadas)"
                    },
                    "metadata": {}
                },
                {
                    "output_type": "display_data",
                    "data": {
                        "text/html": "Tiempo total de ejecución: 00:00:00.065"
                    },
                    "metadata": {}
                },
                {
                    "output_type": "execute_result",
                    "execution_count": 4,
                    "data": {
                        "application/vnd.dataresource+json": {
                            "schema": {
                                "fields": [
                                    {
                                        "name": "product_id"
                                    },
                                    {
                                        "name": "product_name"
                                    }
                                ]
                            },
                            "data": [
                                {
                                    "product_id": "1",
                                    "product_name": "Trek 820 - 2016"
                                },
                                {
                                    "product_id": "2",
                                    "product_name": "Ritchey Timberwolf Frameset - 2016"
                                },
                                {
                                    "product_id": "3",
                                    "product_name": "Surly Wednesday Frameset - 2016"
                                },
                                {
                                    "product_id": "4",
                                    "product_name": "Trek Fuel EX 8 29 - 2016"
                                },
                                {
                                    "product_id": "5",
                                    "product_name": "Heller Shagamaw Frame - 2016"
                                },
                                {
                                    "product_id": "6",
                                    "product_name": "Surly Ice Cream Truck Frameset - 2016"
                                },
                                {
                                    "product_id": "7",
                                    "product_name": "Trek Slash 8 27.5 - 2016"
                                },
                                {
                                    "product_id": "8",
                                    "product_name": "Trek Remedy 29 Carbon Frameset - 2016"
                                },
                                {
                                    "product_id": "27",
                                    "product_name": "Surly Big Dummy Frameset - 2017"
                                },
                                {
                                    "product_id": "28",
                                    "product_name": "Surly Karate Monkey 27.5+ Frameset - 2017"
                                },
                                {
                                    "product_id": "29",
                                    "product_name": "Trek X-Caliber 8 - 2017"
                                },
                                {
                                    "product_id": "30",
                                    "product_name": "Surly Ice Cream Truck Frameset - 2017"
                                },
                                {
                                    "product_id": "31",
                                    "product_name": "Surly Wednesday - 2017"
                                },
                                {
                                    "product_id": "32",
                                    "product_name": "Trek Farley Alloy Frameset - 2017"
                                },
                                {
                                    "product_id": "33",
                                    "product_name": "Surly Wednesday Frameset - 2017"
                                },
                                {
                                    "product_id": "34",
                                    "product_name": "Trek Session DH 27.5 Carbon Frameset - 2017"
                                },
                                {
                                    "product_id": "35",
                                    "product_name": "Sun Bicycles Spider 3i - 2017"
                                },
                                {
                                    "product_id": "36",
                                    "product_name": "Surly Troll Frameset - 2017"
                                },
                                {
                                    "product_id": "37",
                                    "product_name": "Haro Flightline One ST - 2017"
                                },
                                {
                                    "product_id": "38",
                                    "product_name": "Haro Flightline Two 26 Plus - 2017"
                                },
                                {
                                    "product_id": "39",
                                    "product_name": "Trek Stache 5 - 2017"
                                },
                                {
                                    "product_id": "40",
                                    "product_name": "Trek Fuel EX 9.8 29 - 2017"
                                },
                                {
                                    "product_id": "41",
                                    "product_name": "Haro Shift R3 - 2017"
                                },
                                {
                                    "product_id": "42",
                                    "product_name": "Trek Fuel EX 5 27.5 Plus - 2017"
                                },
                                {
                                    "product_id": "43",
                                    "product_name": "Trek Fuel EX 9.8 27.5 Plus - 2017"
                                },
                                {
                                    "product_id": "44",
                                    "product_name": "Haro SR 1.1 - 2017"
                                },
                                {
                                    "product_id": "45",
                                    "product_name": "Haro SR 1.2 - 2017"
                                },
                                {
                                    "product_id": "46",
                                    "product_name": "Haro SR 1.3 - 2017"
                                },
                                {
                                    "product_id": "47",
                                    "product_name": "Trek Remedy 9.8 - 2017"
                                },
                                {
                                    "product_id": "48",
                                    "product_name": "Trek Emonda S 4 - 2017"
                                },
                                {
                                    "product_id": "49",
                                    "product_name": "Trek Domane SL 6 - 2017"
                                },
                                {
                                    "product_id": "50",
                                    "product_name": "Trek Silque SLR 7 Women's - 2017"
                                },
                                {
                                    "product_id": "51",
                                    "product_name": "Trek Silque SLR 8 Women's - 2017"
                                },
                                {
                                    "product_id": "52",
                                    "product_name": "Surly Steamroller - 2017"
                                },
                                {
                                    "product_id": "53",
                                    "product_name": "Surly Ogre Frameset - 2017"
                                },
                                {
                                    "product_id": "54",
                                    "product_name": "Trek Domane SL Disc Frameset - 2017"
                                },
                                {
                                    "product_id": "55",
                                    "product_name": "Trek Domane S 6 - 2017"
                                },
                                {
                                    "product_id": "56",
                                    "product_name": "Trek Domane SLR 6 Disc - 2017"
                                },
                                {
                                    "product_id": "57",
                                    "product_name": "Trek Emonda S 5 - 2017"
                                },
                                {
                                    "product_id": "58",
                                    "product_name": "Trek Madone 9.2 - 2017"
                                },
                                {
                                    "product_id": "59",
                                    "product_name": "Trek Domane S 5 Disc - 2017"
                                },
                                {
                                    "product_id": "112",
                                    "product_name": "Trek 820 - 2018"
                                },
                                {
                                    "product_id": "113",
                                    "product_name": "Trek Marlin 5 - 2018"
                                },
                                {
                                    "product_id": "114",
                                    "product_name": "Trek Marlin 6 - 2018"
                                },
                                {
                                    "product_id": "115",
                                    "product_name": "Trek Fuel EX 8 29 - 2018"
                                },
                                {
                                    "product_id": "116",
                                    "product_name": "Trek Marlin 7 - 2017/2018"
                                },
                                {
                                    "product_id": "117",
                                    "product_name": "Trek Ticket S Frame - 2018"
                                },
                                {
                                    "product_id": "118",
                                    "product_name": "Trek X-Caliber 8 - 2018"
                                },
                                {
                                    "product_id": "119",
                                    "product_name": "Trek Kids' Neko - 2018"
                                },
                                {
                                    "product_id": "120",
                                    "product_name": "Trek Fuel EX 7 29 - 2018"
                                },
                                {
                                    "product_id": "121",
                                    "product_name": "Surly Krampus Frameset - 2018"
                                },
                                {
                                    "product_id": "122",
                                    "product_name": "Surly Troll Frameset - 2018"
                                },
                                {
                                    "product_id": "123",
                                    "product_name": "Trek Farley Carbon Frameset - 2018"
                                },
                                {
                                    "product_id": "124",
                                    "product_name": "Surly Krampus - 2018"
                                },
                                {
                                    "product_id": "125",
                                    "product_name": "Trek Kids' Dual Sport - 2018"
                                },
                                {
                                    "product_id": "126",
                                    "product_name": "Surly Big Fat Dummy Frameset - 2018"
                                },
                                {
                                    "product_id": "127",
                                    "product_name": "Surly Pack Rat Frameset - 2018"
                                },
                                {
                                    "product_id": "128",
                                    "product_name": "Surly ECR 27.5 - 2018"
                                },
                                {
                                    "product_id": "129",
                                    "product_name": "Trek X-Caliber 7 - 2018"
                                },
                                {
                                    "product_id": "130",
                                    "product_name": "Trek Stache Carbon Frameset - 2018"
                                },
                                {
                                    "product_id": "131",
                                    "product_name": "Heller Bloodhound Trail - 2018"
                                },
                                {
                                    "product_id": "132",
                                    "product_name": "Trek Procal AL Frameset - 2018"
                                },
                                {
                                    "product_id": "133",
                                    "product_name": "Trek Procaliber Frameset - 2018"
                                },
                                {
                                    "product_id": "134",
                                    "product_name": "Trek Remedy 27.5 C Frameset - 2018"
                                },
                                {
                                    "product_id": "135",
                                    "product_name": "Trek X-Caliber Frameset - 2018"
                                },
                                {
                                    "product_id": "136",
                                    "product_name": "Trek Procaliber 6 - 2018"
                                },
                                {
                                    "product_id": "137",
                                    "product_name": "Heller Shagamaw GX1 - 2018"
                                },
                                {
                                    "product_id": "138",
                                    "product_name": "Trek Fuel EX 5 Plus - 2018"
                                },
                                {
                                    "product_id": "139",
                                    "product_name": "Trek Remedy 7 27.5 - 2018"
                                },
                                {
                                    "product_id": "140",
                                    "product_name": "Trek Remedy 9.8 27.5 - 2018"
                                },
                                {
                                    "product_id": "141",
                                    "product_name": "Trek Stache 5 - 2018"
                                },
                                {
                                    "product_id": "142",
                                    "product_name": "Trek Fuel EX 8 29 XT - 2018"
                                },
                                {
                                    "product_id": "143",
                                    "product_name": "Trek Domane ALR 3 - 2018"
                                },
                                {
                                    "product_id": "144",
                                    "product_name": "Trek Domane ALR 4 Disc - 2018"
                                },
                                {
                                    "product_id": "145",
                                    "product_name": "Trek Domane ALR 5 Disc - 2018"
                                },
                                {
                                    "product_id": "146",
                                    "product_name": "Trek Domane SLR 6 - 2018"
                                },
                                {
                                    "product_id": "147",
                                    "product_name": "Trek Domane ALR 5 Gravel - 2018"
                                },
                                {
                                    "product_id": "148",
                                    "product_name": "Trek Domane SL 8 Disc - 2018"
                                },
                                {
                                    "product_id": "149",
                                    "product_name": "Trek Domane SLR 8 Disc - 2018"
                                },
                                {
                                    "product_id": "150",
                                    "product_name": "Trek Emonda SL 7 - 2018"
                                },
                                {
                                    "product_id": "151",
                                    "product_name": "Trek Domane ALR 4 Disc Women's - 2018"
                                },
                                {
                                    "product_id": "152",
                                    "product_name": "Trek Domane SL 5 Disc Women's - 2018"
                                },
                                {
                                    "product_id": "153",
                                    "product_name": "Trek Domane SL 7 Women's - 2018"
                                },
                                {
                                    "product_id": "154",
                                    "product_name": "Trek Domane SLR 6 Disc Women's - 2018"
                                },
                                {
                                    "product_id": "155",
                                    "product_name": "Trek Domane SLR 9 Disc - 2018"
                                },
                                {
                                    "product_id": "156",
                                    "product_name": "Trek Domane SL Frameset - 2018"
                                },
                                {
                                    "product_id": "157",
                                    "product_name": "Trek Domane SL Frameset Women's - 2018"
                                },
                                {
                                    "product_id": "158",
                                    "product_name": "Trek CrossRip 1 - 2018"
                                },
                                {
                                    "product_id": "159",
                                    "product_name": "Trek Emonda ALR 6 - 2018"
                                },
                                {
                                    "product_id": "160",
                                    "product_name": "Trek Emonda SLR 6 - 2018"
                                },
                                {
                                    "product_id": "161",
                                    "product_name": "Surly ECR - 2018"
                                },
                                {
                                    "product_id": "162",
                                    "product_name": "Trek Emonda SL 6 Disc - 2018"
                                },
                                {
                                    "product_id": "163",
                                    "product_name": "Surly Pack Rat - 2018"
                                },
                                {
                                    "product_id": "164",
                                    "product_name": "Surly Straggler 650b - 2018"
                                },
                                {
                                    "product_id": "165",
                                    "product_name": "Trek 1120 - 2018"
                                },
                                {
                                    "product_id": "166",
                                    "product_name": "Trek Domane AL 2 Women's - 2018"
                                },
                                {
                                    "product_id": "167",
                                    "product_name": "Surly ECR Frameset - 2018"
                                },
                                {
                                    "product_id": "168",
                                    "product_name": "Surly Straggler - 2018"
                                },
                                {
                                    "product_id": "169",
                                    "product_name": "Trek Emonda SLR 8 - 2018"
                                },
                                {
                                    "product_id": "170",
                                    "product_name": "Trek CrossRip 2 - 2018"
                                },
                                {
                                    "product_id": "171",
                                    "product_name": "Trek Domane SL 6 - 2018"
                                },
                                {
                                    "product_id": "172",
                                    "product_name": "Trek Domane ALR Disc Frameset - 2018"
                                },
                                {
                                    "product_id": "173",
                                    "product_name": "Trek Domane ALR Frameset - 2018"
                                },
                                {
                                    "product_id": "174",
                                    "product_name": "Trek Domane SLR Disc Frameset - 2018"
                                },
                                {
                                    "product_id": "175",
                                    "product_name": "Trek Domane SLR Frameset - 2018"
                                },
                                {
                                    "product_id": "176",
                                    "product_name": "Trek Madone 9 Frameset - 2018"
                                },
                                {
                                    "product_id": "177",
                                    "product_name": "Trek Domane SLR 6 Disc - 2018"
                                },
                                {
                                    "product_id": "178",
                                    "product_name": "Trek Domane AL 2 - 2018"
                                },
                                {
                                    "product_id": "179",
                                    "product_name": "Trek Domane AL 3 - 2018"
                                },
                                {
                                    "product_id": "180",
                                    "product_name": "Trek Domane AL 3 Women's - 2018"
                                },
                                {
                                    "product_id": "181",
                                    "product_name": "Trek Domane SL 5 - 2018"
                                },
                                {
                                    "product_id": "182",
                                    "product_name": "Trek Domane SL 5 Disc - 2018"
                                },
                                {
                                    "product_id": "183",
                                    "product_name": "Trek Domane SL 5 Women's - 2018"
                                },
                                {
                                    "product_id": "184",
                                    "product_name": "Trek Domane SL 6 Disc - 2018"
                                },
                                {
                                    "product_id": "316",
                                    "product_name": "Trek Checkpoint ALR 4 Women's - 2019"
                                },
                                {
                                    "product_id": "317",
                                    "product_name": "Trek Checkpoint ALR 5 - 2019"
                                },
                                {
                                    "product_id": "318",
                                    "product_name": "Trek Checkpoint ALR 5 Women's - 2019"
                                },
                                {
                                    "product_id": "319",
                                    "product_name": "Trek Checkpoint SL 5 Women's - 2019"
                                },
                                {
                                    "product_id": "320",
                                    "product_name": "Trek Checkpoint SL 6 - 2019"
                                },
                                {
                                    "product_id": "321",
                                    "product_name": "Trek Checkpoint ALR Frameset - 2019"
                                }
                            ]
                        },
                        "text/html": "<table><tr><th>product_id</th><th>product_name</th></tr><tr><td>1</td><td>Trek 820 - 2016</td></tr><tr><td>2</td><td>Ritchey Timberwolf Frameset - 2016</td></tr><tr><td>3</td><td>Surly Wednesday Frameset - 2016</td></tr><tr><td>4</td><td>Trek Fuel EX 8 29 - 2016</td></tr><tr><td>5</td><td>Heller Shagamaw Frame - 2016</td></tr><tr><td>6</td><td>Surly Ice Cream Truck Frameset - 2016</td></tr><tr><td>7</td><td>Trek Slash 8 27.5 - 2016</td></tr><tr><td>8</td><td>Trek Remedy 29 Carbon Frameset - 2016</td></tr><tr><td>27</td><td>Surly Big Dummy Frameset - 2017</td></tr><tr><td>28</td><td>Surly Karate Monkey 27.5+ Frameset - 2017</td></tr><tr><td>29</td><td>Trek X-Caliber 8 - 2017</td></tr><tr><td>30</td><td>Surly Ice Cream Truck Frameset - 2017</td></tr><tr><td>31</td><td>Surly Wednesday - 2017</td></tr><tr><td>32</td><td>Trek Farley Alloy Frameset - 2017</td></tr><tr><td>33</td><td>Surly Wednesday Frameset - 2017</td></tr><tr><td>34</td><td>Trek Session DH 27.5 Carbon Frameset - 2017</td></tr><tr><td>35</td><td>Sun Bicycles Spider 3i - 2017</td></tr><tr><td>36</td><td>Surly Troll Frameset - 2017</td></tr><tr><td>37</td><td>Haro Flightline One ST - 2017</td></tr><tr><td>38</td><td>Haro Flightline Two 26 Plus - 2017</td></tr><tr><td>39</td><td>Trek Stache 5 - 2017</td></tr><tr><td>40</td><td>Trek Fuel EX 9.8 29 - 2017</td></tr><tr><td>41</td><td>Haro Shift R3 - 2017</td></tr><tr><td>42</td><td>Trek Fuel EX 5 27.5 Plus - 2017</td></tr><tr><td>43</td><td>Trek Fuel EX 9.8 27.5 Plus - 2017</td></tr><tr><td>44</td><td>Haro SR 1.1 - 2017</td></tr><tr><td>45</td><td>Haro SR 1.2 - 2017</td></tr><tr><td>46</td><td>Haro SR 1.3 - 2017</td></tr><tr><td>47</td><td>Trek Remedy 9.8 - 2017</td></tr><tr><td>48</td><td>Trek Emonda S 4 - 2017</td></tr><tr><td>49</td><td>Trek Domane SL 6 - 2017</td></tr><tr><td>50</td><td>Trek Silque SLR 7 Women&#39;s - 2017</td></tr><tr><td>51</td><td>Trek Silque SLR 8 Women&#39;s - 2017</td></tr><tr><td>52</td><td>Surly Steamroller - 2017</td></tr><tr><td>53</td><td>Surly Ogre Frameset - 2017</td></tr><tr><td>54</td><td>Trek Domane SL Disc Frameset - 2017</td></tr><tr><td>55</td><td>Trek Domane S 6 - 2017</td></tr><tr><td>56</td><td>Trek Domane SLR 6 Disc - 2017</td></tr><tr><td>57</td><td>Trek Emonda S 5 - 2017</td></tr><tr><td>58</td><td>Trek Madone 9.2 - 2017</td></tr><tr><td>59</td><td>Trek Domane S 5 Disc - 2017</td></tr><tr><td>112</td><td>Trek 820 - 2018</td></tr><tr><td>113</td><td>Trek Marlin 5 - 2018</td></tr><tr><td>114</td><td>Trek Marlin 6 - 2018</td></tr><tr><td>115</td><td>Trek Fuel EX 8 29 - 2018</td></tr><tr><td>116</td><td>Trek Marlin 7 - 2017/2018</td></tr><tr><td>117</td><td>Trek Ticket S Frame - 2018</td></tr><tr><td>118</td><td>Trek X-Caliber 8 - 2018</td></tr><tr><td>119</td><td>Trek Kids&#39; Neko - 2018</td></tr><tr><td>120</td><td>Trek Fuel EX 7 29 - 2018</td></tr><tr><td>121</td><td>Surly Krampus Frameset - 2018</td></tr><tr><td>122</td><td>Surly Troll Frameset - 2018</td></tr><tr><td>123</td><td>Trek Farley Carbon Frameset - 2018</td></tr><tr><td>124</td><td>Surly Krampus - 2018</td></tr><tr><td>125</td><td>Trek Kids&#39; Dual Sport - 2018</td></tr><tr><td>126</td><td>Surly Big Fat Dummy Frameset - 2018</td></tr><tr><td>127</td><td>Surly Pack Rat Frameset - 2018</td></tr><tr><td>128</td><td>Surly ECR 27.5 - 2018</td></tr><tr><td>129</td><td>Trek X-Caliber 7 - 2018</td></tr><tr><td>130</td><td>Trek Stache Carbon Frameset - 2018</td></tr><tr><td>131</td><td>Heller Bloodhound Trail - 2018</td></tr><tr><td>132</td><td>Trek Procal AL Frameset - 2018</td></tr><tr><td>133</td><td>Trek Procaliber Frameset - 2018</td></tr><tr><td>134</td><td>Trek Remedy 27.5 C Frameset - 2018</td></tr><tr><td>135</td><td>Trek X-Caliber Frameset - 2018</td></tr><tr><td>136</td><td>Trek Procaliber 6 - 2018</td></tr><tr><td>137</td><td>Heller Shagamaw GX1 - 2018</td></tr><tr><td>138</td><td>Trek Fuel EX 5 Plus - 2018</td></tr><tr><td>139</td><td>Trek Remedy 7 27.5 - 2018</td></tr><tr><td>140</td><td>Trek Remedy 9.8 27.5 - 2018</td></tr><tr><td>141</td><td>Trek Stache 5 - 2018</td></tr><tr><td>142</td><td>Trek Fuel EX 8 29 XT - 2018</td></tr><tr><td>143</td><td>Trek Domane ALR 3 - 2018</td></tr><tr><td>144</td><td>Trek Domane ALR 4 Disc - 2018</td></tr><tr><td>145</td><td>Trek Domane ALR 5 Disc - 2018</td></tr><tr><td>146</td><td>Trek Domane SLR 6 - 2018</td></tr><tr><td>147</td><td>Trek Domane ALR 5 Gravel - 2018</td></tr><tr><td>148</td><td>Trek Domane SL 8 Disc - 2018</td></tr><tr><td>149</td><td>Trek Domane SLR 8 Disc - 2018</td></tr><tr><td>150</td><td>Trek Emonda SL 7 - 2018</td></tr><tr><td>151</td><td>Trek Domane ALR 4 Disc Women&#39;s - 2018</td></tr><tr><td>152</td><td>Trek Domane SL 5 Disc Women&#39;s - 2018</td></tr><tr><td>153</td><td>Trek Domane SL 7 Women&#39;s - 2018</td></tr><tr><td>154</td><td>Trek Domane SLR 6 Disc Women&#39;s - 2018</td></tr><tr><td>155</td><td>Trek Domane SLR 9 Disc - 2018</td></tr><tr><td>156</td><td>Trek Domane SL Frameset - 2018</td></tr><tr><td>157</td><td>Trek Domane SL Frameset Women&#39;s - 2018</td></tr><tr><td>158</td><td>Trek CrossRip 1 - 2018</td></tr><tr><td>159</td><td>Trek Emonda ALR 6 - 2018</td></tr><tr><td>160</td><td>Trek Emonda SLR 6 - 2018</td></tr><tr><td>161</td><td>Surly ECR - 2018</td></tr><tr><td>162</td><td>Trek Emonda SL 6 Disc - 2018</td></tr><tr><td>163</td><td>Surly Pack Rat - 2018</td></tr><tr><td>164</td><td>Surly Straggler 650b - 2018</td></tr><tr><td>165</td><td>Trek 1120 - 2018</td></tr><tr><td>166</td><td>Trek Domane AL 2 Women&#39;s - 2018</td></tr><tr><td>167</td><td>Surly ECR Frameset - 2018</td></tr><tr><td>168</td><td>Surly Straggler - 2018</td></tr><tr><td>169</td><td>Trek Emonda SLR 8 - 2018</td></tr><tr><td>170</td><td>Trek CrossRip 2 - 2018</td></tr><tr><td>171</td><td>Trek Domane SL 6 - 2018</td></tr><tr><td>172</td><td>Trek Domane ALR Disc Frameset - 2018</td></tr><tr><td>173</td><td>Trek Domane ALR Frameset - 2018</td></tr><tr><td>174</td><td>Trek Domane SLR Disc Frameset - 2018</td></tr><tr><td>175</td><td>Trek Domane SLR Frameset - 2018</td></tr><tr><td>176</td><td>Trek Madone 9 Frameset - 2018</td></tr><tr><td>177</td><td>Trek Domane SLR 6 Disc - 2018</td></tr><tr><td>178</td><td>Trek Domane AL 2 - 2018</td></tr><tr><td>179</td><td>Trek Domane AL 3 - 2018</td></tr><tr><td>180</td><td>Trek Domane AL 3 Women&#39;s - 2018</td></tr><tr><td>181</td><td>Trek Domane SL 5 - 2018</td></tr><tr><td>182</td><td>Trek Domane SL 5 Disc - 2018</td></tr><tr><td>183</td><td>Trek Domane SL 5 Women&#39;s - 2018</td></tr><tr><td>184</td><td>Trek Domane SL 6 Disc - 2018</td></tr><tr><td>316</td><td>Trek Checkpoint ALR 4 Women&#39;s - 2019</td></tr><tr><td>317</td><td>Trek Checkpoint ALR 5 - 2019</td></tr><tr><td>318</td><td>Trek Checkpoint ALR 5 Women&#39;s - 2019</td></tr><tr><td>319</td><td>Trek Checkpoint SL 5 Women&#39;s - 2019</td></tr><tr><td>320</td><td>Trek Checkpoint SL 6 - 2019</td></tr><tr><td>321</td><td>Trek Checkpoint ALR Frameset - 2019</td></tr></table>"
                    },
                    "metadata": {}
                }
            ],
            "execution_count": 4
        }
    ]
}